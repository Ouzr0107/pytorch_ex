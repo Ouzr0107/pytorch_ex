{
 "nbformat": 4,
 "nbformat_minor": 0,
 "metadata": {
  "colab": {
   "name": "04_pytorch_custom_datasets_exercises.ipynb",
   "provenance": [],
   "collapsed_sections": [],
   "authorship_tag": "ABX9TyO06uacGGDzw0TkyZ8mqgSU",
   "include_colab_link": true
  },
  "kernelspec": {
   "name": "python3",
   "display_name": "Python 3 (ipykernel)",
   "language": "python"
  },
  "language_info": {
   "name": "python"
  },
  "accelerator": "GPU"
 },
 "cells": [
  {
   "cell_type": "markdown",
   "metadata": {
    "id": "view-in-github",
    "colab_type": "text"
   },
   "source": [
    "<a href=\"https://colab.research.google.com/github/mrdbourke/pytorch-deep-learning/blob/main/extras/exercises/04_pytorch_custom_datasets_exercises.ipynb\" target=\"_parent\"><img src=\"https://colab.research.google.com/assets/colab-badge.svg\" alt=\"Open In Colab\"/></a>"
   ]
  },
  {
   "cell_type": "markdown",
   "source": [
    "# 04. PyTorch Custom Datasets Exercises Template\n",
    "\n",
    "Welcome to the 04. PyTorch Custom Datasets exercise template.\n",
    "\n",
    "The best way to practice PyTorch code is to write more PyTorch code.\n",
    "\n",
    "So read the original notebook and try to complete the exercises by writing code where it's required.\n",
    "\n",
    "Feel free to reference the original resources whenever you need but should practice writing all of the code yourself.\n",
    "\n",
    "## Resources\n",
    "\n",
    "1. These exercises/solutions are based on [notebook 04 of the Learn PyTorch for Deep Learning course](https://www.learnpytorch.io/04_pytorch_custom_datasets/).\n",
    "2. See a live [walkthrough of the solutions (errors and all) on YouTube](https://youtu.be/vsFMF9wqWx0).\n",
    "3. See [other solutions on the course GitHub](https://github.com/mrdbourke/pytorch-deep-learning/tree/main/extras/solutions)."
   ],
   "metadata": {
    "id": "Vex99np2wFVt"
   }
  },
  {
   "cell_type": "code",
   "source": [
    "from joblib.externals.loky import cpu_count\n",
    "from typing_extensions import dataclass_transform\n",
    "# Check for GPU\n",
    "!nvidia-smi"
   ],
   "metadata": {
    "colab": {
     "base_uri": "https://localhost:8080/"
    },
    "id": "GaeYzOTLwWh2",
    "outputId": "14673108-7705-4e73-b7bc-d94bf9c96423",
    "collapsed": true,
    "ExecuteTime": {
     "end_time": "2025-09-17T11:35:51.892490400Z",
     "start_time": "2025-09-16T02:53:24.218857Z"
    }
   },
   "outputs": [
    {
     "name": "stdout",
     "output_type": "stream",
     "text": [
      "Tue Sep 16 10:53:24 2025       \n",
      "+-----------------------------------------------------------------------------------------+\n",
      "| NVIDIA-SMI 580.88                 Driver Version: 580.88         CUDA Version: 13.0     |\n",
      "+-----------------------------------------+------------------------+----------------------+\n",
      "| GPU  Name                  Driver-Model | Bus-Id          Disp.A | Volatile Uncorr. ECC |\n",
      "| Fan  Temp   Perf          Pwr:Usage/Cap |           Memory-Usage | GPU-Util  Compute M. |\n",
      "|                                         |                        |               MIG M. |\n",
      "|=========================================+========================+======================|\n",
      "|   0  NVIDIA GeForce RTX 3060 ...  WDDM  |   00000000:01:00.0  On |                  N/A |\n",
      "| N/A   56C    P3             30W /  129W |    4228MiB /   6144MiB |      0%      Default |\n",
      "|                                         |                        |                  N/A |\n",
      "+-----------------------------------------+------------------------+----------------------+\n",
      "\n",
      "+-----------------------------------------------------------------------------------------+\n",
      "| Processes:                                                                              |\n",
      "|  GPU   GI   CI              PID   Type   Process name                        GPU Memory |\n",
      "|        ID   ID                                                               Usage      |\n",
      "|=========================================================================================|\n",
      "|    0   N/A  N/A             260    C+G   ...ram Files\\Tencent\\QQNT\\QQ.exe      N/A      |\n",
      "|    0   N/A  N/A             460    C+G   ....0.3485.66\\msedgewebview2.exe      N/A      |\n",
      "|    0   N/A  N/A             660    C+G   ...yb3d8bbwe\\Microsoft.Notes.exe      N/A      |\n",
      "|    0   N/A  N/A            2760    C+G   ...dzpwqaze\\app\\Twinkle Tray.exe      N/A      |\n",
      "|    0   N/A  N/A            4640    C+G   ...8bbwe\\PhoneExperienceHost.exe      N/A      |\n",
      "|    0   N/A  N/A            4780    C+G   C:\\Windows\\explorer.exe               N/A      |\n",
      "|    0   N/A  N/A            5300    C+G   ...ram Files\\FlClash\\FlClash.exe      N/A      |\n",
      "|    0   N/A  N/A            5688    C+G   ...xyewy\\ShellExperienceHost.exe      N/A      |\n",
      "|    0   N/A  N/A            6932    C+G   ...5n1h2txyewy\\TextInputHost.exe      N/A      |\n",
      "|    0   N/A  N/A            8408    C+G   ...a\\Roaming\\Spotify\\Spotify.exe      N/A      |\n",
      "|    0   N/A  N/A           10988    C+G   ...y\\StartMenuExperienceHost.exe      N/A      |\n",
      "|    0   N/A  N/A           11620    C+G   ...h_cw5n1h2txyewy\\SearchApp.exe      N/A      |\n",
      "|    0   N/A  N/A           12128    C+G   ...ffice6\\promecefpluginhost.exe      N/A      |\n",
      "|    0   N/A  N/A           13020    C+G   ...h_cw5n1h2txyewy\\SearchApp.exe      N/A      |\n",
      "|    0   N/A  N/A           13564    C+G   ...8bbwe\\Microsoft.CmdPal.UI.exe      N/A      |\n",
      "|    0   N/A  N/A           13648    C+G   ...s\\PowerToys.ColorPickerUI.exe      N/A      |\n",
      "|    0   N/A  N/A           13896    C+G   ...Toys\\PowerToys.FancyZones.exe      N/A      |\n",
      "|    0   N/A  N/A           14168    C+G   ...UI3Apps\\PowerToys.Peek.UI.exe      N/A      |\n",
      "|    0   N/A  N/A           14616    C+G   ...roadcast\\NVIDIA Broadcast.exe      N/A      |\n",
      "|    0   N/A  N/A           18340    C+G   ....0.3485.66\\msedgewebview2.exe      N/A      |\n",
      "|    0   N/A  N/A           18512    C+G   ...ef.win7x64\\steamwebhelper.exe      N/A      |\n",
      "|    0   N/A  N/A           20408    C+G   ...acted\\runtime\\WeChatAppEx.exe      N/A      |\n",
      "|    0   N/A  N/A           20892    C+G   ...Telegram Desktop\\Telegram.exe      N/A      |\n",
      "|    0   N/A  N/A           21240    C+G   ...t\\Edge\\Application\\msedge.exe      N/A      |\n",
      "|    0   N/A  N/A           22276    C+G   ...t\\Edge\\Application\\msedge.exe      N/A      |\n",
      "|    0   N/A  N/A           24044    C+G   ...yCharm\\jbr\\bin\\cef_server.exe      N/A      |\n",
      "|    0   N/A  N/A           24652    C+G   ...\\common\\BongoCat\\BongoCat.exe      N/A      |\n",
      "|    0   N/A  N/A           26028    C+G   ...main\\current_new\\DingTalk.exe      N/A      |\n",
      "|    0   N/A  N/A           29756    C+G   ...App_cw5n1h2txyewy\\LockApp.exe      N/A      |\n",
      "|    0   N/A  N/A           34228    C+G   ...ntrolPanel\\SystemSettings.exe      N/A      |\n",
      "|    0   N/A  N/A           37308    C+G   ...ricify Lite\\Lyricify Lite.exe      N/A      |\n",
      "+-----------------------------------------------------------------------------------------+\n"
     ]
    }
   ],
   "execution_count": 1
  },
  {
   "cell_type": "code",
   "source": [
    "# Import torch\n",
    "import torch\n",
    "from torch import nn\n",
    "\n",
    "# Exercises require PyTorch > 1.10.0\n",
    "print(torch.__version__)\n",
    "\n",
    "# Setup device agnostic code\n",
    "device = \"cuda\" if torch.cuda.is_available() else \"cpu\"\n",
    "device"
   ],
   "metadata": {
    "colab": {
     "base_uri": "https://localhost:8080/",
     "height": 53
    },
    "id": "DNwZLMbCzJLk",
    "outputId": "1a7b73e2-ec4b-41b0-b4da-c3216a8a29ac",
    "ExecuteTime": {
     "end_time": "2025-09-17T11:35:51.893463400Z",
     "start_time": "2025-09-17T06:11:58.717920Z"
    }
   },
   "outputs": [
    {
     "name": "stdout",
     "output_type": "stream",
     "text": [
      "2.8.0+cu126\n"
     ]
    },
    {
     "data": {
      "text/plain": [
       "'cuda'"
      ]
     },
     "execution_count": 1,
     "metadata": {},
     "output_type": "execute_result"
    }
   ],
   "execution_count": 1
  },
  {
   "cell_type": "markdown",
   "source": [
    "## 1. Our models are underperforming (not fitting the data well). What are 3 methods for preventing underfitting? Write them down and explain each with a sentence."
   ],
   "metadata": {
    "id": "FSFX7tc1w-en"
   }
  },
  {
   "cell_type": "markdown",
   "source": "添加更多层，调整学习率，增加训练次数",
   "metadata": {
    "id": "-90Qvx9gtrLj"
   }
  },
  {
   "cell_type": "markdown",
   "source": [
    "## 2. Recreate the data loading functions we built in [sections 1, 2, 3 and 4 of notebook 04](https://www.learnpytorch.io/04_pytorch_custom_datasets/). You should have train and test `DataLoader`'s ready to use."
   ],
   "metadata": {
    "id": "oBK-WI6YxDYa"
   }
  },
  {
   "cell_type": "code",
   "source": [
    "# 1. Get data\n",
    "import requests\n",
    "from pathlib import Path\n",
    "import zipfile\n",
    "\n",
    "data_path = Path(\"data/\")\n",
    "image_path = data_path\n",
    "\n",
    "if image_path.is_dir():\n",
    "    print(f\"{image_path} directory exists.\")\n",
    "else:\n",
    "    print(f\"Did not find {image_path} directory, creating one...\")\n",
    "    image_path.mkdir(parents=True, exist_ok=True)\n",
    "\n",
    "with open(data_path / \"tiny-imagenet-200.zip\", \"wb\") as f:\n",
    "    request = requests.get(\"http://cs231n.stanford.edu/tiny-imagenet-200.zip\")\n",
    "    print(\"Downloading Tiny ImageNet...\")\n",
    "    f.write(request.content)\n",
    "\n",
    "with zipfile.ZipFile(data_path / \"tiny-imagenet-200.zip\", \"r\") as zip_ref:\n",
    "    print(\"Unzipping Tiny ImageNet...\")\n",
    "    zip_ref.extractall(image_path)"
   ],
   "metadata": {
    "id": "MZkCPJBR3lw4",
    "ExecuteTime": {
     "end_time": "2025-09-17T11:35:51.897529800Z",
     "start_time": "2025-09-17T06:25:37.199882Z"
    }
   },
   "outputs": [
    {
     "name": "stdout",
     "output_type": "stream",
     "text": [
      "data directory exists.\n",
      "Downloading Tiny ImageNet...\n",
      "Unzipping Tiny ImageNet...\n"
     ]
    }
   ],
   "execution_count": 5
  },
  {
   "cell_type": "code",
   "source": [
    "# 2. Become one with the data\n",
    "import os\n",
    "\n",
    "\n",
    "def walk_through_dir(dir_path):\n",
    "    \"\"\"Walks through dir_path returning file counts of its contents.\"\"\"\n",
    "    for dirpath, dirnames, filenames in os.walk(dir_path):\n",
    "        print(f\"There are {len(dirnames)} directories and {len(filenames)} images in '{dirpath}'.\")\n",
    "\n",
    "\n",
    "walk_through_dir(image_path)"
   ],
   "metadata": {
    "id": "TYmhAX7J52VX",
    "ExecuteTime": {
     "end_time": "2025-09-17T11:35:51.898492700Z",
     "start_time": "2025-09-17T06:29:57.564097Z"
    }
   },
   "outputs": [
    {
     "name": "stdout",
     "output_type": "stream",
     "text": [
      "There are 2 directories and 1 images in 'data'.\n",
      "There are 1 directories and 0 images in 'data\\MNIST'.\n",
      "There are 0 directories and 8 images in 'data\\MNIST\\raw'.\n",
      "There are 3 directories and 2 images in 'data\\tiny-imagenet-200'.\n",
      "There are 1 directories and 0 images in 'data\\tiny-imagenet-200\\test'.\n",
      "There are 0 directories and 10000 images in 'data\\tiny-imagenet-200\\test\\images'.\n",
      "There are 200 directories and 0 images in 'data\\tiny-imagenet-200\\train'.\n",
      "There are 1 directories and 1 images in 'data\\tiny-imagenet-200\\train\\n01443537'.\n",
      "There are 0 directories and 500 images in 'data\\tiny-imagenet-200\\train\\n01443537\\images'.\n",
      "There are 1 directories and 1 images in 'data\\tiny-imagenet-200\\train\\n01629819'.\n",
      "There are 0 directories and 500 images in 'data\\tiny-imagenet-200\\train\\n01629819\\images'.\n",
      "There are 1 directories and 1 images in 'data\\tiny-imagenet-200\\train\\n01641577'.\n",
      "There are 0 directories and 500 images in 'data\\tiny-imagenet-200\\train\\n01641577\\images'.\n",
      "There are 1 directories and 1 images in 'data\\tiny-imagenet-200\\train\\n01644900'.\n",
      "There are 0 directories and 500 images in 'data\\tiny-imagenet-200\\train\\n01644900\\images'.\n",
      "There are 1 directories and 1 images in 'data\\tiny-imagenet-200\\train\\n01698640'.\n",
      "There are 0 directories and 500 images in 'data\\tiny-imagenet-200\\train\\n01698640\\images'.\n",
      "There are 1 directories and 1 images in 'data\\tiny-imagenet-200\\train\\n01742172'.\n",
      "There are 0 directories and 500 images in 'data\\tiny-imagenet-200\\train\\n01742172\\images'.\n",
      "There are 1 directories and 1 images in 'data\\tiny-imagenet-200\\train\\n01768244'.\n",
      "There are 0 directories and 500 images in 'data\\tiny-imagenet-200\\train\\n01768244\\images'.\n",
      "There are 1 directories and 1 images in 'data\\tiny-imagenet-200\\train\\n01770393'.\n",
      "There are 0 directories and 500 images in 'data\\tiny-imagenet-200\\train\\n01770393\\images'.\n",
      "There are 1 directories and 1 images in 'data\\tiny-imagenet-200\\train\\n01774384'.\n",
      "There are 0 directories and 500 images in 'data\\tiny-imagenet-200\\train\\n01774384\\images'.\n",
      "There are 1 directories and 1 images in 'data\\tiny-imagenet-200\\train\\n01774750'.\n",
      "There are 0 directories and 500 images in 'data\\tiny-imagenet-200\\train\\n01774750\\images'.\n",
      "There are 1 directories and 1 images in 'data\\tiny-imagenet-200\\train\\n01784675'.\n",
      "There are 0 directories and 500 images in 'data\\tiny-imagenet-200\\train\\n01784675\\images'.\n",
      "There are 1 directories and 1 images in 'data\\tiny-imagenet-200\\train\\n01855672'.\n",
      "There are 0 directories and 500 images in 'data\\tiny-imagenet-200\\train\\n01855672\\images'.\n",
      "There are 1 directories and 1 images in 'data\\tiny-imagenet-200\\train\\n01882714'.\n",
      "There are 0 directories and 500 images in 'data\\tiny-imagenet-200\\train\\n01882714\\images'.\n",
      "There are 1 directories and 1 images in 'data\\tiny-imagenet-200\\train\\n01910747'.\n",
      "There are 0 directories and 500 images in 'data\\tiny-imagenet-200\\train\\n01910747\\images'.\n",
      "There are 1 directories and 1 images in 'data\\tiny-imagenet-200\\train\\n01917289'.\n",
      "There are 0 directories and 500 images in 'data\\tiny-imagenet-200\\train\\n01917289\\images'.\n",
      "There are 1 directories and 1 images in 'data\\tiny-imagenet-200\\train\\n01944390'.\n",
      "There are 0 directories and 500 images in 'data\\tiny-imagenet-200\\train\\n01944390\\images'.\n",
      "There are 1 directories and 1 images in 'data\\tiny-imagenet-200\\train\\n01945685'.\n",
      "There are 0 directories and 500 images in 'data\\tiny-imagenet-200\\train\\n01945685\\images'.\n",
      "There are 1 directories and 1 images in 'data\\tiny-imagenet-200\\train\\n01950731'.\n",
      "There are 0 directories and 500 images in 'data\\tiny-imagenet-200\\train\\n01950731\\images'.\n",
      "There are 1 directories and 1 images in 'data\\tiny-imagenet-200\\train\\n01983481'.\n",
      "There are 0 directories and 500 images in 'data\\tiny-imagenet-200\\train\\n01983481\\images'.\n",
      "There are 1 directories and 1 images in 'data\\tiny-imagenet-200\\train\\n01984695'.\n",
      "There are 0 directories and 500 images in 'data\\tiny-imagenet-200\\train\\n01984695\\images'.\n",
      "There are 1 directories and 1 images in 'data\\tiny-imagenet-200\\train\\n02002724'.\n",
      "There are 0 directories and 500 images in 'data\\tiny-imagenet-200\\train\\n02002724\\images'.\n",
      "There are 1 directories and 1 images in 'data\\tiny-imagenet-200\\train\\n02056570'.\n",
      "There are 0 directories and 500 images in 'data\\tiny-imagenet-200\\train\\n02056570\\images'.\n",
      "There are 1 directories and 1 images in 'data\\tiny-imagenet-200\\train\\n02058221'.\n",
      "There are 0 directories and 500 images in 'data\\tiny-imagenet-200\\train\\n02058221\\images'.\n",
      "There are 1 directories and 1 images in 'data\\tiny-imagenet-200\\train\\n02074367'.\n",
      "There are 0 directories and 500 images in 'data\\tiny-imagenet-200\\train\\n02074367\\images'.\n",
      "There are 1 directories and 1 images in 'data\\tiny-imagenet-200\\train\\n02085620'.\n",
      "There are 0 directories and 500 images in 'data\\tiny-imagenet-200\\train\\n02085620\\images'.\n",
      "There are 1 directories and 1 images in 'data\\tiny-imagenet-200\\train\\n02094433'.\n",
      "There are 0 directories and 500 images in 'data\\tiny-imagenet-200\\train\\n02094433\\images'.\n",
      "There are 1 directories and 1 images in 'data\\tiny-imagenet-200\\train\\n02099601'.\n",
      "There are 0 directories and 500 images in 'data\\tiny-imagenet-200\\train\\n02099601\\images'.\n",
      "There are 1 directories and 1 images in 'data\\tiny-imagenet-200\\train\\n02099712'.\n",
      "There are 0 directories and 500 images in 'data\\tiny-imagenet-200\\train\\n02099712\\images'.\n",
      "There are 1 directories and 1 images in 'data\\tiny-imagenet-200\\train\\n02106662'.\n",
      "There are 0 directories and 500 images in 'data\\tiny-imagenet-200\\train\\n02106662\\images'.\n",
      "There are 1 directories and 1 images in 'data\\tiny-imagenet-200\\train\\n02113799'.\n",
      "There are 0 directories and 500 images in 'data\\tiny-imagenet-200\\train\\n02113799\\images'.\n",
      "There are 1 directories and 1 images in 'data\\tiny-imagenet-200\\train\\n02123045'.\n",
      "There are 0 directories and 500 images in 'data\\tiny-imagenet-200\\train\\n02123045\\images'.\n",
      "There are 1 directories and 1 images in 'data\\tiny-imagenet-200\\train\\n02123394'.\n",
      "There are 0 directories and 500 images in 'data\\tiny-imagenet-200\\train\\n02123394\\images'.\n",
      "There are 1 directories and 1 images in 'data\\tiny-imagenet-200\\train\\n02124075'.\n",
      "There are 0 directories and 500 images in 'data\\tiny-imagenet-200\\train\\n02124075\\images'.\n",
      "There are 1 directories and 1 images in 'data\\tiny-imagenet-200\\train\\n02125311'.\n",
      "There are 0 directories and 500 images in 'data\\tiny-imagenet-200\\train\\n02125311\\images'.\n",
      "There are 1 directories and 1 images in 'data\\tiny-imagenet-200\\train\\n02129165'.\n",
      "There are 0 directories and 500 images in 'data\\tiny-imagenet-200\\train\\n02129165\\images'.\n",
      "There are 1 directories and 1 images in 'data\\tiny-imagenet-200\\train\\n02132136'.\n",
      "There are 0 directories and 500 images in 'data\\tiny-imagenet-200\\train\\n02132136\\images'.\n",
      "There are 1 directories and 1 images in 'data\\tiny-imagenet-200\\train\\n02165456'.\n",
      "There are 0 directories and 500 images in 'data\\tiny-imagenet-200\\train\\n02165456\\images'.\n",
      "There are 1 directories and 1 images in 'data\\tiny-imagenet-200\\train\\n02190166'.\n",
      "There are 0 directories and 500 images in 'data\\tiny-imagenet-200\\train\\n02190166\\images'.\n",
      "There are 1 directories and 1 images in 'data\\tiny-imagenet-200\\train\\n02206856'.\n",
      "There are 0 directories and 500 images in 'data\\tiny-imagenet-200\\train\\n02206856\\images'.\n",
      "There are 1 directories and 1 images in 'data\\tiny-imagenet-200\\train\\n02226429'.\n",
      "There are 0 directories and 500 images in 'data\\tiny-imagenet-200\\train\\n02226429\\images'.\n",
      "There are 1 directories and 1 images in 'data\\tiny-imagenet-200\\train\\n02231487'.\n",
      "There are 0 directories and 500 images in 'data\\tiny-imagenet-200\\train\\n02231487\\images'.\n",
      "There are 1 directories and 1 images in 'data\\tiny-imagenet-200\\train\\n02233338'.\n",
      "There are 0 directories and 500 images in 'data\\tiny-imagenet-200\\train\\n02233338\\images'.\n",
      "There are 1 directories and 1 images in 'data\\tiny-imagenet-200\\train\\n02236044'.\n",
      "There are 0 directories and 500 images in 'data\\tiny-imagenet-200\\train\\n02236044\\images'.\n",
      "There are 1 directories and 1 images in 'data\\tiny-imagenet-200\\train\\n02268443'.\n",
      "There are 0 directories and 500 images in 'data\\tiny-imagenet-200\\train\\n02268443\\images'.\n",
      "There are 1 directories and 1 images in 'data\\tiny-imagenet-200\\train\\n02279972'.\n",
      "There are 0 directories and 500 images in 'data\\tiny-imagenet-200\\train\\n02279972\\images'.\n",
      "There are 1 directories and 1 images in 'data\\tiny-imagenet-200\\train\\n02281406'.\n",
      "There are 0 directories and 500 images in 'data\\tiny-imagenet-200\\train\\n02281406\\images'.\n",
      "There are 1 directories and 1 images in 'data\\tiny-imagenet-200\\train\\n02321529'.\n",
      "There are 0 directories and 500 images in 'data\\tiny-imagenet-200\\train\\n02321529\\images'.\n",
      "There are 1 directories and 1 images in 'data\\tiny-imagenet-200\\train\\n02364673'.\n",
      "There are 0 directories and 500 images in 'data\\tiny-imagenet-200\\train\\n02364673\\images'.\n",
      "There are 1 directories and 1 images in 'data\\tiny-imagenet-200\\train\\n02395406'.\n",
      "There are 0 directories and 500 images in 'data\\tiny-imagenet-200\\train\\n02395406\\images'.\n",
      "There are 1 directories and 1 images in 'data\\tiny-imagenet-200\\train\\n02403003'.\n",
      "There are 0 directories and 500 images in 'data\\tiny-imagenet-200\\train\\n02403003\\images'.\n",
      "There are 1 directories and 1 images in 'data\\tiny-imagenet-200\\train\\n02410509'.\n",
      "There are 0 directories and 500 images in 'data\\tiny-imagenet-200\\train\\n02410509\\images'.\n",
      "There are 1 directories and 1 images in 'data\\tiny-imagenet-200\\train\\n02415577'.\n",
      "There are 0 directories and 500 images in 'data\\tiny-imagenet-200\\train\\n02415577\\images'.\n",
      "There are 1 directories and 1 images in 'data\\tiny-imagenet-200\\train\\n02423022'.\n",
      "There are 0 directories and 500 images in 'data\\tiny-imagenet-200\\train\\n02423022\\images'.\n",
      "There are 1 directories and 1 images in 'data\\tiny-imagenet-200\\train\\n02437312'.\n",
      "There are 0 directories and 500 images in 'data\\tiny-imagenet-200\\train\\n02437312\\images'.\n",
      "There are 1 directories and 1 images in 'data\\tiny-imagenet-200\\train\\n02480495'.\n",
      "There are 0 directories and 500 images in 'data\\tiny-imagenet-200\\train\\n02480495\\images'.\n",
      "There are 1 directories and 1 images in 'data\\tiny-imagenet-200\\train\\n02481823'.\n",
      "There are 0 directories and 500 images in 'data\\tiny-imagenet-200\\train\\n02481823\\images'.\n",
      "There are 1 directories and 1 images in 'data\\tiny-imagenet-200\\train\\n02486410'.\n",
      "There are 0 directories and 500 images in 'data\\tiny-imagenet-200\\train\\n02486410\\images'.\n",
      "There are 1 directories and 1 images in 'data\\tiny-imagenet-200\\train\\n02504458'.\n",
      "There are 0 directories and 500 images in 'data\\tiny-imagenet-200\\train\\n02504458\\images'.\n",
      "There are 1 directories and 1 images in 'data\\tiny-imagenet-200\\train\\n02509815'.\n",
      "There are 0 directories and 500 images in 'data\\tiny-imagenet-200\\train\\n02509815\\images'.\n",
      "There are 1 directories and 1 images in 'data\\tiny-imagenet-200\\train\\n02666196'.\n",
      "There are 0 directories and 500 images in 'data\\tiny-imagenet-200\\train\\n02666196\\images'.\n",
      "There are 1 directories and 1 images in 'data\\tiny-imagenet-200\\train\\n02669723'.\n",
      "There are 0 directories and 500 images in 'data\\tiny-imagenet-200\\train\\n02669723\\images'.\n",
      "There are 1 directories and 1 images in 'data\\tiny-imagenet-200\\train\\n02699494'.\n",
      "There are 0 directories and 500 images in 'data\\tiny-imagenet-200\\train\\n02699494\\images'.\n",
      "There are 1 directories and 1 images in 'data\\tiny-imagenet-200\\train\\n02730930'.\n",
      "There are 0 directories and 500 images in 'data\\tiny-imagenet-200\\train\\n02730930\\images'.\n",
      "There are 1 directories and 1 images in 'data\\tiny-imagenet-200\\train\\n02769748'.\n",
      "There are 0 directories and 500 images in 'data\\tiny-imagenet-200\\train\\n02769748\\images'.\n",
      "There are 1 directories and 1 images in 'data\\tiny-imagenet-200\\train\\n02788148'.\n",
      "There are 0 directories and 500 images in 'data\\tiny-imagenet-200\\train\\n02788148\\images'.\n",
      "There are 1 directories and 1 images in 'data\\tiny-imagenet-200\\train\\n02791270'.\n",
      "There are 0 directories and 500 images in 'data\\tiny-imagenet-200\\train\\n02791270\\images'.\n",
      "There are 1 directories and 1 images in 'data\\tiny-imagenet-200\\train\\n02793495'.\n",
      "There are 0 directories and 500 images in 'data\\tiny-imagenet-200\\train\\n02793495\\images'.\n",
      "There are 1 directories and 1 images in 'data\\tiny-imagenet-200\\train\\n02795169'.\n",
      "There are 0 directories and 500 images in 'data\\tiny-imagenet-200\\train\\n02795169\\images'.\n",
      "There are 1 directories and 1 images in 'data\\tiny-imagenet-200\\train\\n02802426'.\n",
      "There are 0 directories and 500 images in 'data\\tiny-imagenet-200\\train\\n02802426\\images'.\n",
      "There are 1 directories and 1 images in 'data\\tiny-imagenet-200\\train\\n02808440'.\n",
      "There are 0 directories and 500 images in 'data\\tiny-imagenet-200\\train\\n02808440\\images'.\n",
      "There are 1 directories and 1 images in 'data\\tiny-imagenet-200\\train\\n02814533'.\n",
      "There are 0 directories and 500 images in 'data\\tiny-imagenet-200\\train\\n02814533\\images'.\n",
      "There are 1 directories and 1 images in 'data\\tiny-imagenet-200\\train\\n02814860'.\n",
      "There are 0 directories and 500 images in 'data\\tiny-imagenet-200\\train\\n02814860\\images'.\n",
      "There are 1 directories and 1 images in 'data\\tiny-imagenet-200\\train\\n02815834'.\n",
      "There are 0 directories and 500 images in 'data\\tiny-imagenet-200\\train\\n02815834\\images'.\n",
      "There are 1 directories and 1 images in 'data\\tiny-imagenet-200\\train\\n02823428'.\n",
      "There are 0 directories and 500 images in 'data\\tiny-imagenet-200\\train\\n02823428\\images'.\n",
      "There are 1 directories and 1 images in 'data\\tiny-imagenet-200\\train\\n02837789'.\n",
      "There are 0 directories and 500 images in 'data\\tiny-imagenet-200\\train\\n02837789\\images'.\n",
      "There are 1 directories and 1 images in 'data\\tiny-imagenet-200\\train\\n02841315'.\n",
      "There are 0 directories and 500 images in 'data\\tiny-imagenet-200\\train\\n02841315\\images'.\n",
      "There are 1 directories and 1 images in 'data\\tiny-imagenet-200\\train\\n02843684'.\n",
      "There are 0 directories and 500 images in 'data\\tiny-imagenet-200\\train\\n02843684\\images'.\n",
      "There are 1 directories and 1 images in 'data\\tiny-imagenet-200\\train\\n02883205'.\n",
      "There are 0 directories and 500 images in 'data\\tiny-imagenet-200\\train\\n02883205\\images'.\n",
      "There are 1 directories and 1 images in 'data\\tiny-imagenet-200\\train\\n02892201'.\n",
      "There are 0 directories and 500 images in 'data\\tiny-imagenet-200\\train\\n02892201\\images'.\n",
      "There are 1 directories and 1 images in 'data\\tiny-imagenet-200\\train\\n02906734'.\n",
      "There are 0 directories and 500 images in 'data\\tiny-imagenet-200\\train\\n02906734\\images'.\n",
      "There are 1 directories and 1 images in 'data\\tiny-imagenet-200\\train\\n02909870'.\n",
      "There are 0 directories and 500 images in 'data\\tiny-imagenet-200\\train\\n02909870\\images'.\n",
      "There are 1 directories and 1 images in 'data\\tiny-imagenet-200\\train\\n02917067'.\n",
      "There are 0 directories and 500 images in 'data\\tiny-imagenet-200\\train\\n02917067\\images'.\n",
      "There are 1 directories and 1 images in 'data\\tiny-imagenet-200\\train\\n02927161'.\n",
      "There are 0 directories and 500 images in 'data\\tiny-imagenet-200\\train\\n02927161\\images'.\n",
      "There are 1 directories and 1 images in 'data\\tiny-imagenet-200\\train\\n02948072'.\n",
      "There are 0 directories and 500 images in 'data\\tiny-imagenet-200\\train\\n02948072\\images'.\n",
      "There are 1 directories and 1 images in 'data\\tiny-imagenet-200\\train\\n02950826'.\n",
      "There are 0 directories and 500 images in 'data\\tiny-imagenet-200\\train\\n02950826\\images'.\n",
      "There are 1 directories and 1 images in 'data\\tiny-imagenet-200\\train\\n02963159'.\n",
      "There are 0 directories and 500 images in 'data\\tiny-imagenet-200\\train\\n02963159\\images'.\n",
      "There are 1 directories and 1 images in 'data\\tiny-imagenet-200\\train\\n02977058'.\n",
      "There are 0 directories and 500 images in 'data\\tiny-imagenet-200\\train\\n02977058\\images'.\n",
      "There are 1 directories and 1 images in 'data\\tiny-imagenet-200\\train\\n02988304'.\n",
      "There are 0 directories and 500 images in 'data\\tiny-imagenet-200\\train\\n02988304\\images'.\n",
      "There are 1 directories and 1 images in 'data\\tiny-imagenet-200\\train\\n02999410'.\n",
      "There are 0 directories and 500 images in 'data\\tiny-imagenet-200\\train\\n02999410\\images'.\n",
      "There are 1 directories and 1 images in 'data\\tiny-imagenet-200\\train\\n03014705'.\n",
      "There are 0 directories and 500 images in 'data\\tiny-imagenet-200\\train\\n03014705\\images'.\n",
      "There are 1 directories and 1 images in 'data\\tiny-imagenet-200\\train\\n03026506'.\n",
      "There are 0 directories and 500 images in 'data\\tiny-imagenet-200\\train\\n03026506\\images'.\n",
      "There are 1 directories and 1 images in 'data\\tiny-imagenet-200\\train\\n03042490'.\n",
      "There are 0 directories and 500 images in 'data\\tiny-imagenet-200\\train\\n03042490\\images'.\n",
      "There are 1 directories and 1 images in 'data\\tiny-imagenet-200\\train\\n03085013'.\n",
      "There are 0 directories and 500 images in 'data\\tiny-imagenet-200\\train\\n03085013\\images'.\n",
      "There are 1 directories and 1 images in 'data\\tiny-imagenet-200\\train\\n03089624'.\n",
      "There are 0 directories and 500 images in 'data\\tiny-imagenet-200\\train\\n03089624\\images'.\n",
      "There are 1 directories and 1 images in 'data\\tiny-imagenet-200\\train\\n03100240'.\n",
      "There are 0 directories and 500 images in 'data\\tiny-imagenet-200\\train\\n03100240\\images'.\n",
      "There are 1 directories and 1 images in 'data\\tiny-imagenet-200\\train\\n03126707'.\n",
      "There are 0 directories and 500 images in 'data\\tiny-imagenet-200\\train\\n03126707\\images'.\n",
      "There are 1 directories and 1 images in 'data\\tiny-imagenet-200\\train\\n03160309'.\n",
      "There are 0 directories and 500 images in 'data\\tiny-imagenet-200\\train\\n03160309\\images'.\n",
      "There are 1 directories and 1 images in 'data\\tiny-imagenet-200\\train\\n03179701'.\n",
      "There are 0 directories and 500 images in 'data\\tiny-imagenet-200\\train\\n03179701\\images'.\n",
      "There are 1 directories and 1 images in 'data\\tiny-imagenet-200\\train\\n03201208'.\n",
      "There are 0 directories and 500 images in 'data\\tiny-imagenet-200\\train\\n03201208\\images'.\n",
      "There are 1 directories and 1 images in 'data\\tiny-imagenet-200\\train\\n03250847'.\n",
      "There are 0 directories and 500 images in 'data\\tiny-imagenet-200\\train\\n03250847\\images'.\n",
      "There are 1 directories and 1 images in 'data\\tiny-imagenet-200\\train\\n03255030'.\n",
      "There are 0 directories and 500 images in 'data\\tiny-imagenet-200\\train\\n03255030\\images'.\n",
      "There are 1 directories and 1 images in 'data\\tiny-imagenet-200\\train\\n03355925'.\n",
      "There are 0 directories and 500 images in 'data\\tiny-imagenet-200\\train\\n03355925\\images'.\n",
      "There are 1 directories and 1 images in 'data\\tiny-imagenet-200\\train\\n03388043'.\n",
      "There are 0 directories and 500 images in 'data\\tiny-imagenet-200\\train\\n03388043\\images'.\n",
      "There are 1 directories and 1 images in 'data\\tiny-imagenet-200\\train\\n03393912'.\n",
      "There are 0 directories and 500 images in 'data\\tiny-imagenet-200\\train\\n03393912\\images'.\n",
      "There are 1 directories and 1 images in 'data\\tiny-imagenet-200\\train\\n03400231'.\n",
      "There are 0 directories and 500 images in 'data\\tiny-imagenet-200\\train\\n03400231\\images'.\n",
      "There are 1 directories and 1 images in 'data\\tiny-imagenet-200\\train\\n03404251'.\n",
      "There are 0 directories and 500 images in 'data\\tiny-imagenet-200\\train\\n03404251\\images'.\n",
      "There are 1 directories and 1 images in 'data\\tiny-imagenet-200\\train\\n03424325'.\n",
      "There are 0 directories and 500 images in 'data\\tiny-imagenet-200\\train\\n03424325\\images'.\n",
      "There are 1 directories and 1 images in 'data\\tiny-imagenet-200\\train\\n03444034'.\n",
      "There are 0 directories and 500 images in 'data\\tiny-imagenet-200\\train\\n03444034\\images'.\n",
      "There are 1 directories and 1 images in 'data\\tiny-imagenet-200\\train\\n03447447'.\n",
      "There are 0 directories and 500 images in 'data\\tiny-imagenet-200\\train\\n03447447\\images'.\n",
      "There are 1 directories and 1 images in 'data\\tiny-imagenet-200\\train\\n03544143'.\n",
      "There are 0 directories and 500 images in 'data\\tiny-imagenet-200\\train\\n03544143\\images'.\n",
      "There are 1 directories and 1 images in 'data\\tiny-imagenet-200\\train\\n03584254'.\n",
      "There are 0 directories and 500 images in 'data\\tiny-imagenet-200\\train\\n03584254\\images'.\n",
      "There are 1 directories and 1 images in 'data\\tiny-imagenet-200\\train\\n03599486'.\n",
      "There are 0 directories and 500 images in 'data\\tiny-imagenet-200\\train\\n03599486\\images'.\n",
      "There are 1 directories and 1 images in 'data\\tiny-imagenet-200\\train\\n03617480'.\n",
      "There are 0 directories and 500 images in 'data\\tiny-imagenet-200\\train\\n03617480\\images'.\n",
      "There are 1 directories and 1 images in 'data\\tiny-imagenet-200\\train\\n03637318'.\n",
      "There are 0 directories and 500 images in 'data\\tiny-imagenet-200\\train\\n03637318\\images'.\n",
      "There are 1 directories and 1 images in 'data\\tiny-imagenet-200\\train\\n03649909'.\n",
      "There are 0 directories and 500 images in 'data\\tiny-imagenet-200\\train\\n03649909\\images'.\n",
      "There are 1 directories and 1 images in 'data\\tiny-imagenet-200\\train\\n03662601'.\n",
      "There are 0 directories and 500 images in 'data\\tiny-imagenet-200\\train\\n03662601\\images'.\n",
      "There are 1 directories and 1 images in 'data\\tiny-imagenet-200\\train\\n03670208'.\n",
      "There are 0 directories and 500 images in 'data\\tiny-imagenet-200\\train\\n03670208\\images'.\n",
      "There are 1 directories and 1 images in 'data\\tiny-imagenet-200\\train\\n03706229'.\n",
      "There are 0 directories and 500 images in 'data\\tiny-imagenet-200\\train\\n03706229\\images'.\n",
      "There are 1 directories and 1 images in 'data\\tiny-imagenet-200\\train\\n03733131'.\n",
      "There are 0 directories and 500 images in 'data\\tiny-imagenet-200\\train\\n03733131\\images'.\n",
      "There are 1 directories and 1 images in 'data\\tiny-imagenet-200\\train\\n03763968'.\n",
      "There are 0 directories and 500 images in 'data\\tiny-imagenet-200\\train\\n03763968\\images'.\n",
      "There are 1 directories and 1 images in 'data\\tiny-imagenet-200\\train\\n03770439'.\n",
      "There are 0 directories and 500 images in 'data\\tiny-imagenet-200\\train\\n03770439\\images'.\n",
      "There are 1 directories and 1 images in 'data\\tiny-imagenet-200\\train\\n03796401'.\n",
      "There are 0 directories and 500 images in 'data\\tiny-imagenet-200\\train\\n03796401\\images'.\n",
      "There are 1 directories and 1 images in 'data\\tiny-imagenet-200\\train\\n03804744'.\n",
      "There are 0 directories and 500 images in 'data\\tiny-imagenet-200\\train\\n03804744\\images'.\n",
      "There are 1 directories and 1 images in 'data\\tiny-imagenet-200\\train\\n03814639'.\n",
      "There are 0 directories and 500 images in 'data\\tiny-imagenet-200\\train\\n03814639\\images'.\n",
      "There are 1 directories and 1 images in 'data\\tiny-imagenet-200\\train\\n03837869'.\n",
      "There are 0 directories and 500 images in 'data\\tiny-imagenet-200\\train\\n03837869\\images'.\n",
      "There are 1 directories and 1 images in 'data\\tiny-imagenet-200\\train\\n03838899'.\n",
      "There are 0 directories and 500 images in 'data\\tiny-imagenet-200\\train\\n03838899\\images'.\n",
      "There are 1 directories and 1 images in 'data\\tiny-imagenet-200\\train\\n03854065'.\n",
      "There are 0 directories and 500 images in 'data\\tiny-imagenet-200\\train\\n03854065\\images'.\n",
      "There are 1 directories and 1 images in 'data\\tiny-imagenet-200\\train\\n03891332'.\n",
      "There are 0 directories and 500 images in 'data\\tiny-imagenet-200\\train\\n03891332\\images'.\n",
      "There are 1 directories and 1 images in 'data\\tiny-imagenet-200\\train\\n03902125'.\n",
      "There are 0 directories and 500 images in 'data\\tiny-imagenet-200\\train\\n03902125\\images'.\n",
      "There are 1 directories and 1 images in 'data\\tiny-imagenet-200\\train\\n03930313'.\n",
      "There are 0 directories and 500 images in 'data\\tiny-imagenet-200\\train\\n03930313\\images'.\n",
      "There are 1 directories and 1 images in 'data\\tiny-imagenet-200\\train\\n03937543'.\n",
      "There are 0 directories and 500 images in 'data\\tiny-imagenet-200\\train\\n03937543\\images'.\n",
      "There are 1 directories and 1 images in 'data\\tiny-imagenet-200\\train\\n03970156'.\n",
      "There are 0 directories and 500 images in 'data\\tiny-imagenet-200\\train\\n03970156\\images'.\n",
      "There are 1 directories and 1 images in 'data\\tiny-imagenet-200\\train\\n03976657'.\n",
      "There are 0 directories and 500 images in 'data\\tiny-imagenet-200\\train\\n03976657\\images'.\n",
      "There are 1 directories and 1 images in 'data\\tiny-imagenet-200\\train\\n03977966'.\n",
      "There are 0 directories and 500 images in 'data\\tiny-imagenet-200\\train\\n03977966\\images'.\n",
      "There are 1 directories and 1 images in 'data\\tiny-imagenet-200\\train\\n03980874'.\n",
      "There are 0 directories and 500 images in 'data\\tiny-imagenet-200\\train\\n03980874\\images'.\n",
      "There are 1 directories and 1 images in 'data\\tiny-imagenet-200\\train\\n03983396'.\n",
      "There are 0 directories and 500 images in 'data\\tiny-imagenet-200\\train\\n03983396\\images'.\n",
      "There are 1 directories and 1 images in 'data\\tiny-imagenet-200\\train\\n03992509'.\n",
      "There are 0 directories and 500 images in 'data\\tiny-imagenet-200\\train\\n03992509\\images'.\n",
      "There are 1 directories and 1 images in 'data\\tiny-imagenet-200\\train\\n04008634'.\n",
      "There are 0 directories and 500 images in 'data\\tiny-imagenet-200\\train\\n04008634\\images'.\n",
      "There are 1 directories and 1 images in 'data\\tiny-imagenet-200\\train\\n04023962'.\n",
      "There are 0 directories and 500 images in 'data\\tiny-imagenet-200\\train\\n04023962\\images'.\n",
      "There are 1 directories and 1 images in 'data\\tiny-imagenet-200\\train\\n04067472'.\n",
      "There are 0 directories and 500 images in 'data\\tiny-imagenet-200\\train\\n04067472\\images'.\n",
      "There are 1 directories and 1 images in 'data\\tiny-imagenet-200\\train\\n04070727'.\n",
      "There are 0 directories and 500 images in 'data\\tiny-imagenet-200\\train\\n04070727\\images'.\n",
      "There are 1 directories and 1 images in 'data\\tiny-imagenet-200\\train\\n04074963'.\n",
      "There are 0 directories and 500 images in 'data\\tiny-imagenet-200\\train\\n04074963\\images'.\n",
      "There are 1 directories and 1 images in 'data\\tiny-imagenet-200\\train\\n04099969'.\n",
      "There are 0 directories and 500 images in 'data\\tiny-imagenet-200\\train\\n04099969\\images'.\n",
      "There are 1 directories and 1 images in 'data\\tiny-imagenet-200\\train\\n04118538'.\n",
      "There are 0 directories and 500 images in 'data\\tiny-imagenet-200\\train\\n04118538\\images'.\n",
      "There are 1 directories and 1 images in 'data\\tiny-imagenet-200\\train\\n04133789'.\n",
      "There are 0 directories and 500 images in 'data\\tiny-imagenet-200\\train\\n04133789\\images'.\n",
      "There are 1 directories and 1 images in 'data\\tiny-imagenet-200\\train\\n04146614'.\n",
      "There are 0 directories and 500 images in 'data\\tiny-imagenet-200\\train\\n04146614\\images'.\n",
      "There are 1 directories and 1 images in 'data\\tiny-imagenet-200\\train\\n04149813'.\n",
      "There are 0 directories and 500 images in 'data\\tiny-imagenet-200\\train\\n04149813\\images'.\n",
      "There are 1 directories and 1 images in 'data\\tiny-imagenet-200\\train\\n04179913'.\n",
      "There are 0 directories and 500 images in 'data\\tiny-imagenet-200\\train\\n04179913\\images'.\n",
      "There are 1 directories and 1 images in 'data\\tiny-imagenet-200\\train\\n04251144'.\n",
      "There are 0 directories and 500 images in 'data\\tiny-imagenet-200\\train\\n04251144\\images'.\n",
      "There are 1 directories and 1 images in 'data\\tiny-imagenet-200\\train\\n04254777'.\n",
      "There are 0 directories and 500 images in 'data\\tiny-imagenet-200\\train\\n04254777\\images'.\n",
      "There are 1 directories and 1 images in 'data\\tiny-imagenet-200\\train\\n04259630'.\n",
      "There are 0 directories and 500 images in 'data\\tiny-imagenet-200\\train\\n04259630\\images'.\n",
      "There are 1 directories and 1 images in 'data\\tiny-imagenet-200\\train\\n04265275'.\n",
      "There are 0 directories and 500 images in 'data\\tiny-imagenet-200\\train\\n04265275\\images'.\n",
      "There are 1 directories and 1 images in 'data\\tiny-imagenet-200\\train\\n04275548'.\n",
      "There are 0 directories and 500 images in 'data\\tiny-imagenet-200\\train\\n04275548\\images'.\n",
      "There are 1 directories and 1 images in 'data\\tiny-imagenet-200\\train\\n04285008'.\n",
      "There are 0 directories and 500 images in 'data\\tiny-imagenet-200\\train\\n04285008\\images'.\n",
      "There are 1 directories and 1 images in 'data\\tiny-imagenet-200\\train\\n04311004'.\n",
      "There are 0 directories and 500 images in 'data\\tiny-imagenet-200\\train\\n04311004\\images'.\n",
      "There are 1 directories and 1 images in 'data\\tiny-imagenet-200\\train\\n04328186'.\n",
      "There are 0 directories and 500 images in 'data\\tiny-imagenet-200\\train\\n04328186\\images'.\n",
      "There are 1 directories and 1 images in 'data\\tiny-imagenet-200\\train\\n04356056'.\n",
      "There are 0 directories and 500 images in 'data\\tiny-imagenet-200\\train\\n04356056\\images'.\n",
      "There are 1 directories and 1 images in 'data\\tiny-imagenet-200\\train\\n04366367'.\n",
      "There are 0 directories and 500 images in 'data\\tiny-imagenet-200\\train\\n04366367\\images'.\n",
      "There are 1 directories and 1 images in 'data\\tiny-imagenet-200\\train\\n04371430'.\n",
      "There are 0 directories and 500 images in 'data\\tiny-imagenet-200\\train\\n04371430\\images'.\n",
      "There are 1 directories and 1 images in 'data\\tiny-imagenet-200\\train\\n04376876'.\n",
      "There are 0 directories and 500 images in 'data\\tiny-imagenet-200\\train\\n04376876\\images'.\n",
      "There are 1 directories and 1 images in 'data\\tiny-imagenet-200\\train\\n04398044'.\n",
      "There are 0 directories and 500 images in 'data\\tiny-imagenet-200\\train\\n04398044\\images'.\n",
      "There are 1 directories and 1 images in 'data\\tiny-imagenet-200\\train\\n04399382'.\n",
      "There are 0 directories and 500 images in 'data\\tiny-imagenet-200\\train\\n04399382\\images'.\n",
      "There are 1 directories and 1 images in 'data\\tiny-imagenet-200\\train\\n04417672'.\n",
      "There are 0 directories and 500 images in 'data\\tiny-imagenet-200\\train\\n04417672\\images'.\n",
      "There are 1 directories and 1 images in 'data\\tiny-imagenet-200\\train\\n04456115'.\n",
      "There are 0 directories and 500 images in 'data\\tiny-imagenet-200\\train\\n04456115\\images'.\n",
      "There are 1 directories and 1 images in 'data\\tiny-imagenet-200\\train\\n04465501'.\n",
      "There are 0 directories and 500 images in 'data\\tiny-imagenet-200\\train\\n04465501\\images'.\n",
      "There are 1 directories and 1 images in 'data\\tiny-imagenet-200\\train\\n04486054'.\n",
      "There are 0 directories and 500 images in 'data\\tiny-imagenet-200\\train\\n04486054\\images'.\n",
      "There are 1 directories and 1 images in 'data\\tiny-imagenet-200\\train\\n04487081'.\n",
      "There are 0 directories and 500 images in 'data\\tiny-imagenet-200\\train\\n04487081\\images'.\n",
      "There are 1 directories and 1 images in 'data\\tiny-imagenet-200\\train\\n04501370'.\n",
      "There are 0 directories and 500 images in 'data\\tiny-imagenet-200\\train\\n04501370\\images'.\n",
      "There are 1 directories and 1 images in 'data\\tiny-imagenet-200\\train\\n04507155'.\n",
      "There are 0 directories and 500 images in 'data\\tiny-imagenet-200\\train\\n04507155\\images'.\n",
      "There are 1 directories and 1 images in 'data\\tiny-imagenet-200\\train\\n04532106'.\n",
      "There are 0 directories and 500 images in 'data\\tiny-imagenet-200\\train\\n04532106\\images'.\n",
      "There are 1 directories and 1 images in 'data\\tiny-imagenet-200\\train\\n04532670'.\n",
      "There are 0 directories and 500 images in 'data\\tiny-imagenet-200\\train\\n04532670\\images'.\n",
      "There are 1 directories and 1 images in 'data\\tiny-imagenet-200\\train\\n04540053'.\n",
      "There are 0 directories and 500 images in 'data\\tiny-imagenet-200\\train\\n04540053\\images'.\n",
      "There are 1 directories and 1 images in 'data\\tiny-imagenet-200\\train\\n04560804'.\n",
      "There are 0 directories and 500 images in 'data\\tiny-imagenet-200\\train\\n04560804\\images'.\n",
      "There are 1 directories and 1 images in 'data\\tiny-imagenet-200\\train\\n04562935'.\n",
      "There are 0 directories and 500 images in 'data\\tiny-imagenet-200\\train\\n04562935\\images'.\n",
      "There are 1 directories and 1 images in 'data\\tiny-imagenet-200\\train\\n04596742'.\n",
      "There are 0 directories and 500 images in 'data\\tiny-imagenet-200\\train\\n04596742\\images'.\n",
      "There are 1 directories and 1 images in 'data\\tiny-imagenet-200\\train\\n04597913'.\n",
      "There are 0 directories and 500 images in 'data\\tiny-imagenet-200\\train\\n04597913\\images'.\n",
      "There are 1 directories and 1 images in 'data\\tiny-imagenet-200\\train\\n06596364'.\n",
      "There are 0 directories and 500 images in 'data\\tiny-imagenet-200\\train\\n06596364\\images'.\n",
      "There are 1 directories and 1 images in 'data\\tiny-imagenet-200\\train\\n07579787'.\n",
      "There are 0 directories and 500 images in 'data\\tiny-imagenet-200\\train\\n07579787\\images'.\n",
      "There are 1 directories and 1 images in 'data\\tiny-imagenet-200\\train\\n07583066'.\n",
      "There are 0 directories and 500 images in 'data\\tiny-imagenet-200\\train\\n07583066\\images'.\n",
      "There are 1 directories and 1 images in 'data\\tiny-imagenet-200\\train\\n07614500'.\n",
      "There are 0 directories and 500 images in 'data\\tiny-imagenet-200\\train\\n07614500\\images'.\n",
      "There are 1 directories and 1 images in 'data\\tiny-imagenet-200\\train\\n07615774'.\n",
      "There are 0 directories and 500 images in 'data\\tiny-imagenet-200\\train\\n07615774\\images'.\n",
      "There are 1 directories and 1 images in 'data\\tiny-imagenet-200\\train\\n07695742'.\n",
      "There are 0 directories and 500 images in 'data\\tiny-imagenet-200\\train\\n07695742\\images'.\n",
      "There are 1 directories and 1 images in 'data\\tiny-imagenet-200\\train\\n07711569'.\n",
      "There are 0 directories and 500 images in 'data\\tiny-imagenet-200\\train\\n07711569\\images'.\n",
      "There are 1 directories and 1 images in 'data\\tiny-imagenet-200\\train\\n07715103'.\n",
      "There are 0 directories and 500 images in 'data\\tiny-imagenet-200\\train\\n07715103\\images'.\n",
      "There are 1 directories and 1 images in 'data\\tiny-imagenet-200\\train\\n07720875'.\n",
      "There are 0 directories and 500 images in 'data\\tiny-imagenet-200\\train\\n07720875\\images'.\n",
      "There are 1 directories and 1 images in 'data\\tiny-imagenet-200\\train\\n07734744'.\n",
      "There are 0 directories and 500 images in 'data\\tiny-imagenet-200\\train\\n07734744\\images'.\n",
      "There are 1 directories and 1 images in 'data\\tiny-imagenet-200\\train\\n07747607'.\n",
      "There are 0 directories and 500 images in 'data\\tiny-imagenet-200\\train\\n07747607\\images'.\n",
      "There are 1 directories and 1 images in 'data\\tiny-imagenet-200\\train\\n07749582'.\n",
      "There are 0 directories and 500 images in 'data\\tiny-imagenet-200\\train\\n07749582\\images'.\n",
      "There are 1 directories and 1 images in 'data\\tiny-imagenet-200\\train\\n07753592'.\n",
      "There are 0 directories and 500 images in 'data\\tiny-imagenet-200\\train\\n07753592\\images'.\n",
      "There are 1 directories and 1 images in 'data\\tiny-imagenet-200\\train\\n07768694'.\n",
      "There are 0 directories and 500 images in 'data\\tiny-imagenet-200\\train\\n07768694\\images'.\n",
      "There are 1 directories and 1 images in 'data\\tiny-imagenet-200\\train\\n07871810'.\n",
      "There are 0 directories and 500 images in 'data\\tiny-imagenet-200\\train\\n07871810\\images'.\n",
      "There are 1 directories and 1 images in 'data\\tiny-imagenet-200\\train\\n07873807'.\n",
      "There are 0 directories and 500 images in 'data\\tiny-imagenet-200\\train\\n07873807\\images'.\n",
      "There are 1 directories and 1 images in 'data\\tiny-imagenet-200\\train\\n07875152'.\n",
      "There are 0 directories and 500 images in 'data\\tiny-imagenet-200\\train\\n07875152\\images'.\n",
      "There are 1 directories and 1 images in 'data\\tiny-imagenet-200\\train\\n07920052'.\n",
      "There are 0 directories and 500 images in 'data\\tiny-imagenet-200\\train\\n07920052\\images'.\n",
      "There are 1 directories and 1 images in 'data\\tiny-imagenet-200\\train\\n09193705'.\n",
      "There are 0 directories and 500 images in 'data\\tiny-imagenet-200\\train\\n09193705\\images'.\n",
      "There are 1 directories and 1 images in 'data\\tiny-imagenet-200\\train\\n09246464'.\n",
      "There are 0 directories and 500 images in 'data\\tiny-imagenet-200\\train\\n09246464\\images'.\n",
      "There are 1 directories and 1 images in 'data\\tiny-imagenet-200\\train\\n09256479'.\n",
      "There are 0 directories and 500 images in 'data\\tiny-imagenet-200\\train\\n09256479\\images'.\n",
      "There are 1 directories and 1 images in 'data\\tiny-imagenet-200\\train\\n09332890'.\n",
      "There are 0 directories and 500 images in 'data\\tiny-imagenet-200\\train\\n09332890\\images'.\n",
      "There are 1 directories and 1 images in 'data\\tiny-imagenet-200\\train\\n09428293'.\n",
      "There are 0 directories and 500 images in 'data\\tiny-imagenet-200\\train\\n09428293\\images'.\n",
      "There are 1 directories and 1 images in 'data\\tiny-imagenet-200\\train\\n12267677'.\n",
      "There are 0 directories and 500 images in 'data\\tiny-imagenet-200\\train\\n12267677\\images'.\n",
      "There are 1 directories and 1 images in 'data\\tiny-imagenet-200\\val'.\n",
      "There are 0 directories and 10000 images in 'data\\tiny-imagenet-200\\val\\images'.\n"
     ]
    }
   ],
   "execution_count": 6
  },
  {
   "cell_type": "code",
   "source": [
    "# Setup train and testing paths\n",
    "image_path = image_path / \"tiny-imagenet-200\"\n",
    "\n",
    "train_path = image_path / \"train\"\n",
    "test_path = image_path / \"val\"\n",
    "\n",
    "train_path, test_path"
   ],
   "metadata": {
    "id": "3A9ZmOn-7Jhh",
    "ExecuteTime": {
     "end_time": "2025-09-17T11:35:51.898492700Z",
     "start_time": "2025-09-17T06:32:26.655210Z"
    }
   },
   "outputs": [
    {
     "data": {
      "text/plain": [
       "(WindowsPath('data/tiny-imagenet-200/train'),\n",
       " WindowsPath('data/tiny-imagenet-200/val'))"
      ]
     },
     "execution_count": 10,
     "metadata": {},
     "output_type": "execute_result"
    }
   ],
   "execution_count": 10
  },
  {
   "metadata": {
    "ExecuteTime": {
     "end_time": "2025-09-17T11:35:51.898492700Z",
     "start_time": "2025-09-17T06:44:19.776020Z"
    }
   },
   "cell_type": "code",
   "source": [
    "# 获取类别字典\n",
    "id_dict = {}\n",
    "\n",
    "with open(image_path / \"wnids.txt\", \"r\") as f:\n",
    "    for line in f.readlines():\n",
    "        id = line.split(\"\\n\")[0]\n",
    "        id_dict[id] = []\n",
    "\n",
    "with open(image_path / \"words.txt\", \"r\") as f:\n",
    "    for line in f.readlines():\n",
    "        id = line.split(\"\\t\")[0]\n",
    "        word = line.split(\"\\t\")[1].split(\"\\n\")[0]\n",
    "        if id in id_dict:\n",
    "            id_dict[id].append(word)\n",
    "\n",
    "id_dict"
   ],
   "outputs": [
    {
     "data": {
      "text/plain": [
       "{'n02124075': ['Egyptian cat'],\n",
       " 'n04067472': ['reel'],\n",
       " 'n04540053': ['volleyball'],\n",
       " 'n04099969': ['rocking chair, rocker'],\n",
       " 'n07749582': ['lemon'],\n",
       " 'n01641577': ['bullfrog, Rana catesbeiana'],\n",
       " 'n02802426': ['basketball'],\n",
       " 'n09246464': ['cliff, drop, drop-off'],\n",
       " 'n07920052': ['espresso'],\n",
       " 'n03970156': [\"plunger, plumber's helper\"],\n",
       " 'n03891332': ['parking meter'],\n",
       " 'n02106662': ['German shepherd, German shepherd dog, German police dog, alsatian'],\n",
       " 'n03201208': ['dining table, board'],\n",
       " 'n02279972': ['monarch, monarch butterfly, milkweed butterfly, Danaus plexippus'],\n",
       " 'n02132136': ['brown bear, bruin, Ursus arctos'],\n",
       " 'n04146614': ['school bus'],\n",
       " 'n07873807': ['pizza, pizza pie'],\n",
       " 'n02364673': ['guinea pig, Cavia cobaya'],\n",
       " 'n04507155': ['umbrella'],\n",
       " 'n03854065': ['organ, pipe organ'],\n",
       " 'n03838899': ['oboe, hautboy, hautbois'],\n",
       " 'n03733131': ['maypole'],\n",
       " 'n01443537': ['goldfish, Carassius auratus'],\n",
       " 'n07875152': ['potpie'],\n",
       " 'n03544143': ['hourglass'],\n",
       " 'n09428293': ['seashore, coast, seacoast, sea-coast'],\n",
       " 'n03085013': ['computer keyboard, keypad'],\n",
       " 'n02437312': ['Arabian camel, dromedary, Camelus dromedarius'],\n",
       " 'n07614500': ['ice cream, icecream'],\n",
       " 'n03804744': ['nail'],\n",
       " 'n04265275': ['space heater'],\n",
       " 'n02963159': ['cardigan'],\n",
       " 'n02486410': ['baboon'],\n",
       " 'n01944390': ['snail'],\n",
       " 'n09256479': ['coral reef'],\n",
       " 'n02058221': ['albatross, mollymawk'],\n",
       " 'n04275548': [\"spider web, spider's web\"],\n",
       " 'n02321529': ['sea cucumber, holothurian'],\n",
       " 'n02769748': ['backpack, back pack, knapsack, packsack, rucksack, haversack'],\n",
       " 'n02099712': ['Labrador retriever'],\n",
       " 'n07695742': ['pretzel'],\n",
       " 'n02056570': ['king penguin, Aptenodytes patagonica'],\n",
       " 'n02281406': ['sulphur butterfly, sulfur butterfly'],\n",
       " 'n01774750': ['tarantula'],\n",
       " 'n02509815': ['lesser panda, red panda, panda, bear cat, cat bear, Ailurus fulgens'],\n",
       " 'n03983396': ['pop bottle, soda bottle'],\n",
       " 'n07753592': ['banana'],\n",
       " 'n04254777': ['sock'],\n",
       " 'n02233338': ['cockroach, roach'],\n",
       " 'n04008634': ['projectile, missile'],\n",
       " 'n02823428': ['beer bottle'],\n",
       " 'n02236044': ['mantis, mantid'],\n",
       " 'n03393912': ['freight car'],\n",
       " 'n07583066': ['guacamole'],\n",
       " 'n04074963': ['remote control, remote'],\n",
       " 'n01629819': ['European fire salamander, Salamandra salamandra'],\n",
       " 'n09332890': ['lakeside, lakeshore'],\n",
       " 'n02481823': ['chimpanzee, chimp, Pan troglodytes'],\n",
       " 'n03902125': ['pay-phone, pay-station'],\n",
       " 'n03404251': ['fur coat'],\n",
       " 'n09193705': ['alp'],\n",
       " 'n03637318': ['lampshade, lamp shade'],\n",
       " 'n04456115': ['torch'],\n",
       " 'n02666196': ['abacus'],\n",
       " 'n03796401': ['moving van'],\n",
       " 'n02795169': ['barrel, cask'],\n",
       " 'n02123045': ['tabby, tabby cat'],\n",
       " 'n01855672': ['goose'],\n",
       " 'n01882714': ['koala, koala bear, kangaroo bear, native bear, Phascolarctos cinereus'],\n",
       " 'n02917067': ['bullet train, bullet'],\n",
       " 'n02988304': ['CD player'],\n",
       " 'n04398044': ['teapot'],\n",
       " 'n02843684': ['birdhouse'],\n",
       " 'n02423022': ['gazelle'],\n",
       " 'n02669723': [\"academic gown, academic robe, judge's robe\"],\n",
       " 'n04465501': ['tractor'],\n",
       " 'n02165456': ['ladybug, ladybeetle, lady beetle, ladybird, ladybird beetle'],\n",
       " 'n03770439': ['miniskirt, mini'],\n",
       " 'n02099601': ['golden retriever'],\n",
       " 'n04486054': ['triumphal arch'],\n",
       " 'n02950826': ['cannon'],\n",
       " 'n03814639': ['neck brace'],\n",
       " 'n04259630': ['sombrero'],\n",
       " 'n03424325': ['gasmask, respirator, gas helmet'],\n",
       " 'n02948072': ['candle, taper, wax light'],\n",
       " 'n03179701': ['desk'],\n",
       " 'n03400231': ['frying pan, frypan, skillet'],\n",
       " 'n02206856': ['bee'],\n",
       " 'n03160309': ['dam, dike, dyke'],\n",
       " 'n01984695': ['spiny lobster, langouste, rock lobster, crawfish, crayfish, sea crawfish'],\n",
       " 'n03977966': ['police van, police wagon, paddy wagon, patrol wagon, wagon, black Maria'],\n",
       " 'n03584254': ['iPod'],\n",
       " 'n04023962': ['punching bag, punch bag, punching ball, punchball'],\n",
       " 'n02814860': ['beacon, lighthouse, beacon light, pharos'],\n",
       " 'n01910747': ['jellyfish'],\n",
       " 'n04596742': ['wok'],\n",
       " 'n03992509': [\"potter's wheel\"],\n",
       " 'n04133789': ['sandal'],\n",
       " 'n03937543': ['pill bottle'],\n",
       " 'n02927161': ['butcher shop, meat market'],\n",
       " 'n01945685': ['slug'],\n",
       " 'n02395406': ['hog, pig, grunter, squealer, Sus scrofa'],\n",
       " 'n02125311': ['cougar, puma, catamount, mountain lion, painter, panther, Felis concolor'],\n",
       " 'n03126707': ['crane'],\n",
       " 'n04532106': ['vestment'],\n",
       " 'n02268443': [\"dragonfly, darning needle, devil's darning needle, sewing needle, snake feeder, snake doctor, mosquito hawk, skeeter hawk\"],\n",
       " 'n02977058': ['cash machine, cash dispenser, automated teller machine, automatic teller machine, automated teller, automatic teller, ATM'],\n",
       " 'n07734744': ['mushroom'],\n",
       " 'n03599486': ['jinrikisha, ricksha, rickshaw'],\n",
       " 'n04562935': ['water tower'],\n",
       " 'n03014705': ['chest'],\n",
       " 'n04251144': ['snorkel'],\n",
       " 'n04356056': ['sunglasses, dark glasses, shades'],\n",
       " 'n02190166': ['fly'],\n",
       " 'n03670208': ['limousine, limo'],\n",
       " 'n02002724': ['black stork, Ciconia nigra'],\n",
       " 'n02074367': ['dugong, Dugong dugon'],\n",
       " 'n04285008': ['sports car, sport car'],\n",
       " 'n04560804': ['water jug'],\n",
       " 'n04366367': ['suspension bridge'],\n",
       " 'n02403003': ['ox'],\n",
       " 'n07615774': ['ice lolly, lolly, lollipop, popsicle'],\n",
       " 'n04501370': ['turnstile'],\n",
       " 'n03026506': ['Christmas stocking'],\n",
       " 'n02906734': ['broom'],\n",
       " 'n01770393': ['scorpion'],\n",
       " 'n04597913': ['wooden spoon'],\n",
       " 'n03930313': ['picket fence, paling'],\n",
       " 'n04118538': ['rugby ball'],\n",
       " 'n04179913': ['sewing machine'],\n",
       " 'n04311004': ['steel arch bridge'],\n",
       " 'n02123394': ['Persian cat'],\n",
       " 'n04070727': ['refrigerator, icebox'],\n",
       " 'n02793495': ['barn'],\n",
       " 'n02730930': ['apron'],\n",
       " 'n02094433': ['Yorkshire terrier'],\n",
       " 'n04371430': ['swimming trunks, bathing trunks'],\n",
       " 'n04328186': ['stopwatch, stop watch'],\n",
       " 'n03649909': ['lawn mower, mower'],\n",
       " 'n04417672': ['thatch, thatched roof'],\n",
       " 'n03388043': ['fountain'],\n",
       " 'n01774384': ['black widow, Latrodectus mactans'],\n",
       " 'n02837789': ['bikini, two-piece'],\n",
       " 'n07579787': ['plate'],\n",
       " 'n04399382': ['teddy, teddy bear'],\n",
       " 'n02791270': ['barbershop'],\n",
       " 'n03089624': ['confectionery, confectionary, candy store'],\n",
       " 'n02814533': ['beach wagon, station wagon, wagon, estate car, beach waggon, station waggon, waggon'],\n",
       " 'n04149813': ['scoreboard'],\n",
       " 'n07747607': ['orange'],\n",
       " 'n03355925': ['flagpole, flagstaff'],\n",
       " 'n01983481': ['American lobster, Northern lobster, Maine lobster, Homarus americanus'],\n",
       " 'n04487081': ['trolleybus, trolley coach, trackless trolley'],\n",
       " 'n03250847': ['drumstick'],\n",
       " 'n03255030': ['dumbbell'],\n",
       " 'n02892201': ['brass, memorial tablet, plaque'],\n",
       " 'n02883205': ['bow tie, bow-tie, bowtie'],\n",
       " 'n03100240': ['convertible'],\n",
       " 'n02415577': ['bighorn, bighorn sheep, cimarron, Rocky Mountain bighorn, Rocky Mountain sheep, Ovis canadensis'],\n",
       " 'n02480495': ['orangutan, orang, orangutang, Pongo pygmaeus'],\n",
       " 'n01698640': ['American alligator, Alligator mississipiensis'],\n",
       " 'n01784675': ['centipede'],\n",
       " 'n04376876': ['syringe'],\n",
       " 'n03444034': ['go-kart'],\n",
       " 'n01917289': ['brain coral'],\n",
       " 'n01950731': ['sea slug, nudibranch'],\n",
       " 'n03042490': ['cliff dwelling'],\n",
       " 'n07711569': ['mashed potato'],\n",
       " 'n04532670': ['viaduct'],\n",
       " 'n03763968': ['military uniform'],\n",
       " 'n07768694': ['pomegranate'],\n",
       " 'n02999410': ['chain'],\n",
       " 'n03617480': ['kimono'],\n",
       " 'n06596364': ['comic book'],\n",
       " 'n01768244': ['trilobite'],\n",
       " 'n02410509': ['bison'],\n",
       " 'n03976657': ['pole'],\n",
       " 'n01742172': ['boa constrictor, Constrictor constrictor'],\n",
       " 'n03980874': ['poncho'],\n",
       " 'n02808440': ['bathtub, bathing tub, bath, tub'],\n",
       " 'n02226429': ['grasshopper, hopper'],\n",
       " 'n02231487': ['walking stick, walkingstick, stick insect'],\n",
       " 'n02085620': ['Chihuahua'],\n",
       " 'n01644900': ['tailed frog, bell toad, ribbed toad, tailed toad, Ascaphus trui'],\n",
       " 'n02129165': ['lion, king of beasts, Panthera leo'],\n",
       " 'n02699494': ['altar'],\n",
       " 'n03837869': ['obelisk'],\n",
       " 'n02815834': ['beaker'],\n",
       " 'n07720875': ['bell pepper'],\n",
       " 'n02788148': ['bannister, banister, balustrade, balusters, handrail'],\n",
       " 'n02909870': ['bucket, pail'],\n",
       " 'n03706229': ['magnetic compass'],\n",
       " 'n07871810': ['meat loaf, meatloaf'],\n",
       " 'n03447447': ['gondola'],\n",
       " 'n02113799': ['standard poodle'],\n",
       " 'n12267677': ['acorn'],\n",
       " 'n03662601': ['lifeboat'],\n",
       " 'n02841315': ['binoculars, field glasses, opera glasses'],\n",
       " 'n07715103': ['cauliflower'],\n",
       " 'n02504458': ['African elephant, Loxodonta africana']}"
      ]
     },
     "execution_count": 26,
     "metadata": {},
     "output_type": "execute_result"
    }
   ],
   "execution_count": 26
  },
  {
   "cell_type": "code",
   "source": [
    "# Visualize an image\n",
    "import random\n",
    "from PIL import Image\n",
    "\n",
    "image_path_list = list(train_path.glob(\"*/*/*.JPEG\"))\n",
    "\n",
    "random_image_path = random.choice(image_path_list)\n",
    "\n",
    "image_class = id_dict[random_image_path.parent.parent.name]\n",
    "\n",
    "img = Image.open(random_image_path)\n",
    "\n",
    "print(random_image_path)\n",
    "print(image_class)\n",
    "print(img.size)\n",
    "\n",
    "img"
   ],
   "metadata": {
    "id": "51ywNKkN7WOl",
    "ExecuteTime": {
     "end_time": "2025-09-17T11:35:51.899490Z",
     "start_time": "2025-09-17T06:54:41.236745Z"
    }
   },
   "outputs": [
    {
     "name": "stdout",
     "output_type": "stream",
     "text": [
      "data\\tiny-imagenet-200\\train\\n02437312\\images\\n02437312_282.JPEG\n",
      "['Arabian camel, dromedary, Camelus dromedarius']\n",
      "(64, 64)\n"
     ]
    },
    {
     "data": {
      "text/plain": [
       "<PIL.JpegImagePlugin.JpegImageFile image mode=RGB size=64x64>"
      ],
      "image/png": "[encoded data removed]",
      "image/jpeg": "[encoded data removed]"
     },
     "execution_count": 36,
     "metadata": {},
     "output_type": "execute_result"
    }
   ],
   "execution_count": 36
  },
  {
   "cell_type": "code",
   "source": [
    "# Do the image visualization with matplotlib\n",
    "import numpy as np\n",
    "import matplotlib.pyplot as plt\n",
    "\n",
    "img_as_array = np.array(img)\n",
    "\n",
    "plt.figure(figsize=(10, 10))\n",
    "plt.imshow(img_as_array)\n",
    "plt.title(f\"Class: {image_class}\")\n",
    "plt.axis(False);"
   ],
   "metadata": {
    "id": "Qe4LoASC9sQ-",
    "ExecuteTime": {
     "end_time": "2025-09-17T11:35:51.899490Z",
     "start_time": "2025-09-17T06:50:07.074290Z"
    }
   },
   "outputs": [
    {
     "data": {
      "text/plain": [
       "<Figure size 1000x1000 with 1 Axes>"
      ],
      "image/png": "[encoded data removed]"
     },
     "metadata": {},
     "output_type": "display_data",
     "jetTransient": {
      "display_id": null
     }
    }
   ],
   "execution_count": 34
  },
  {
   "cell_type": "markdown",
   "source": [
    "We've got some images in our folders.\n",
    "\n",
    "Now we need to make them compatible with PyTorch by:\n",
    "1. Transform the data into tensors.\n",
    "2. Turn the tensor data into a `torch.utils.data.Dataset` and later a `torch.utils.data.DataLoader`."
   ],
   "metadata": {
    "id": "2AU4FGYC_KBz"
   }
  },
  {
   "cell_type": "code",
   "source": [
    "# 3.1 Transforming data with torchvision.transforms\n",
    "import torch\n",
    "from torch.utils.data import DataLoader\n",
    "from torchvision import datasets, transforms"
   ],
   "metadata": {
    "id": "KbGMaYGT-vwq",
    "ExecuteTime": {
     "end_time": "2025-09-17T11:35:51.899490Z",
     "start_time": "2025-09-17T06:58:44.339691Z"
    }
   },
   "outputs": [],
   "execution_count": 39
  },
  {
   "cell_type": "code",
   "source": [
    "# Write transform for turning images into tensors\n",
    "data_transform = transforms.Compose([\n",
    "    transforms.Resize((64, 64)),\n",
    "    transforms.RandomHorizontalFlip(p=0.5),\n",
    "    transforms.ToTensor()\n",
    "])"
   ],
   "metadata": {
    "id": "gnvUSYYW_ohN",
    "ExecuteTime": {
     "end_time": "2025-09-17T11:35:51.899490Z",
     "start_time": "2025-09-17T06:58:47.692092Z"
    }
   },
   "outputs": [],
   "execution_count": 40
  },
  {
   "cell_type": "code",
   "source": [
    "# Write a function to plot transformed images\n",
    "def plot_transformed_images(image_paths, transform, n=3):\n",
    "    random_image_paths = random.sample(image_paths, k=n)\n",
    "\n",
    "    for image_path in random_image_paths:\n",
    "        with Image.open(image_path) as img:\n",
    "            transformed_img = transform(img)\n",
    "            plt.figure()\n",
    "            plt.imshow(transformed_img.permute(1, 2, 0))  # CHW to HWC\n",
    "            plt.axis(False)\n",
    "            plt.title(\n",
    "                f\"Transformed image shape: {transformed_img.shape}, class: {id_dict[image_path.parent.parent.name]}\")\n",
    "\n",
    "\n",
    "plot_transformed_images(image_path_list, data_transform, n=3)"
   ],
   "metadata": {
    "id": "vp8I2cpMAxcT",
    "ExecuteTime": {
     "end_time": "2025-09-17T11:35:51.899490Z",
     "start_time": "2025-09-17T07:00:08.062455Z"
    }
   },
   "outputs": [
    {
     "data": {
      "text/plain": [
       "<Figure size 640x480 with 1 Axes>"
      ],
      "image/png": "[encoded data removed]"
     },
     "metadata": {},
     "output_type": "display_data",
     "jetTransient": {
      "display_id": null
     }
    },
    {
     "data": {
      "text/plain": [
       "<Figure size 640x480 with 1 Axes>"
      ],
      "image/png": "[encoded data removed]"
     },
     "metadata": {},
     "output_type": "display_data",
     "jetTransient": {
      "display_id": null
     }
    },
    {
     "data": {
      "text/plain": [
       "<Figure size 640x480 with 1 Axes>"
      ],
      "image/png": "[encoded data removed]"
     },
     "metadata": {},
     "output_type": "display_data",
     "jetTransient": {
      "display_id": null
     }
    }
   ],
   "execution_count": 43
  },
  {
   "cell_type": "markdown",
   "source": [
    "### Load image data using `ImageFolder`"
   ],
   "metadata": {
    "id": "FKgfqPArChVR"
   }
  },
  {
   "cell_type": "code",
   "source": [
    "# Use ImageFolder to create dataset(s)\n",
    "from torchvision import datasets\n",
    "\n",
    "train_data = datasets.ImageFolder(root=train_path,\n",
    "                                  transform=data_transform)\n",
    "\n",
    "test_data = datasets.ImageFolder(root=test_path,\n",
    "                                 transform=data_transform)\n",
    "\n",
    "print(f\"Train data: {train_data} \\n Test data: {test_data}\")"
   ],
   "metadata": {
    "id": "8OFgwQF1CkOu",
    "ExecuteTime": {
     "end_time": "2025-09-17T11:35:51.900498400Z",
     "start_time": "2025-09-17T07:03:50.767394Z"
    }
   },
   "outputs": [
    {
     "name": "stdout",
     "output_type": "stream",
     "text": [
      "Train data: Dataset ImageFolder\n",
      "    Number of datapoints: 100000\n",
      "    Root location: data\\tiny-imagenet-200\\train\n",
      "    StandardTransform\n",
      "Transform: Compose(\n",
      "               Resize(size=(64, 64), interpolation=bilinear, max_size=None, antialias=True)\n",
      "               RandomHorizontalFlip(p=0.5)\n",
      "               ToTensor()\n",
      "           ) \n",
      " Test data: Dataset ImageFolder\n",
      "    Number of datapoints: 10000\n",
      "    Root location: data\\tiny-imagenet-200\\val\n",
      "    StandardTransform\n",
      "Transform: Compose(\n",
      "               Resize(size=(64, 64), interpolation=bilinear, max_size=None, antialias=True)\n",
      "               RandomHorizontalFlip(p=0.5)\n",
      "               ToTensor()\n",
      "           )\n"
     ]
    }
   ],
   "execution_count": 45
  },
  {
   "cell_type": "code",
   "source": [
    "# Get class names as a list\n",
    "class_names = train_data.classes\n",
    "class_names"
   ],
   "metadata": {
    "colab": {
     "base_uri": "https://localhost:8080/"
    },
    "id": "MbT0fhXHEQyJ",
    "outputId": "ad2b0da9-285c-493d-c362-a6b00e5d2197",
    "ExecuteTime": {
     "end_time": "2025-09-17T11:35:51.905492600Z",
     "start_time": "2025-09-17T07:06:12.151453Z"
    }
   },
   "outputs": [
    {
     "data": {
      "text/plain": [
       "['n01443537',\n",
       " 'n01629819',\n",
       " 'n01641577',\n",
       " 'n01644900',\n",
       " 'n01698640',\n",
       " 'n01742172',\n",
       " 'n01768244',\n",
       " 'n01770393',\n",
       " 'n01774384',\n",
       " 'n01774750',\n",
       " 'n01784675',\n",
       " 'n01855672',\n",
       " 'n01882714',\n",
       " 'n01910747',\n",
       " 'n01917289',\n",
       " 'n01944390',\n",
       " 'n01945685',\n",
       " 'n01950731',\n",
       " 'n01983481',\n",
       " 'n01984695',\n",
       " 'n02002724',\n",
       " 'n02056570',\n",
       " 'n02058221',\n",
       " 'n02074367',\n",
       " 'n02085620',\n",
       " 'n02094433',\n",
       " 'n02099601',\n",
       " 'n02099712',\n",
       " 'n02106662',\n",
       " 'n02113799',\n",
       " 'n02123045',\n",
       " 'n02123394',\n",
       " 'n02124075',\n",
       " 'n02125311',\n",
       " 'n02129165',\n",
       " 'n02132136',\n",
       " 'n02165456',\n",
       " 'n02190166',\n",
       " 'n02206856',\n",
       " 'n02226429',\n",
       " 'n02231487',\n",
       " 'n02233338',\n",
       " 'n02236044',\n",
       " 'n02268443',\n",
       " 'n02279972',\n",
       " 'n02281406',\n",
       " 'n02321529',\n",
       " 'n02364673',\n",
       " 'n02395406',\n",
       " 'n02403003',\n",
       " 'n02410509',\n",
       " 'n02415577',\n",
       " 'n02423022',\n",
       " 'n02437312',\n",
       " 'n02480495',\n",
       " 'n02481823',\n",
       " 'n02486410',\n",
       " 'n02504458',\n",
       " 'n02509815',\n",
       " 'n02666196',\n",
       " 'n02669723',\n",
       " 'n02699494',\n",
       " 'n02730930',\n",
       " 'n02769748',\n",
       " 'n02788148',\n",
       " 'n02791270',\n",
       " 'n02793495',\n",
       " 'n02795169',\n",
       " 'n02802426',\n",
       " 'n02808440',\n",
       " 'n02814533',\n",
       " 'n02814860',\n",
       " 'n02815834',\n",
       " 'n02823428',\n",
       " 'n02837789',\n",
       " 'n02841315',\n",
       " 'n02843684',\n",
       " 'n02883205',\n",
       " 'n02892201',\n",
       " 'n02906734',\n",
       " 'n02909870',\n",
       " 'n02917067',\n",
       " 'n02927161',\n",
       " 'n02948072',\n",
       " 'n02950826',\n",
       " 'n02963159',\n",
       " 'n02977058',\n",
       " 'n02988304',\n",
       " 'n02999410',\n",
       " 'n03014705',\n",
       " 'n03026506',\n",
       " 'n03042490',\n",
       " 'n03085013',\n",
       " 'n03089624',\n",
       " 'n03100240',\n",
       " 'n03126707',\n",
       " 'n03160309',\n",
       " 'n03179701',\n",
       " 'n03201208',\n",
       " 'n03250847',\n",
       " 'n03255030',\n",
       " 'n03355925',\n",
       " 'n03388043',\n",
       " 'n03393912',\n",
       " 'n03400231',\n",
       " 'n03404251',\n",
       " 'n03424325',\n",
       " 'n03444034',\n",
       " 'n03447447',\n",
       " 'n03544143',\n",
       " 'n03584254',\n",
       " 'n03599486',\n",
       " 'n03617480',\n",
       " 'n03637318',\n",
       " 'n03649909',\n",
       " 'n03662601',\n",
       " 'n03670208',\n",
       " 'n03706229',\n",
       " 'n03733131',\n",
       " 'n03763968',\n",
       " 'n03770439',\n",
       " 'n03796401',\n",
       " 'n03804744',\n",
       " 'n03814639',\n",
       " 'n03837869',\n",
       " 'n03838899',\n",
       " 'n03854065',\n",
       " 'n03891332',\n",
       " 'n03902125',\n",
       " 'n03930313',\n",
       " 'n03937543',\n",
       " 'n03970156',\n",
       " 'n03976657',\n",
       " 'n03977966',\n",
       " 'n03980874',\n",
       " 'n03983396',\n",
       " 'n03992509',\n",
       " 'n04008634',\n",
       " 'n04023962',\n",
       " 'n04067472',\n",
       " 'n04070727',\n",
       " 'n04074963',\n",
       " 'n04099969',\n",
       " 'n04118538',\n",
       " 'n04133789',\n",
       " 'n04146614',\n",
       " 'n04149813',\n",
       " 'n04179913',\n",
       " 'n04251144',\n",
       " 'n04254777',\n",
       " 'n04259630',\n",
       " 'n04265275',\n",
       " 'n04275548',\n",
       " 'n04285008',\n",
       " 'n04311004',\n",
       " 'n04328186',\n",
       " 'n04356056',\n",
       " 'n04366367',\n",
       " 'n04371430',\n",
       " 'n04376876',\n",
       " 'n04398044',\n",
       " 'n04399382',\n",
       " 'n04417672',\n",
       " 'n04456115',\n",
       " 'n04465501',\n",
       " 'n04486054',\n",
       " 'n04487081',\n",
       " 'n04501370',\n",
       " 'n04507155',\n",
       " 'n04532106',\n",
       " 'n04532670',\n",
       " 'n04540053',\n",
       " 'n04560804',\n",
       " 'n04562935',\n",
       " 'n04596742',\n",
       " 'n04597913',\n",
       " 'n06596364',\n",
       " 'n07579787',\n",
       " 'n07583066',\n",
       " 'n07614500',\n",
       " 'n07615774',\n",
       " 'n07695742',\n",
       " 'n07711569',\n",
       " 'n07715103',\n",
       " 'n07720875',\n",
       " 'n07734744',\n",
       " 'n07747607',\n",
       " 'n07749582',\n",
       " 'n07753592',\n",
       " 'n07768694',\n",
       " 'n07871810',\n",
       " 'n07873807',\n",
       " 'n07875152',\n",
       " 'n07920052',\n",
       " 'n09193705',\n",
       " 'n09246464',\n",
       " 'n09256479',\n",
       " 'n09332890',\n",
       " 'n09428293',\n",
       " 'n12267677']"
      ]
     },
     "execution_count": 46,
     "metadata": {},
     "output_type": "execute_result"
    }
   ],
   "execution_count": 46
  },
  {
   "cell_type": "code",
   "source": [
    "# Can also get class names as a dict\n",
    "class_dict = train_data.class_to_idx\n",
    "class_dict"
   ],
   "metadata": {
    "colab": {
     "base_uri": "https://localhost:8080/"
    },
    "id": "uCcWk7NDEay1",
    "outputId": "88718fd6-c6b2-4132-9383-0a64a0a7bcee",
    "ExecuteTime": {
     "end_time": "2025-09-17T11:35:51.906511500Z",
     "start_time": "2025-09-17T07:06:17.373407Z"
    }
   },
   "outputs": [
    {
     "data": {
      "text/plain": [
       "{'n01443537': 0,\n",
       " 'n01629819': 1,\n",
       " 'n01641577': 2,\n",
       " 'n01644900': 3,\n",
       " 'n01698640': 4,\n",
       " 'n01742172': 5,\n",
       " 'n01768244': 6,\n",
       " 'n01770393': 7,\n",
       " 'n01774384': 8,\n",
       " 'n01774750': 9,\n",
       " 'n01784675': 10,\n",
       " 'n01855672': 11,\n",
       " 'n01882714': 12,\n",
       " 'n01910747': 13,\n",
       " 'n01917289': 14,\n",
       " 'n01944390': 15,\n",
       " 'n01945685': 16,\n",
       " 'n01950731': 17,\n",
       " 'n01983481': 18,\n",
       " 'n01984695': 19,\n",
       " 'n02002724': 20,\n",
       " 'n02056570': 21,\n",
       " 'n02058221': 22,\n",
       " 'n02074367': 23,\n",
       " 'n02085620': 24,\n",
       " 'n02094433': 25,\n",
       " 'n02099601': 26,\n",
       " 'n02099712': 27,\n",
       " 'n02106662': 28,\n",
       " 'n02113799': 29,\n",
       " 'n02123045': 30,\n",
       " 'n02123394': 31,\n",
       " 'n02124075': 32,\n",
       " 'n02125311': 33,\n",
       " 'n02129165': 34,\n",
       " 'n02132136': 35,\n",
       " 'n02165456': 36,\n",
       " 'n02190166': 37,\n",
       " 'n02206856': 38,\n",
       " 'n02226429': 39,\n",
       " 'n02231487': 40,\n",
       " 'n02233338': 41,\n",
       " 'n02236044': 42,\n",
       " 'n02268443': 43,\n",
       " 'n02279972': 44,\n",
       " 'n02281406': 45,\n",
       " 'n02321529': 46,\n",
       " 'n02364673': 47,\n",
       " 'n02395406': 48,\n",
       " 'n02403003': 49,\n",
       " 'n02410509': 50,\n",
       " 'n02415577': 51,\n",
       " 'n02423022': 52,\n",
       " 'n02437312': 53,\n",
       " 'n02480495': 54,\n",
       " 'n02481823': 55,\n",
       " 'n02486410': 56,\n",
       " 'n02504458': 57,\n",
       " 'n02509815': 58,\n",
       " 'n02666196': 59,\n",
       " 'n02669723': 60,\n",
       " 'n02699494': 61,\n",
       " 'n02730930': 62,\n",
       " 'n02769748': 63,\n",
       " 'n02788148': 64,\n",
       " 'n02791270': 65,\n",
       " 'n02793495': 66,\n",
       " 'n02795169': 67,\n",
       " 'n02802426': 68,\n",
       " 'n02808440': 69,\n",
       " 'n02814533': 70,\n",
       " 'n02814860': 71,\n",
       " 'n02815834': 72,\n",
       " 'n02823428': 73,\n",
       " 'n02837789': 74,\n",
       " 'n02841315': 75,\n",
       " 'n02843684': 76,\n",
       " 'n02883205': 77,\n",
       " 'n02892201': 78,\n",
       " 'n02906734': 79,\n",
       " 'n02909870': 80,\n",
       " 'n02917067': 81,\n",
       " 'n02927161': 82,\n",
       " 'n02948072': 83,\n",
       " 'n02950826': 84,\n",
       " 'n02963159': 85,\n",
       " 'n02977058': 86,\n",
       " 'n02988304': 87,\n",
       " 'n02999410': 88,\n",
       " 'n03014705': 89,\n",
       " 'n03026506': 90,\n",
       " 'n03042490': 91,\n",
       " 'n03085013': 92,\n",
       " 'n03089624': 93,\n",
       " 'n03100240': 94,\n",
       " 'n03126707': 95,\n",
       " 'n03160309': 96,\n",
       " 'n03179701': 97,\n",
       " 'n03201208': 98,\n",
       " 'n03250847': 99,\n",
       " 'n03255030': 100,\n",
       " 'n03355925': 101,\n",
       " 'n03388043': 102,\n",
       " 'n03393912': 103,\n",
       " 'n03400231': 104,\n",
       " 'n03404251': 105,\n",
       " 'n03424325': 106,\n",
       " 'n03444034': 107,\n",
       " 'n03447447': 108,\n",
       " 'n03544143': 109,\n",
       " 'n03584254': 110,\n",
       " 'n03599486': 111,\n",
       " 'n03617480': 112,\n",
       " 'n03637318': 113,\n",
       " 'n03649909': 114,\n",
       " 'n03662601': 115,\n",
       " 'n03670208': 116,\n",
       " 'n03706229': 117,\n",
       " 'n03733131': 118,\n",
       " 'n03763968': 119,\n",
       " 'n03770439': 120,\n",
       " 'n03796401': 121,\n",
       " 'n03804744': 122,\n",
       " 'n03814639': 123,\n",
       " 'n03837869': 124,\n",
       " 'n03838899': 125,\n",
       " 'n03854065': 126,\n",
       " 'n03891332': 127,\n",
       " 'n03902125': 128,\n",
       " 'n03930313': 129,\n",
       " 'n03937543': 130,\n",
       " 'n03970156': 131,\n",
       " 'n03976657': 132,\n",
       " 'n03977966': 133,\n",
       " 'n03980874': 134,\n",
       " 'n03983396': 135,\n",
       " 'n03992509': 136,\n",
       " 'n04008634': 137,\n",
       " 'n04023962': 138,\n",
       " 'n04067472': 139,\n",
       " 'n04070727': 140,\n",
       " 'n04074963': 141,\n",
       " 'n04099969': 142,\n",
       " 'n04118538': 143,\n",
       " 'n04133789': 144,\n",
       " 'n04146614': 145,\n",
       " 'n04149813': 146,\n",
       " 'n04179913': 147,\n",
       " 'n04251144': 148,\n",
       " 'n04254777': 149,\n",
       " 'n04259630': 150,\n",
       " 'n04265275': 151,\n",
       " 'n04275548': 152,\n",
       " 'n04285008': 153,\n",
       " 'n04311004': 154,\n",
       " 'n04328186': 155,\n",
       " 'n04356056': 156,\n",
       " 'n04366367': 157,\n",
       " 'n04371430': 158,\n",
       " 'n04376876': 159,\n",
       " 'n04398044': 160,\n",
       " 'n04399382': 161,\n",
       " 'n04417672': 162,\n",
       " 'n04456115': 163,\n",
       " 'n04465501': 164,\n",
       " 'n04486054': 165,\n",
       " 'n04487081': 166,\n",
       " 'n04501370': 167,\n",
       " 'n04507155': 168,\n",
       " 'n04532106': 169,\n",
       " 'n04532670': 170,\n",
       " 'n04540053': 171,\n",
       " 'n04560804': 172,\n",
       " 'n04562935': 173,\n",
       " 'n04596742': 174,\n",
       " 'n04597913': 175,\n",
       " 'n06596364': 176,\n",
       " 'n07579787': 177,\n",
       " 'n07583066': 178,\n",
       " 'n07614500': 179,\n",
       " 'n07615774': 180,\n",
       " 'n07695742': 181,\n",
       " 'n07711569': 182,\n",
       " 'n07715103': 183,\n",
       " 'n07720875': 184,\n",
       " 'n07734744': 185,\n",
       " 'n07747607': 186,\n",
       " 'n07749582': 187,\n",
       " 'n07753592': 188,\n",
       " 'n07768694': 189,\n",
       " 'n07871810': 190,\n",
       " 'n07873807': 191,\n",
       " 'n07875152': 192,\n",
       " 'n07920052': 193,\n",
       " 'n09193705': 194,\n",
       " 'n09246464': 195,\n",
       " 'n09256479': 196,\n",
       " 'n09332890': 197,\n",
       " 'n09428293': 198,\n",
       " 'n12267677': 199}"
      ]
     },
     "execution_count": 47,
     "metadata": {},
     "output_type": "execute_result"
    }
   ],
   "execution_count": 47
  },
  {
   "cell_type": "code",
   "source": [
    "# Check the lengths of each dataset\n",
    "len(train_data), len(test_data)"
   ],
   "metadata": {
    "colab": {
     "base_uri": "https://localhost:8080/"
    },
    "id": "W7H7bX4HEgie",
    "outputId": "2ff1fdd2-f990-461d-c2e9-27435e7744c9",
    "ExecuteTime": {
     "end_time": "2025-09-17T11:35:51.907507500Z",
     "start_time": "2025-09-17T07:06:36.115845Z"
    }
   },
   "outputs": [
    {
     "data": {
      "text/plain": [
       "(100000, 10000)"
      ]
     },
     "execution_count": 48,
     "metadata": {},
     "output_type": "execute_result"
    }
   ],
   "execution_count": 48
  },
  {
   "metadata": {
    "ExecuteTime": {
     "end_time": "2025-09-17T11:35:51.907507500Z",
     "start_time": "2025-09-17T07:07:34.664060Z"
    }
   },
   "cell_type": "code",
   "source": [
    "img, label = train_data[0]\n",
    "print(f\"Image shape: {img.shape} | Label: {label} | Class name: {class_names[label]}\")"
   ],
   "outputs": [
    {
     "name": "stdout",
     "output_type": "stream",
     "text": [
      "Image shape: torch.Size([3, 64, 64]) | Label: 0 | Class name: n01443537\n"
     ]
    }
   ],
   "execution_count": 50
  },
  {
   "cell_type": "code",
   "source": [
    "# Turn train and test Datasets into DataLoaders\n",
    "from torch.utils.data import DataLoader\n",
    "from os import cpu_count\n",
    "\n",
    "train_dataloader = DataLoader(dataset=train_data,\n",
    "                              batch_size=256,\n",
    "                              shuffle=True,\n",
    "                              num_workers=cpu_count(),\n",
    "                              pin_memory=True)\n",
    "\n",
    "test_dataloader = DataLoader(dataset=test_data,\n",
    "                             batch_size=256,\n",
    "                             shuffle=False,\n",
    "                             num_workers=cpu_count(),\n",
    "                             pin_memory=True)\n",
    "\n",
    "print(f\"Train dataloader: {train_dataloader} \\n Test dataloader: {test_dataloader}\")"
   ],
   "metadata": {
    "colab": {
     "base_uri": "https://localhost:8080/"
    },
    "id": "nskNr5YCEoRl",
    "outputId": "cd825b1d-095f-4080-86ce-7d17aafef7e8",
    "ExecuteTime": {
     "end_time": "2025-09-17T11:35:51.907507500Z",
     "start_time": "2025-09-17T11:28:58.401983Z"
    }
   },
   "outputs": [
    {
     "name": "stdout",
     "output_type": "stream",
     "text": [
      "Train dataloader: <torch.utils.data.dataloader.DataLoader object at 0x000001948DC1F5C0> \n",
      " Test dataloader: <torch.utils.data.dataloader.DataLoader object at 0x000001948F351A30>\n"
     ]
    }
   ],
   "execution_count": 97
  },
  {
   "cell_type": "code",
   "source": [
    "# How many batches of images are in our data loaders?\n",
    "len(train_dataloader), len(test_dataloader)"
   ],
   "metadata": {
    "colab": {
     "base_uri": "https://localhost:8080/"
    },
    "id": "z8vJxmxAFqw6",
    "outputId": "e5a8bd88-1b05-4109-de5a-8183a85c7872",
    "ExecuteTime": {
     "end_time": "2025-09-17T11:35:51.889543400Z",
     "start_time": "2025-09-17T07:11:14.769668Z"
    }
   },
   "outputs": [
    {
     "data": {
      "text/plain": [
       "(3125, 313)"
      ]
     },
     "execution_count": 54,
     "metadata": {},
     "output_type": "execute_result"
    }
   ],
   "execution_count": 54
  },
  {
   "cell_type": "markdown",
   "source": [
    "## 3. Recreate `model_0` we built in section 7 of notebook 04."
   ],
   "metadata": {
    "id": "XeYFEqw8xK26"
   }
  },
  {
   "cell_type": "code",
   "source": [
    "class TinyVGG(nn.Module):\n",
    "    def __init__(self,\n",
    "                 input_shape: int,\n",
    "                 hidden_units: int,\n",
    "                 output_shape: int):\n",
    "        super().__init__()\n",
    "        self.conv_block_1 = nn.Sequential(\n",
    "            nn.Conv2d(in_channels=input_shape,\n",
    "                      out_channels=hidden_units,\n",
    "                      kernel_size=3,\n",
    "                      stride=1,\n",
    "                      padding=1),\n",
    "            nn.ReLU(),\n",
    "            nn.Conv2d(in_channels=hidden_units,\n",
    "                      out_channels=hidden_units,\n",
    "                      kernel_size=3,\n",
    "                      stride=1,\n",
    "                      padding=1),\n",
    "            nn.ReLU(),\n",
    "            nn.MaxPool2d(kernel_size=2)\n",
    "        )\n",
    "        self.conv_block_2 = nn.Sequential(\n",
    "            nn.Conv2d(in_channels=hidden_units,\n",
    "                      out_channels=hidden_units,\n",
    "                      kernel_size=3,\n",
    "                      stride=1,\n",
    "                      padding=1),\n",
    "            nn.ReLU(),\n",
    "            nn.Conv2d(in_channels=hidden_units,\n",
    "                      out_channels=hidden_units,\n",
    "                      kernel_size=3,\n",
    "                      stride=1,\n",
    "                      padding=1),\n",
    "            nn.ReLU(),\n",
    "            nn.MaxPool2d(kernel_size=2)\n",
    "        )\n",
    "        self.classifier = nn.Sequential(\n",
    "            nn.Flatten(),\n",
    "            nn.Linear(in_features=hidden_units * 16 * 16,  # 64 / 2 / 2 = 16\n",
    "                      out_features=output_shape)\n",
    "        )\n",
    "\n",
    "    def forward(self, x):\n",
    "        x = self.conv_block_1(x)\n",
    "        x = self.conv_block_2(x)\n",
    "        x = self.classifier(x)\n",
    "        return x\n",
    "\n",
    "\n",
    "model_0 = TinyVGG(input_shape=3,\n",
    "                  hidden_units=10,\n",
    "                  output_shape=len(class_names)).to(device)\n",
    "\n",
    "model_0"
   ],
   "metadata": {
    "id": "MBErjcUCyDzE",
    "ExecuteTime": {
     "end_time": "2025-09-17T11:35:51.908465200Z",
     "start_time": "2025-09-17T07:13:40.204344Z"
    }
   },
   "outputs": [
    {
     "data": {
      "text/plain": [
       "TinyVGG(\n",
       "  (conv_block_1): Sequential(\n",
       "    (0): Conv2d(3, 10, kernel_size=(3, 3), stride=(1, 1), padding=(1, 1))\n",
       "    (1): ReLU()\n",
       "    (2): Conv2d(10, 10, kernel_size=(3, 3), stride=(1, 1), padding=(1, 1))\n",
       "    (3): ReLU()\n",
       "    (4): MaxPool2d(kernel_size=2, stride=2, padding=0, dilation=1, ceil_mode=False)\n",
       "  )\n",
       "  (conv_block_2): Sequential(\n",
       "    (0): Conv2d(10, 10, kernel_size=(3, 3), stride=(1, 1), padding=(1, 1))\n",
       "    (1): ReLU()\n",
       "    (2): Conv2d(10, 10, kernel_size=(3, 3), stride=(1, 1), padding=(1, 1))\n",
       "    (3): ReLU()\n",
       "    (4): MaxPool2d(kernel_size=2, stride=2, padding=0, dilation=1, ceil_mode=False)\n",
       "  )\n",
       "  (classifier): Sequential(\n",
       "    (0): Flatten(start_dim=1, end_dim=-1)\n",
       "    (1): Linear(in_features=2560, out_features=200, bias=True)\n",
       "  )\n",
       ")"
      ]
     },
     "execution_count": 55,
     "metadata": {},
     "output_type": "execute_result"
    }
   ],
   "execution_count": 55
  },
  {
   "cell_type": "markdown",
   "source": [
    "## 4. Create training and testing functions for `model_0`."
   ],
   "metadata": {
    "id": "DKdEEFEqxM-8"
   }
  },
  {
   "cell_type": "code",
   "source": [
    "def train_step(model: torch.nn.Module,\n",
    "               dataloader: torch.utils.data.DataLoader,\n",
    "               loss_fn: torch.nn.Module,\n",
    "               optimizer: torch.optim.Optimizer):\n",
    "    # Put the model in train mode\n",
    "    model.train()\n",
    "\n",
    "    # Setup train loss and train accuracy values\n",
    "    train_loss, train_acc = 0, 0\n",
    "\n",
    "    # Loop through data loader and data batches\n",
    "    for batch, (X, y) in enumerate(dataloader):\n",
    "        # Send data to target device\n",
    "        X, y = X.to(device), y.to(device)\n",
    "        # 1. Forward pass\n",
    "        y_pred = model(X)\n",
    "        # 2. Calculate and accumulate loss\n",
    "        loss = loss_fn(y_pred, y)\n",
    "        train_loss += loss.item()\n",
    "        # 3. Optimizer zero grad\n",
    "        optimizer.zero_grad()\n",
    "        # 4. Loss backward\n",
    "        loss.backward()\n",
    "        # 5. Optimizer step\n",
    "        optimizer.step()\n",
    "        # Calculate and accumualte accuracy metric across all batches\n",
    "        y_pred_class = torch.argmax(torch.softmax(y_pred, dim=1), dim=1)\n",
    "        train_acc += (y_pred_class == y).sum().item() / len(y_pred)\n",
    "    # Adjust metrics to get average loss and average accuracy per batch\n",
    "    train_loss = train_loss / len(dataloader)\n",
    "    train_acc = train_acc / len(dataloader)\n",
    "    return train_loss, train_acc"
   ],
   "metadata": {
    "id": "rnUox1qayDes",
    "ExecuteTime": {
     "end_time": "2025-09-17T11:35:51.908465200Z",
     "start_time": "2025-09-17T07:26:15.769534Z"
    }
   },
   "outputs": [],
   "execution_count": 60
  },
  {
   "cell_type": "code",
   "source": [
    "def test_step(model: torch.nn.Module,\n",
    "              dataloader: torch.utils.data.DataLoader,\n",
    "              loss_fn: torch.nn.Module):\n",
    "    # Put model in eval mode\n",
    "    model.eval()\n",
    "\n",
    "    # Setup the test loss and test accuracy values\n",
    "    test_loss, test_acc = 0, 0\n",
    "\n",
    "    # Turn on inference context manager\n",
    "    with torch.inference_mode():\n",
    "        # Loop through DataLoader batches\n",
    "        for batch, (X, y) in enumerate(dataloader):\n",
    "            # Send data to target device\n",
    "            X, y = X.to(device), y.to(device)\n",
    "            # 1. Forward pass\n",
    "            test_pred = model(X)\n",
    "            # 2. Calculuate and accumulate loss\n",
    "            loss = loss_fn(test_pred, y)\n",
    "            test_loss += loss.item()\n",
    "            # Calculate and accumulate accuracy\n",
    "            test_pred_class = torch.argmax(torch.softmax(test_pred, dim=1), dim=1)\n",
    "            test_acc += (test_pred_class == y).sum().item() / len(test_pred)\n",
    "    # Adjust metrics to get average loss and accuracy per batch\n",
    "    test_loss = test_loss / len(dataloader)\n",
    "    test_acc = test_acc / len(dataloader)\n",
    "    return test_loss, test_acc\n"
   ],
   "metadata": {
    "id": "O7_EVPpHNKUP",
    "ExecuteTime": {
     "end_time": "2025-09-17T11:35:51.909458400Z",
     "start_time": "2025-09-17T07:26:18.472595Z"
    }
   },
   "outputs": [],
   "execution_count": 62
  },
  {
   "cell_type": "code",
   "source": [
    "from tqdm.auto import tqdm\n",
    "\n",
    "\n",
    "def train(model: torch.nn.Module,\n",
    "          train_dataloader: torch.utils.data.DataLoader,\n",
    "          test_dataloader: torch.utils.data.DataLoader,\n",
    "          optimizer: torch.optim.Optimizer,\n",
    "          loss_fn: torch.nn.Module = nn.CrossEntropyLoss(),\n",
    "          epochs: int = 5):\n",
    "    # Create results dictionary\n",
    "    results = {\"train_loss\": [],\n",
    "               \"train_acc\": [],\n",
    "               \"test_loss\": [],\n",
    "               \"test_acc\": []}\n",
    "\n",
    "    # Loop through the training and testing steps for a number of epochs\n",
    "    for epoch in tqdm(range(epochs)):\n",
    "        # Train step\n",
    "        train_loss, train_acc = train_step(model=model,\n",
    "                                           dataloader=train_dataloader,\n",
    "                                           loss_fn=loss_fn,\n",
    "                                           optimizer=optimizer)\n",
    "        # Test step\n",
    "        test_loss, test_acc = test_step(model=model,\n",
    "                                        dataloader=test_dataloader,\n",
    "                                        loss_fn=loss_fn)\n",
    "\n",
    "        # Print out what's happening\n",
    "        print(f\"Epoch: {epoch + 1} | \"\n",
    "              f\"train_loss: {train_loss:.4f} | \"\n",
    "              f\"train_acc: {train_acc:.4f} | \"\n",
    "              f\"test_loss: {test_loss:.4f} | \"\n",
    "              f\"test_acc: {test_acc:.4f}\"\n",
    "              )\n",
    "\n",
    "        # Update the results dictionary\n",
    "        results[\"train_loss\"].append(train_loss)\n",
    "        results[\"train_acc\"].append(train_acc)\n",
    "        results[\"test_loss\"].append(test_loss)\n",
    "        results[\"test_acc\"].append(test_acc)\n",
    "\n",
    "    # Return the results dictionary\n",
    "    return results"
   ],
   "metadata": {
    "id": "zXxTIh9tOh68",
    "ExecuteTime": {
     "end_time": "2025-09-17T11:35:51.909458400Z",
     "start_time": "2025-09-17T07:26:23.772716Z"
    }
   },
   "outputs": [],
   "execution_count": 63
  },
  {
   "cell_type": "markdown",
   "source": [
    "## 5. Try training the model you made in exercise 3 for 5, 20 and 50 epochs, what happens to the results?\n",
    "* Use `torch.optim.Adam()` with a learning rate of 0.001 as the optimizer. "
   ],
   "metadata": {
    "id": "lvf-3pODxXYI"
   }
  },
  {
   "cell_type": "code",
   "source": [
    "# Train for 5 epochs\n",
    "torch.manual_seed(42)\n",
    "torch.cuda.manual_seed(42)\n",
    "\n",
    "loss_fn = nn.CrossEntropyLoss()\n",
    "optimizer = torch.optim.Adam(params=model_0.parameters(),\n",
    "                             lr=0.001)\n",
    "\n",
    "epochs = 5\n",
    "\n",
    "model_0 = TinyVGG(input_shape=3,\n",
    "                  hidden_units=10,\n",
    "                  output_shape=len(class_names)).to(device)\n",
    "model_0_results_5_epochs = train(model=model_0,\n",
    "                                 train_dataloader=train_dataloader,\n",
    "                                 test_dataloader=test_dataloader,\n",
    "                                 optimizer=optimizer,\n",
    "                                 loss_fn=loss_fn,\n",
    "                                 epochs=epochs)"
   ],
   "metadata": {
    "id": "rV7s2qtIyDIZ",
    "ExecuteTime": {
     "end_time": "2025-09-17T11:35:51.909458400Z",
     "start_time": "2025-09-17T07:26:28.943324Z"
    }
   },
   "outputs": [
    {
     "data": {
      "text/plain": [
       "  0%|          | 0/5 [00:00<?, ?it/s]"
      ],
      "application/vnd.jupyter.widget-view+json": {
       "version_major": 2,
       "version_minor": 0,
       "model_id": "a3e679d9ee2b42908844364241e60cb1"
      }
     },
     "metadata": {},
     "output_type": "display_data",
     "jetTransient": {
      "display_id": null
     }
    },
    {
     "name": "stdout",
     "output_type": "stream",
     "text": [
      "Epoch: 1 | train_loss: 5.2990 | train_acc: 0.0048 | test_loss: 5.2634 | test_acc: 0.0000\n",
      "Epoch: 2 | train_loss: 5.2990 | train_acc: 0.0046 | test_loss: 5.2634 | test_acc: 0.0000\n",
      "Epoch: 3 | train_loss: 5.2990 | train_acc: 0.0048 | test_loss: 5.2634 | test_acc: 0.0000\n",
      "Epoch: 4 | train_loss: 5.2990 | train_acc: 0.0048 | test_loss: 5.2634 | test_acc: 0.0000\n",
      "Epoch: 5 | train_loss: 5.2990 | train_acc: 0.0048 | test_loss: 5.2634 | test_acc: 0.0000\n"
     ]
    }
   ],
   "execution_count": 64
  },
  {
   "cell_type": "code",
   "source": [
    "# Train for 20 epochs\n",
    "torch.manual_seed(42)\n",
    "torch.cuda.manual_seed(42)\n",
    "\n",
    "loss_fn = nn.CrossEntropyLoss()\n",
    "optimizer = torch.optim.Adam(params=model_0.parameters(),\n",
    "                             lr=0.001)\n",
    "\n",
    "model_0_results_20_epochs = train(model=model_0,\n",
    "                                  train_dataloader=train_dataloader,\n",
    "                                  test_dataloader=test_dataloader,\n",
    "                                  optimizer=optimizer,\n",
    "                                  loss_fn=loss_fn,\n",
    "                                  epochs=20)"
   ],
   "metadata": {
    "id": "UEtZzyF1QGTq",
    "ExecuteTime": {
     "end_time": "2025-09-17T11:35:51.910456200Z",
     "start_time": "2025-09-17T07:30:26.076853Z"
    }
   },
   "outputs": [
    {
     "data": {
      "text/plain": [
       "  0%|          | 0/20 [00:00<?, ?it/s]"
      ],
      "application/vnd.jupyter.widget-view+json": {
       "version_major": 2,
       "version_minor": 0,
       "model_id": "077937219ce145d0b8eb3f191829f0b9"
      }
     },
     "metadata": {},
     "output_type": "display_data",
     "jetTransient": {
      "display_id": null
     }
    },
    {
     "name": "stdout",
     "output_type": "stream",
     "text": [
      "Epoch: 1 | train_loss: 3.9719 | train_acc: 0.1646 | test_loss: 7.7500 | test_acc: 0.0085\n",
      "Epoch: 2 | train_loss: 3.7918 | train_acc: 0.1920 | test_loss: 8.2281 | test_acc: 0.0054\n",
      "Epoch: 3 | train_loss: 3.7016 | train_acc: 0.2066 | test_loss: 8.8693 | test_acc: 0.0080\n",
      "Epoch: 4 | train_loss: 3.5916 | train_acc: 0.2246 | test_loss: 9.7147 | test_acc: 0.0050\n",
      "Epoch: 5 | train_loss: 3.4901 | train_acc: 0.2404 | test_loss: 9.3638 | test_acc: 0.0073\n",
      "Epoch: 6 | train_loss: 3.4104 | train_acc: 0.2541 | test_loss: 9.4343 | test_acc: 0.0072\n",
      "Epoch: 7 | train_loss: 3.3362 | train_acc: 0.2658 | test_loss: 9.2510 | test_acc: 0.0079\n",
      "Epoch: 8 | train_loss: 3.2717 | train_acc: 0.2781 | test_loss: 10.3670 | test_acc: 0.0041\n",
      "Epoch: 9 | train_loss: 3.2163 | train_acc: 0.2878 | test_loss: 10.0699 | test_acc: 0.0068\n",
      "Epoch: 10 | train_loss: 3.1642 | train_acc: 0.2957 | test_loss: 9.6706 | test_acc: 0.0089\n",
      "Epoch: 11 | train_loss: 3.1174 | train_acc: 0.3060 | test_loss: 9.9455 | test_acc: 0.0071\n",
      "Epoch: 12 | train_loss: 3.0721 | train_acc: 0.3117 | test_loss: 10.2199 | test_acc: 0.0067\n",
      "Epoch: 13 | train_loss: 3.0351 | train_acc: 0.3177 | test_loss: 10.0153 | test_acc: 0.0068\n",
      "Epoch: 14 | train_loss: 3.0044 | train_acc: 0.3239 | test_loss: 10.8221 | test_acc: 0.0051\n",
      "Epoch: 15 | train_loss: 2.9711 | train_acc: 0.3310 | test_loss: 10.8134 | test_acc: 0.0072\n",
      "Epoch: 16 | train_loss: 2.9435 | train_acc: 0.3356 | test_loss: 10.6778 | test_acc: 0.0053\n",
      "Epoch: 17 | train_loss: 2.9131 | train_acc: 0.3398 | test_loss: 11.1098 | test_acc: 0.0046\n",
      "Epoch: 18 | train_loss: 2.8935 | train_acc: 0.3425 | test_loss: 10.5519 | test_acc: 0.0062\n",
      "Epoch: 19 | train_loss: 2.8687 | train_acc: 0.3475 | test_loss: 11.0512 | test_acc: 0.0077\n",
      "Epoch: 20 | train_loss: 2.8471 | train_acc: 0.3534 | test_loss: 10.6900 | test_acc: 0.0065\n"
     ]
    }
   ],
   "execution_count": 66
  },
  {
   "cell_type": "code",
   "source": [
    "# Train for 50 epochs\n",
    "torch.manual_seed(42)\n",
    "torch.cuda.manual_seed(42)\n",
    "\n",
    "loss_fn = nn.CrossEntropyLoss()\n",
    "optimizer = torch.optim.Adam(params=model_0.parameters(),\n",
    "                             lr=0.001)\n",
    "\n",
    "model_0_results_50_epochs = train(model=model_0,\n",
    "                                  train_dataloader=train_dataloader,\n",
    "                                  test_dataloader=test_dataloader,\n",
    "                                  optimizer=optimizer,\n",
    "                                  loss_fn=loss_fn,\n",
    "                                  epochs=50)"
   ],
   "metadata": {
    "id": "Dwvg40qAQGP9",
    "ExecuteTime": {
     "end_time": "2025-09-17T11:35:51.910456200Z",
     "start_time": "2025-09-17T07:43:57.954926Z"
    }
   },
   "outputs": [
    {
     "data": {
      "text/plain": [
       "  0%|          | 0/50 [00:00<?, ?it/s]"
      ],
      "application/vnd.jupyter.widget-view+json": {
       "version_major": 2,
       "version_minor": 0,
       "model_id": "90afc03ef6f8461b80e3bcda90ef1769"
      }
     },
     "metadata": {},
     "output_type": "display_data",
     "jetTransient": {
      "display_id": null
     }
    },
    {
     "name": "stdout",
     "output_type": "stream",
     "text": [
      "Epoch: 1 | train_loss: 2.8313 | train_acc: 0.3550 | test_loss: 11.5521 | test_acc: 0.0053\n",
      "Epoch: 2 | train_loss: 2.7919 | train_acc: 0.3603 | test_loss: 10.8373 | test_acc: 0.0062\n",
      "Epoch: 3 | train_loss: 2.7835 | train_acc: 0.3626 | test_loss: 11.0841 | test_acc: 0.0063\n",
      "Epoch: 4 | train_loss: 2.7706 | train_acc: 0.3663 | test_loss: 11.9847 | test_acc: 0.0045\n",
      "Epoch: 5 | train_loss: 2.7474 | train_acc: 0.3687 | test_loss: 10.9284 | test_acc: 0.0073\n",
      "Epoch: 6 | train_loss: 2.7396 | train_acc: 0.3705 | test_loss: 11.6524 | test_acc: 0.0060\n",
      "Epoch: 7 | train_loss: 2.7225 | train_acc: 0.3737 | test_loss: 11.1651 | test_acc: 0.0062\n",
      "Epoch: 8 | train_loss: 2.7158 | train_acc: 0.3749 | test_loss: 11.5364 | test_acc: 0.0045\n",
      "Epoch: 9 | train_loss: 2.7053 | train_acc: 0.3773 | test_loss: 12.0009 | test_acc: 0.0052\n",
      "Epoch: 10 | train_loss: 2.6920 | train_acc: 0.3795 | test_loss: 11.4017 | test_acc: 0.0076\n",
      "Epoch: 11 | train_loss: 2.6823 | train_acc: 0.3815 | test_loss: 11.1407 | test_acc: 0.0057\n",
      "Epoch: 12 | train_loss: 2.6732 | train_acc: 0.3822 | test_loss: 11.6858 | test_acc: 0.0069\n",
      "Epoch: 13 | train_loss: 2.6655 | train_acc: 0.3854 | test_loss: 11.7070 | test_acc: 0.0053\n",
      "Epoch: 14 | train_loss: 2.6608 | train_acc: 0.3870 | test_loss: 12.1331 | test_acc: 0.0056\n",
      "Epoch: 15 | train_loss: 2.6508 | train_acc: 0.3879 | test_loss: 12.1197 | test_acc: 0.0063\n",
      "Epoch: 16 | train_loss: 2.6459 | train_acc: 0.3892 | test_loss: 11.9072 | test_acc: 0.0057\n",
      "Epoch: 17 | train_loss: 2.6388 | train_acc: 0.3898 | test_loss: 12.4989 | test_acc: 0.0044\n",
      "Epoch: 18 | train_loss: 2.6307 | train_acc: 0.3901 | test_loss: 11.4605 | test_acc: 0.0079\n",
      "Epoch: 19 | train_loss: 2.6258 | train_acc: 0.3917 | test_loss: 12.0057 | test_acc: 0.0085\n",
      "Epoch: 20 | train_loss: 2.6173 | train_acc: 0.3952 | test_loss: 11.8698 | test_acc: 0.0055\n",
      "Epoch: 21 | train_loss: 2.6337 | train_acc: 0.3910 | test_loss: 11.9451 | test_acc: 0.0063\n",
      "Epoch: 22 | train_loss: 2.6335 | train_acc: 0.3895 | test_loss: 12.0564 | test_acc: 0.0078\n",
      "Epoch: 23 | train_loss: 2.6264 | train_acc: 0.3919 | test_loss: 12.1722 | test_acc: 0.0042\n",
      "Epoch: 24 | train_loss: 2.6136 | train_acc: 0.3931 | test_loss: 12.8163 | test_acc: 0.0045\n",
      "Epoch: 25 | train_loss: 2.6125 | train_acc: 0.3914 | test_loss: 12.2339 | test_acc: 0.0052\n",
      "Epoch: 26 | train_loss: 2.6032 | train_acc: 0.3940 | test_loss: 13.7020 | test_acc: 0.0034\n",
      "Epoch: 27 | train_loss: 2.5979 | train_acc: 0.3963 | test_loss: 12.2537 | test_acc: 0.0039\n",
      "Epoch: 28 | train_loss: 2.5970 | train_acc: 0.3965 | test_loss: 11.5526 | test_acc: 0.0074\n",
      "Epoch: 29 | train_loss: 2.5900 | train_acc: 0.3953 | test_loss: 12.2150 | test_acc: 0.0054\n",
      "Epoch: 30 | train_loss: 2.5823 | train_acc: 0.3981 | test_loss: 11.0998 | test_acc: 0.0124\n",
      "Epoch: 31 | train_loss: 2.5819 | train_acc: 0.3974 | test_loss: 11.7509 | test_acc: 0.0070\n",
      "Epoch: 32 | train_loss: 2.5746 | train_acc: 0.3969 | test_loss: 13.7848 | test_acc: 0.0030\n",
      "Epoch: 33 | train_loss: 2.5746 | train_acc: 0.3987 | test_loss: 11.2444 | test_acc: 0.0126\n",
      "Epoch: 34 | train_loss: 2.5756 | train_acc: 0.3995 | test_loss: 12.8428 | test_acc: 0.0058\n",
      "Epoch: 35 | train_loss: 2.5703 | train_acc: 0.4003 | test_loss: 13.3726 | test_acc: 0.0034\n",
      "Epoch: 36 | train_loss: 2.5633 | train_acc: 0.3991 | test_loss: 12.6408 | test_acc: 0.0043\n",
      "Epoch: 37 | train_loss: 2.5574 | train_acc: 0.4023 | test_loss: 13.8224 | test_acc: 0.0033\n",
      "Epoch: 38 | train_loss: 2.5541 | train_acc: 0.4014 | test_loss: 13.1595 | test_acc: 0.0037\n",
      "Epoch: 39 | train_loss: 2.5501 | train_acc: 0.4012 | test_loss: 12.1803 | test_acc: 0.0060\n",
      "Epoch: 40 | train_loss: 2.5487 | train_acc: 0.4032 | test_loss: 12.9063 | test_acc: 0.0054\n",
      "Epoch: 41 | train_loss: 2.5422 | train_acc: 0.4024 | test_loss: 12.6891 | test_acc: 0.0086\n",
      "Epoch: 42 | train_loss: 2.5459 | train_acc: 0.4011 | test_loss: 12.9584 | test_acc: 0.0046\n",
      "Epoch: 43 | train_loss: 2.5442 | train_acc: 0.4021 | test_loss: 11.8755 | test_acc: 0.0078\n",
      "Epoch: 44 | train_loss: 2.5314 | train_acc: 0.4050 | test_loss: 13.0393 | test_acc: 0.0058\n",
      "Epoch: 45 | train_loss: 2.5311 | train_acc: 0.4079 | test_loss: 12.7070 | test_acc: 0.0040\n",
      "Epoch: 46 | train_loss: 2.5327 | train_acc: 0.4058 | test_loss: 13.0917 | test_acc: 0.0044\n",
      "Epoch: 47 | train_loss: 2.5293 | train_acc: 0.4088 | test_loss: 12.5226 | test_acc: 0.0068\n",
      "Epoch: 48 | train_loss: 2.5204 | train_acc: 0.4067 | test_loss: 13.2328 | test_acc: 0.0066\n",
      "Epoch: 49 | train_loss: 2.5211 | train_acc: 0.4085 | test_loss: 12.6652 | test_acc: 0.0052\n",
      "Epoch: 50 | train_loss: 2.5144 | train_acc: 0.4107 | test_loss: 12.9936 | test_acc: 0.0043\n"
     ]
    }
   ],
   "execution_count": 67
  },
  {
   "metadata": {
    "ExecuteTime": {
     "end_time": "2025-09-17T11:35:51.910456200Z",
     "start_time": "2025-09-17T09:56:03.936174Z"
    }
   },
   "cell_type": "code",
   "source": [
    "# 将50个epoch的结果可视化\n",
    "import matplotlib.pyplot as plt\n",
    "\n",
    "plt.figure(figsize=(10, 10))\n",
    "plt.plot(model_0_results_20_epochs[\"train_loss\"], label=\"Train Loss\")\n",
    "plt.plot(model_0_results_20_epochs[\"test_loss\"], label=\"Test Loss\")\n",
    "plt.title(\"Model 0 Loss Curves\")\n",
    "plt.xlabel(\"Epochs\")\n",
    "plt.ylabel(\"Loss\")\n",
    "plt.legend()\n",
    "plt.show()"
   ],
   "outputs": [
    {
     "data": {
      "text/plain": [
       "<Figure size 1000x1000 with 1 Axes>"
      ],
      "image/png": "[encoded data removed]"
     },
     "metadata": {},
     "output_type": "display_data",
     "jetTransient": {
      "display_id": null
     }
    }
   ],
   "execution_count": 70
  },
  {
   "cell_type": "markdown",
   "source": [
    "It looks like our model is starting to overfit towards the end (performing far better on the training data than on the testing data).\n",
    "\n",
    "In order to fix this, we'd have to introduce ways of preventing overfitting."
   ],
   "metadata": {
    "id": "fn8_fDGzQGMn"
   }
  },
  {
   "cell_type": "markdown",
   "source": [
    "## 6. Double the number of hidden units in your model and train it for 20 epochs, what happens to the results?"
   ],
   "metadata": {
    "id": "qxZW-uAbxe_F"
   }
  },
  {
   "cell_type": "code",
   "source": [
    "# Double the number of hidden units and train for 20 epochs\n",
    "torch.manual_seed(42)\n",
    "torch.cuda.manual_seed(42)\n",
    "\n",
    "model_1 = TinyVGG(input_shape=3,\n",
    "                  hidden_units=20,  # Double the hidden units\n",
    "                  output_shape=len(class_names)).to(device)\n",
    "\n",
    "model_1_results = train(model=model_1,\n",
    "                        train_dataloader=train_dataloader,\n",
    "                        test_dataloader=test_dataloader,\n",
    "                        optimizer=optimizer,\n",
    "                        loss_fn=loss_fn,\n",
    "                        epochs=20)"
   ],
   "metadata": {
    "id": "HdRM86voyC0x",
    "ExecuteTime": {
     "end_time": "2025-09-17T11:35:51.910456200Z",
     "start_time": "2025-09-17T09:56:46.898031Z"
    }
   },
   "outputs": [
    {
     "data": {
      "text/plain": [
       "  0%|          | 0/20 [00:00<?, ?it/s]"
      ],
      "application/vnd.jupyter.widget-view+json": {
       "version_major": 2,
       "version_minor": 0,
       "model_id": "eea47e0badd5444db8f35d53609df14b"
      }
     },
     "metadata": {},
     "output_type": "display_data",
     "jetTransient": {
      "display_id": null
     }
    },
    {
     "name": "stdout",
     "output_type": "stream",
     "text": [
      "Epoch: 1 | train_loss: 5.2985 | train_acc: 0.0044 | test_loss: 5.2946 | test_acc: 0.0000\n",
      "Epoch: 2 | train_loss: 5.2985 | train_acc: 0.0043 | test_loss: 5.2946 | test_acc: 0.0000\n",
      "Epoch: 3 | train_loss: 5.2985 | train_acc: 0.0045 | test_loss: 5.2946 | test_acc: 0.0000\n",
      "Epoch: 4 | train_loss: 5.2985 | train_acc: 0.0044 | test_loss: 5.2946 | test_acc: 0.0000\n",
      "Epoch: 5 | train_loss: 5.2985 | train_acc: 0.0045 | test_loss: 5.2946 | test_acc: 0.0000\n",
      "Epoch: 6 | train_loss: 5.2985 | train_acc: 0.0044 | test_loss: 5.2946 | test_acc: 0.0000\n",
      "Epoch: 7 | train_loss: 5.2985 | train_acc: 0.0045 | test_loss: 5.2946 | test_acc: 0.0000\n",
      "Epoch: 8 | train_loss: 5.2985 | train_acc: 0.0044 | test_loss: 5.2946 | test_acc: 0.0000\n",
      "Epoch: 9 | train_loss: 5.2985 | train_acc: 0.0044 | test_loss: 5.2946 | test_acc: 0.0000\n",
      "Epoch: 10 | train_loss: 5.2985 | train_acc: 0.0044 | test_loss: 5.2946 | test_acc: 0.0000\n",
      "Epoch: 11 | train_loss: 5.2985 | train_acc: 0.0045 | test_loss: 5.2946 | test_acc: 0.0000\n",
      "Epoch: 12 | train_loss: 5.2985 | train_acc: 0.0044 | test_loss: 5.2946 | test_acc: 0.0000\n",
      "Epoch: 13 | train_loss: 5.2985 | train_acc: 0.0043 | test_loss: 5.2946 | test_acc: 0.0000\n",
      "Epoch: 14 | train_loss: 5.2985 | train_acc: 0.0044 | test_loss: 5.2946 | test_acc: 0.0000\n",
      "Epoch: 15 | train_loss: 5.2985 | train_acc: 0.0044 | test_loss: 5.2946 | test_acc: 0.0000\n",
      "Epoch: 16 | train_loss: 5.2985 | train_acc: 0.0043 | test_loss: 5.2946 | test_acc: 0.0000\n",
      "Epoch: 17 | train_loss: 5.2985 | train_acc: 0.0044 | test_loss: 5.2946 | test_acc: 0.0000\n",
      "Epoch: 18 | train_loss: 5.2985 | train_acc: 0.0043 | test_loss: 5.2946 | test_acc: 0.0000\n",
      "Epoch: 19 | train_loss: 5.2985 | train_acc: 0.0045 | test_loss: 5.2946 | test_acc: 0.0000\n",
      "Epoch: 20 | train_loss: 5.2985 | train_acc: 0.0044 | test_loss: 5.2946 | test_acc: 0.0000\n"
     ]
    }
   ],
   "execution_count": 71
  },
  {
   "cell_type": "markdown",
   "source": [
    "It looks like the model is still overfitting, even when changing the number of hidden units.\n",
    "\n",
    "To fix this, we'd have to look at ways to prevent overfitting with our model."
   ],
   "metadata": {
    "id": "THYGHbxyTfzM"
   }
  },
  {
   "cell_type": "markdown",
   "source": [
    "## 7. Double the data you're using with your model from step 6 and train it for 20 epochs, what happens to the results?\n",
    "* **Note:** You can use the [custom data creation notebook](https://github.com/mrdbourke/pytorch-deep-learning/blob/main/extras/04_custom_data_creation.ipynb) to scale up your Food101 dataset.\n",
    "* You can also find the [already formatted double data (20% instead of 10% subset) dataset on GitHub](https://github.com/mrdbourke/pytorch-deep-learning/blob/main/data/pizza_steak_sushi_20_percent.zip), you will need to write download code like in exercise 2 to get it into this notebook."
   ],
   "metadata": {
    "id": "JAPDzW0wxhi3"
   }
  },
  {
   "cell_type": "code",
   "source": [
    "# Download 20% data for Pizza/Steak/Sushi from GitHub\n",
    "import requests\n",
    "import zipfile\n",
    "from pathlib import Path\n",
    "\n",
    "# Setup path to data folder\n",
    "data_path = Path(\"data/\")\n",
    "image_path = data_path / \"pizza_steak_sushi_20_percent\"\n",
    "\n",
    "# If the image folder doesn't exist, download it and prepare it... \n",
    "if image_path.is_dir():\n",
    "    print(f\"{image_path} directory exists.\")\n",
    "else:\n",
    "    print(f\"Did not find {image_path} directory, creating one...\")\n",
    "    image_path.mkdir(parents=True, exist_ok=True)\n",
    "\n",
    "# Download pizza, steak, sushi data\n",
    "with open(data_path / \"pizza_steak_sushi_20_percent.zip\", \"wb\") as f:\n",
    "    request = requests.get(\n",
    "        \"https://github.com/mrdbourke/pytorch-deep-learning/raw/main/data/pizza_steak_sushi_20_percent.zip\")\n",
    "    print(\"Downloading pizza, steak, sushi 20% data...\")\n",
    "    f.write(request.content)\n",
    "\n",
    "# Unzip pizza, steak, sushi data\n",
    "with zipfile.ZipFile(data_path / \"pizza_steak_sushi_20_percent.zip\", \"r\") as zip_ref:\n",
    "    print(\"Unzipping pizza, steak, sushi 20% data...\")\n",
    "    zip_ref.extractall(image_path)"
   ],
   "metadata": {
    "id": "8tWfa7Y0yCkX"
   },
   "execution_count": null,
   "outputs": []
  },
  {
   "cell_type": "code",
   "source": [
    "# See how many images we have\n",
    "walk_through_dir(image_path)"
   ],
   "metadata": {
    "id": "DrFK2ScnVg4q"
   },
   "execution_count": null,
   "outputs": []
  },
  {
   "cell_type": "markdown",
   "source": [
    "Excellent, we now have double the training and testing images... "
   ],
   "metadata": {
    "id": "WhlWd-z-Vk22"
   }
  },
  {
   "cell_type": "code",
   "source": [
    "# Create the train and test paths\n",
    "train_data_20_percent_path = image_path / \"train\"\n",
    "test_data_20_percent_path = image_path / \"test\"\n",
    "\n",
    "train_data_20_percent_path, test_data_20_percent_path"
   ],
   "metadata": {
    "id": "hNzXRfO1Tt1Q"
   },
   "execution_count": null,
   "outputs": []
  },
  {
   "cell_type": "code",
   "source": [
    "# Turn the 20 percent datapaths into Datasets and DataLoaders\n",
    "from torchvision.datasets import ImageFolder\n",
    "from torchvision import transforms\n",
    "from torch.utils.data import DataLoader\n",
    "\n",
    "simple_transform = transforms.Compose([\n",
    "    transforms.Resize((64, 64)),\n",
    "    transforms.ToTensor()\n",
    "])\n",
    "\n",
    "# Create datasets\n",
    "\n",
    "\n",
    "# Create dataloaders\n"
   ],
   "metadata": {
    "id": "R1_xU3FQUPkN"
   },
   "execution_count": null,
   "outputs": []
  },
  {
   "cell_type": "code",
   "source": [
    "# Train a model with increased amount of data\n",
    "torch.manual_seed(42)\n",
    "torch.cuda.manual_seed(42)"
   ],
   "metadata": {
    "id": "BuJ9YpRCVXRm"
   },
   "execution_count": null,
   "outputs": []
  },
  {
   "cell_type": "markdown",
   "source": [
    "## 8. Make a prediction on your own custom image of pizza/steak/sushi (you could even download one from the internet) with your trained model from exercise 7 and share your prediction. \n",
    "* Does the model you trained in exercise 7 get it right? \n",
    "* If not, what do you think you could do to improve it?"
   ],
   "metadata": {
    "id": "bCCVfXk5xjYS"
   }
  },
  {
   "cell_type": "code",
   "source": [
    "class AlexNet(nn.Module):\n",
    "    def __init__(self,\n",
    "                 input_shape: int,\n",
    "                 hidden_units: int,\n",
    "                 output_shape: int):\n",
    "        super().__init__()\n",
    "        self.features = nn.Sequential(\n",
    "            nn.Conv2d(in_channels=input_shape,\n",
    "                      out_channels=hidden_units,\n",
    "                      kernel_size=5,\n",
    "                      stride=2,\n",
    "                      padding=1),\n",
    "            nn.ReLU(),\n",
    "            nn.MaxPool2d(kernel_size=3, stride=2),\n",
    "            nn.Conv2d(in_channels=hidden_units,\n",
    "                      out_channels=hidden_units * 3,\n",
    "                      kernel_size=3,\n",
    "                      stride=1,\n",
    "                      padding=1),\n",
    "            nn.ReLU(),\n",
    "            nn.MaxPool2d(kernel_size=3, stride=2),\n",
    "            nn.Conv2d(in_channels=hidden_units * 3,\n",
    "                      out_channels=hidden_units * 6,\n",
    "                      kernel_size=2,\n",
    "                      stride=1,\n",
    "                      padding=1),\n",
    "            nn.ReLU(),\n",
    "            nn.Conv2d(in_channels=hidden_units * 6,\n",
    "                      out_channels=hidden_units * 6,\n",
    "                      kernel_size=2,\n",
    "                      stride=1,\n",
    "                      padding=1),\n",
    "            nn.ReLU(),\n",
    "            nn.Conv2d(in_channels=hidden_units * 6,\n",
    "                      out_channels=hidden_units * 3,\n",
    "                      kernel_size=2,\n",
    "                      stride=1,\n",
    "                      padding=1),\n",
    "            nn.ReLU(),\n",
    "            nn.MaxPool2d(kernel_size=2, stride=2),\n",
    "            nn.Flatten(),\n",
    "        )\n",
    "        self.classifier = nn.Sequential(\n",
    "            nn.Linear(in_features=hidden_units * 3 * 5 * 5,\n",
    "                      out_features=hidden_units * 2 * 5 * 5),\n",
    "            nn.ReLU(),\n",
    "            nn.Dropout(p=0.5),\n",
    "            nn.Linear(in_features=hidden_units * 2 * 5 * 5,\n",
    "                      out_features=hidden_units * 3 * 3),\n",
    "            nn.ReLU(),\n",
    "            nn.Dropout(p=0.5),\n",
    "            nn.Linear(in_features=hidden_units * 3 * 3,\n",
    "                      out_features=output_shape)\n",
    "        )\n",
    "\n",
    "    def forward(self, x):\n",
    "        x = self.features(x)\n",
    "        x = self.classifier(x)\n",
    "        return x\n",
    "\n",
    "\n",
    "from torchinfo import summary\n",
    "\n",
    "model_2 = AlexNet(input_shape=3,\n",
    "                  hidden_units=64,\n",
    "                  output_shape=len(class_names)).to(device)\n",
    "\n",
    "# summary(model_2, (3,64,64))\n",
    "\n",
    "loss_fn = nn.CrossEntropyLoss()\n",
    "optimizer = torch.optim.SGD(model_2.parameters(),\n",
    "                            lr=0.001,\n",
    "                            momentum=0.9)\n",
    "\n",
    "# X = torch.randn(1, 3, 64, 64)\n",
    "# for layer in AlexNet(input_shape=3, hidden_units=64, output_shape=200).features:\n",
    "#     X=layer(X)\n",
    "#     print(layer.__class__.__name__,'output shape:\\t',X.shape)\n",
    "\n",
    "model_2_results = train(model=model_2,\n",
    "                        train_dataloader=train_dataloader,\n",
    "                        test_dataloader=test_dataloader,\n",
    "                        optimizer=optimizer,\n",
    "                        loss_fn=loss_fn,\n",
    "                        epochs=20)"
   ],
   "metadata": {
    "id": "Q1X-33t0vT20",
    "ExecuteTime": {
     "end_time": "2025-09-17T11:35:51.851524Z",
     "start_time": "2025-09-17T11:29:04.564110Z"
    }
   },
   "outputs": [
    {
     "data": {
      "text/plain": [
       "  0%|          | 0/20 [00:00<?, ?it/s]"
      ],
      "application/vnd.jupyter.widget-view+json": {
       "version_major": 2,
       "version_minor": 0,
       "model_id": "f379536bf5ab417ca14a2c90d80d6061"
      }
     },
     "metadata": {},
     "output_type": "display_data",
     "jetTransient": {
      "display_id": null
     }
    },
    {
     "name": "stdout",
     "output_type": "stream",
     "text": [
      "Epoch: 1 | train_loss: 5.2987 | train_acc: 0.0044 | test_loss: 5.3175 | test_acc: 0.0000\n",
      "Epoch: 2 | train_loss: 5.2987 | train_acc: 0.0049 | test_loss: 5.3169 | test_acc: 0.0000\n",
      "Epoch: 3 | train_loss: 5.2986 | train_acc: 0.0048 | test_loss: 5.3169 | test_acc: 0.0000\n",
      "Epoch: 4 | train_loss: 5.2986 | train_acc: 0.0047 | test_loss: 5.3162 | test_acc: 0.0000\n",
      "Epoch: 5 | train_loss: 5.2986 | train_acc: 0.0054 | test_loss: 5.3158 | test_acc: 0.0000\n"
     ]
    },
    {
     "ename": "KeyboardInterrupt",
     "evalue": "",
     "output_type": "error",
     "traceback": [
      "\u001B[31m---------------------------------------------------------------------------\u001B[39m",
      "\u001B[31mKeyboardInterrupt\u001B[39m                         Traceback (most recent call last)",
      "\u001B[36mCell\u001B[39m\u001B[36m \u001B[39m\u001B[32mIn[98]\u001B[39m\u001B[32m, line 80\u001B[39m\n\u001B[32m     71\u001B[39m optimizer = torch.optim.SGD(model_2.parameters(),\n\u001B[32m     72\u001B[39m                             lr=\u001B[32m0.001\u001B[39m,\n\u001B[32m     73\u001B[39m                             momentum=\u001B[32m0.9\u001B[39m)\n\u001B[32m     75\u001B[39m \u001B[38;5;66;03m# X = torch.randn(1, 3, 64, 64)\u001B[39;00m\n\u001B[32m     76\u001B[39m \u001B[38;5;66;03m# for layer in AlexNet(input_shape=3, hidden_units=64, output_shape=200).features:\u001B[39;00m\n\u001B[32m     77\u001B[39m \u001B[38;5;66;03m#     X=layer(X)\u001B[39;00m\n\u001B[32m     78\u001B[39m \u001B[38;5;66;03m#     print(layer.__class__.__name__,'output shape:\\t',X.shape)\u001B[39;00m\n\u001B[32m---> \u001B[39m\u001B[32m80\u001B[39m model_2_results = \u001B[43mtrain\u001B[49m\u001B[43m(\u001B[49m\u001B[43mmodel\u001B[49m\u001B[43m=\u001B[49m\u001B[43mmodel_2\u001B[49m\u001B[43m,\u001B[49m\n\u001B[32m     81\u001B[39m \u001B[43m                        \u001B[49m\u001B[43mtrain_dataloader\u001B[49m\u001B[43m=\u001B[49m\u001B[43mtrain_dataloader\u001B[49m\u001B[43m,\u001B[49m\n\u001B[32m     82\u001B[39m \u001B[43m                        \u001B[49m\u001B[43mtest_dataloader\u001B[49m\u001B[43m=\u001B[49m\u001B[43mtest_dataloader\u001B[49m\u001B[43m,\u001B[49m\n\u001B[32m     83\u001B[39m \u001B[43m                        \u001B[49m\u001B[43moptimizer\u001B[49m\u001B[43m=\u001B[49m\u001B[43moptimizer\u001B[49m\u001B[43m,\u001B[49m\n\u001B[32m     84\u001B[39m \u001B[43m                        \u001B[49m\u001B[43mloss_fn\u001B[49m\u001B[43m=\u001B[49m\u001B[43mloss_fn\u001B[49m\u001B[43m,\u001B[49m\n\u001B[32m     85\u001B[39m \u001B[43m                        \u001B[49m\u001B[43mepochs\u001B[49m\u001B[43m=\u001B[49m\u001B[32;43m20\u001B[39;49m\u001B[43m)\u001B[49m\n",
      "\u001B[36mCell\u001B[39m\u001B[36m \u001B[39m\u001B[32mIn[63]\u001B[39m\u001B[32m, line 24\u001B[39m, in \u001B[36mtrain\u001B[39m\u001B[34m(model, train_dataloader, test_dataloader, optimizer, loss_fn, epochs)\u001B[39m\n\u001B[32m     19\u001B[39m train_loss, train_acc = train_step(model=model,\n\u001B[32m     20\u001B[39m                                    dataloader=train_dataloader,\n\u001B[32m     21\u001B[39m                                    loss_fn=loss_fn,\n\u001B[32m     22\u001B[39m                                    optimizer=optimizer)\n\u001B[32m     23\u001B[39m \u001B[38;5;66;03m# Test step\u001B[39;00m\n\u001B[32m---> \u001B[39m\u001B[32m24\u001B[39m test_loss, test_acc = \u001B[43mtest_step\u001B[49m\u001B[43m(\u001B[49m\u001B[43mmodel\u001B[49m\u001B[43m=\u001B[49m\u001B[43mmodel\u001B[49m\u001B[43m,\u001B[49m\n\u001B[32m     25\u001B[39m \u001B[43m                                \u001B[49m\u001B[43mdataloader\u001B[49m\u001B[43m=\u001B[49m\u001B[43mtest_dataloader\u001B[49m\u001B[43m,\u001B[49m\n\u001B[32m     26\u001B[39m \u001B[43m                                \u001B[49m\u001B[43mloss_fn\u001B[49m\u001B[43m=\u001B[49m\u001B[43mloss_fn\u001B[49m\u001B[43m)\u001B[49m\n\u001B[32m     28\u001B[39m \u001B[38;5;66;03m# Print out what's happening\u001B[39;00m\n\u001B[32m     29\u001B[39m \u001B[38;5;28mprint\u001B[39m(\u001B[33mf\u001B[39m\u001B[33m\"\u001B[39m\u001B[33mEpoch: \u001B[39m\u001B[38;5;132;01m{\u001B[39;00mepoch\u001B[38;5;250m \u001B[39m+\u001B[38;5;250m \u001B[39m\u001B[32m1\u001B[39m\u001B[38;5;132;01m}\u001B[39;00m\u001B[33m | \u001B[39m\u001B[33m\"\u001B[39m\n\u001B[32m     30\u001B[39m       \u001B[33mf\u001B[39m\u001B[33m\"\u001B[39m\u001B[33mtrain_loss: \u001B[39m\u001B[38;5;132;01m{\u001B[39;00mtrain_loss\u001B[38;5;132;01m:\u001B[39;00m\u001B[33m.4f\u001B[39m\u001B[38;5;132;01m}\u001B[39;00m\u001B[33m | \u001B[39m\u001B[33m\"\u001B[39m\n\u001B[32m     31\u001B[39m       \u001B[33mf\u001B[39m\u001B[33m\"\u001B[39m\u001B[33mtrain_acc: \u001B[39m\u001B[38;5;132;01m{\u001B[39;00mtrain_acc\u001B[38;5;132;01m:\u001B[39;00m\u001B[33m.4f\u001B[39m\u001B[38;5;132;01m}\u001B[39;00m\u001B[33m | \u001B[39m\u001B[33m\"\u001B[39m\n\u001B[32m     32\u001B[39m       \u001B[33mf\u001B[39m\u001B[33m\"\u001B[39m\u001B[33mtest_loss: \u001B[39m\u001B[38;5;132;01m{\u001B[39;00mtest_loss\u001B[38;5;132;01m:\u001B[39;00m\u001B[33m.4f\u001B[39m\u001B[38;5;132;01m}\u001B[39;00m\u001B[33m | \u001B[39m\u001B[33m\"\u001B[39m\n\u001B[32m     33\u001B[39m       \u001B[33mf\u001B[39m\u001B[33m\"\u001B[39m\u001B[33mtest_acc: \u001B[39m\u001B[38;5;132;01m{\u001B[39;00mtest_acc\u001B[38;5;132;01m:\u001B[39;00m\u001B[33m.4f\u001B[39m\u001B[38;5;132;01m}\u001B[39;00m\u001B[33m\"\u001B[39m\n\u001B[32m     34\u001B[39m       )\n",
      "\u001B[36mCell\u001B[39m\u001B[36m \u001B[39m\u001B[32mIn[62]\u001B[39m\u001B[32m, line 13\u001B[39m, in \u001B[36mtest_step\u001B[39m\u001B[34m(model, dataloader, loss_fn)\u001B[39m\n\u001B[32m     10\u001B[39m \u001B[38;5;66;03m# Turn on inference context manager\u001B[39;00m\n\u001B[32m     11\u001B[39m \u001B[38;5;28;01mwith\u001B[39;00m torch.inference_mode():\n\u001B[32m     12\u001B[39m     \u001B[38;5;66;03m# Loop through DataLoader batches\u001B[39;00m\n\u001B[32m---> \u001B[39m\u001B[32m13\u001B[39m     \u001B[38;5;28;01mfor\u001B[39;00m batch, (X, y) \u001B[38;5;129;01min\u001B[39;00m \u001B[38;5;28;43menumerate\u001B[39;49m\u001B[43m(\u001B[49m\u001B[43mdataloader\u001B[49m\u001B[43m)\u001B[49m:\n\u001B[32m     14\u001B[39m         \u001B[38;5;66;03m# Send data to target device\u001B[39;00m\n\u001B[32m     15\u001B[39m         X, y = X.to(device), y.to(device)\n\u001B[32m     16\u001B[39m         \u001B[38;5;66;03m# 1. Forward pass\u001B[39;00m\n",
      "\u001B[36mFile \u001B[39m\u001B[32m~\\PycharmProjects\\pytorch_ex\\.venv\\Lib\\site-packages\\torch\\utils\\data\\dataloader.py:494\u001B[39m, in \u001B[36mDataLoader.__iter__\u001B[39m\u001B[34m(self)\u001B[39m\n\u001B[32m    492\u001B[39m     \u001B[38;5;28;01mreturn\u001B[39;00m \u001B[38;5;28mself\u001B[39m._iterator\n\u001B[32m    493\u001B[39m \u001B[38;5;28;01melse\u001B[39;00m:\n\u001B[32m--> \u001B[39m\u001B[32m494\u001B[39m     \u001B[38;5;28;01mreturn\u001B[39;00m \u001B[38;5;28;43mself\u001B[39;49m\u001B[43m.\u001B[49m\u001B[43m_get_iterator\u001B[49m\u001B[43m(\u001B[49m\u001B[43m)\u001B[49m\n",
      "\u001B[36mFile \u001B[39m\u001B[32m~\\PycharmProjects\\pytorch_ex\\.venv\\Lib\\site-packages\\torch\\utils\\data\\dataloader.py:427\u001B[39m, in \u001B[36mDataLoader._get_iterator\u001B[39m\u001B[34m(self)\u001B[39m\n\u001B[32m    425\u001B[39m \u001B[38;5;28;01melse\u001B[39;00m:\n\u001B[32m    426\u001B[39m     \u001B[38;5;28mself\u001B[39m.check_worker_number_rationality()\n\u001B[32m--> \u001B[39m\u001B[32m427\u001B[39m     \u001B[38;5;28;01mreturn\u001B[39;00m \u001B[43m_MultiProcessingDataLoaderIter\u001B[49m\u001B[43m(\u001B[49m\u001B[38;5;28;43mself\u001B[39;49m\u001B[43m)\u001B[49m\n",
      "\u001B[36mFile \u001B[39m\u001B[32m~\\PycharmProjects\\pytorch_ex\\.venv\\Lib\\site-packages\\torch\\utils\\data\\dataloader.py:1172\u001B[39m, in \u001B[36m_MultiProcessingDataLoaderIter.__init__\u001B[39m\u001B[34m(self, loader)\u001B[39m\n\u001B[32m   1165\u001B[39m w.daemon = \u001B[38;5;28;01mTrue\u001B[39;00m\n\u001B[32m   1166\u001B[39m \u001B[38;5;66;03m# NB: Process.start() actually take some time as it needs to\u001B[39;00m\n\u001B[32m   1167\u001B[39m \u001B[38;5;66;03m#     start a process and pass the arguments over via a pipe.\u001B[39;00m\n\u001B[32m   1168\u001B[39m \u001B[38;5;66;03m#     Therefore, we only add a worker to self._workers list after\u001B[39;00m\n\u001B[32m   1169\u001B[39m \u001B[38;5;66;03m#     it started, so that we do not call .join() if program dies\u001B[39;00m\n\u001B[32m   1170\u001B[39m \u001B[38;5;66;03m#     before it starts, and __del__ tries to join but will get:\u001B[39;00m\n\u001B[32m   1171\u001B[39m \u001B[38;5;66;03m#     AssertionError: can only join a started process.\u001B[39;00m\n\u001B[32m-> \u001B[39m\u001B[32m1172\u001B[39m \u001B[43mw\u001B[49m\u001B[43m.\u001B[49m\u001B[43mstart\u001B[49m\u001B[43m(\u001B[49m\u001B[43m)\u001B[49m\n\u001B[32m   1173\u001B[39m \u001B[38;5;28mself\u001B[39m._index_queues.append(index_queue)\n\u001B[32m   1174\u001B[39m \u001B[38;5;28mself\u001B[39m._workers.append(w)\n",
      "\u001B[36mFile \u001B[39m\u001B[32m~\\AppData\\Local\\Programs\\Python\\Python313\\Lib\\multiprocessing\\process.py:121\u001B[39m, in \u001B[36mBaseProcess.start\u001B[39m\u001B[34m(self)\u001B[39m\n\u001B[32m    118\u001B[39m \u001B[38;5;28;01massert\u001B[39;00m \u001B[38;5;129;01mnot\u001B[39;00m _current_process._config.get(\u001B[33m'\u001B[39m\u001B[33mdaemon\u001B[39m\u001B[33m'\u001B[39m), \\\n\u001B[32m    119\u001B[39m        \u001B[33m'\u001B[39m\u001B[33mdaemonic processes are not allowed to have children\u001B[39m\u001B[33m'\u001B[39m\n\u001B[32m    120\u001B[39m _cleanup()\n\u001B[32m--> \u001B[39m\u001B[32m121\u001B[39m \u001B[38;5;28mself\u001B[39m._popen = \u001B[38;5;28;43mself\u001B[39;49m\u001B[43m.\u001B[49m\u001B[43m_Popen\u001B[49m\u001B[43m(\u001B[49m\u001B[38;5;28;43mself\u001B[39;49m\u001B[43m)\u001B[49m\n\u001B[32m    122\u001B[39m \u001B[38;5;28mself\u001B[39m._sentinel = \u001B[38;5;28mself\u001B[39m._popen.sentinel\n\u001B[32m    123\u001B[39m \u001B[38;5;66;03m# Avoid a refcycle if the target function holds an indirect\u001B[39;00m\n\u001B[32m    124\u001B[39m \u001B[38;5;66;03m# reference to the process object (see bpo-30775)\u001B[39;00m\n",
      "\u001B[36mFile \u001B[39m\u001B[32m~\\AppData\\Local\\Programs\\Python\\Python313\\Lib\\multiprocessing\\context.py:224\u001B[39m, in \u001B[36mProcess._Popen\u001B[39m\u001B[34m(process_obj)\u001B[39m\n\u001B[32m    222\u001B[39m \u001B[38;5;129m@staticmethod\u001B[39m\n\u001B[32m    223\u001B[39m \u001B[38;5;28;01mdef\u001B[39;00m\u001B[38;5;250m \u001B[39m\u001B[34m_Popen\u001B[39m(process_obj):\n\u001B[32m--> \u001B[39m\u001B[32m224\u001B[39m     \u001B[38;5;28;01mreturn\u001B[39;00m \u001B[43m_default_context\u001B[49m\u001B[43m.\u001B[49m\u001B[43mget_context\u001B[49m\u001B[43m(\u001B[49m\u001B[43m)\u001B[49m\u001B[43m.\u001B[49m\u001B[43mProcess\u001B[49m\u001B[43m.\u001B[49m\u001B[43m_Popen\u001B[49m\u001B[43m(\u001B[49m\u001B[43mprocess_obj\u001B[49m\u001B[43m)\u001B[49m\n",
      "\u001B[36mFile \u001B[39m\u001B[32m~\\AppData\\Local\\Programs\\Python\\Python313\\Lib\\multiprocessing\\context.py:337\u001B[39m, in \u001B[36mSpawnProcess._Popen\u001B[39m\u001B[34m(process_obj)\u001B[39m\n\u001B[32m    334\u001B[39m \u001B[38;5;129m@staticmethod\u001B[39m\n\u001B[32m    335\u001B[39m \u001B[38;5;28;01mdef\u001B[39;00m\u001B[38;5;250m \u001B[39m\u001B[34m_Popen\u001B[39m(process_obj):\n\u001B[32m    336\u001B[39m     \u001B[38;5;28;01mfrom\u001B[39;00m\u001B[38;5;250m \u001B[39m\u001B[34;01m.\u001B[39;00m\u001B[34;01mpopen_spawn_win32\u001B[39;00m\u001B[38;5;250m \u001B[39m\u001B[38;5;28;01mimport\u001B[39;00m Popen\n\u001B[32m--> \u001B[39m\u001B[32m337\u001B[39m     \u001B[38;5;28;01mreturn\u001B[39;00m \u001B[43mPopen\u001B[49m\u001B[43m(\u001B[49m\u001B[43mprocess_obj\u001B[49m\u001B[43m)\u001B[49m\n",
      "\u001B[36mFile \u001B[39m\u001B[32m~\\AppData\\Local\\Programs\\Python\\Python313\\Lib\\multiprocessing\\popen_spawn_win32.py:97\u001B[39m, in \u001B[36mPopen.__init__\u001B[39m\u001B[34m(self, process_obj)\u001B[39m\n\u001B[32m     95\u001B[39m \u001B[38;5;28;01mtry\u001B[39;00m:\n\u001B[32m     96\u001B[39m     reduction.dump(prep_data, to_child)\n\u001B[32m---> \u001B[39m\u001B[32m97\u001B[39m     \u001B[43mreduction\u001B[49m\u001B[43m.\u001B[49m\u001B[43mdump\u001B[49m\u001B[43m(\u001B[49m\u001B[43mprocess_obj\u001B[49m\u001B[43m,\u001B[49m\u001B[43m \u001B[49m\u001B[43mto_child\u001B[49m\u001B[43m)\u001B[49m\n\u001B[32m     98\u001B[39m \u001B[38;5;28;01mfinally\u001B[39;00m:\n\u001B[32m     99\u001B[39m     set_spawning_popen(\u001B[38;5;28;01mNone\u001B[39;00m)\n",
      "\u001B[36mFile \u001B[39m\u001B[32m~\\AppData\\Local\\Programs\\Python\\Python313\\Lib\\multiprocessing\\reduction.py:60\u001B[39m, in \u001B[36mdump\u001B[39m\u001B[34m(obj, file, protocol)\u001B[39m\n\u001B[32m     58\u001B[39m \u001B[38;5;28;01mdef\u001B[39;00m\u001B[38;5;250m \u001B[39m\u001B[34mdump\u001B[39m(obj, file, protocol=\u001B[38;5;28;01mNone\u001B[39;00m):\n\u001B[32m     59\u001B[39m \u001B[38;5;250m    \u001B[39m\u001B[33;03m'''Replacement for pickle.dump() using ForkingPickler.'''\u001B[39;00m\n\u001B[32m---> \u001B[39m\u001B[32m60\u001B[39m     \u001B[43mForkingPickler\u001B[49m\u001B[43m(\u001B[49m\u001B[43mfile\u001B[49m\u001B[43m,\u001B[49m\u001B[43m \u001B[49m\u001B[43mprotocol\u001B[49m\u001B[43m)\u001B[49m\u001B[43m.\u001B[49m\u001B[43mdump\u001B[49m\u001B[43m(\u001B[49m\u001B[43mobj\u001B[49m\u001B[43m)\u001B[49m\n",
      "\u001B[31mKeyboardInterrupt\u001B[39m: "
     ]
    }
   ],
   "execution_count": 98
  },
  {
   "metadata": {},
   "cell_type": "code",
   "outputs": [],
   "execution_count": null,
   "source": ""
  }
 ]
}
