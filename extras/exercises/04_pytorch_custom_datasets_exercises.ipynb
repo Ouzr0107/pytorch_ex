{
  "nbformat": 4,
  "nbformat_minor": 0,
  "metadata": {
    "colab": {
      "name": "04_pytorch_custom_datasets_exercises.ipynb",
      "provenance": [],
      "include_colab_link": true
    },
    "kernelspec": {
      "name": "python3",
      "display_name": "Python 3 (ipykernel)",
      "language": "python"
    },
    "language_info": {
      "name": "python"
    },
    "accelerator": "GPU",
    "widgets": {
      "application/vnd.jupyter.widget-state+json": {
        "68bad5fb24fc4dd7997caa0afbd2fc4c": {
          "model_module": "@jupyter-widgets/controls",
          "model_name": "HBoxModel",
          "model_module_version": "1.5.0",
          "state": {
            "_dom_classes": [],
            "_model_module": "@jupyter-widgets/controls",
            "_model_module_version": "1.5.0",
            "_model_name": "HBoxModel",
            "_view_count": null,
            "_view_module": "@jupyter-widgets/controls",
            "_view_module_version": "1.5.0",
            "_view_name": "HBoxView",
            "box_style": "",
            "children": [
              "IPY_MODEL_fbd001e0900048c9b1a0360b209beafe",
              "IPY_MODEL_73067498699245adacb7dad003dedfcf",
              "IPY_MODEL_56a4ecc917ee469a9eff83437d5b56b3"
            ],
            "layout": "IPY_MODEL_44fcdff61e3f4dcf88ae8566d4065cef"
          }
        },
        "fbd001e0900048c9b1a0360b209beafe": {
          "model_module": "@jupyter-widgets/controls",
          "model_name": "HTMLModel",
          "model_module_version": "1.5.0",
          "state": {
            "_dom_classes": [],
            "_model_module": "@jupyter-widgets/controls",
            "_model_module_version": "1.5.0",
            "_model_name": "HTMLModel",
            "_view_count": null,
            "_view_module": "@jupyter-widgets/controls",
            "_view_module_version": "1.5.0",
            "_view_name": "HTMLView",
            "description": "",
            "description_tooltip": null,
            "layout": "IPY_MODEL_3c186e4f57b84a4fa043702f640e40eb",
            "placeholder": "​",
            "style": "IPY_MODEL_90467e25db11469a937a42be1323dac3",
            "value": "100%"
          }
        },
        "73067498699245adacb7dad003dedfcf": {
          "model_module": "@jupyter-widgets/controls",
          "model_name": "FloatProgressModel",
          "model_module_version": "1.5.0",
          "state": {
            "_dom_classes": [],
            "_model_module": "@jupyter-widgets/controls",
            "_model_module_version": "1.5.0",
            "_model_name": "FloatProgressModel",
            "_view_count": null,
            "_view_module": "@jupyter-widgets/controls",
            "_view_module_version": "1.5.0",
            "_view_name": "ProgressView",
            "bar_style": "success",
            "description": "",
            "description_tooltip": null,
            "layout": "IPY_MODEL_a9a8be77dba8410e99b4209e40bb5318",
            "max": 5,
            "min": 0,
            "orientation": "horizontal",
            "style": "IPY_MODEL_f5a7cb95d39446d99782525d52d9e137",
            "value": 5
          }
        },
        "56a4ecc917ee469a9eff83437d5b56b3": {
          "model_module": "@jupyter-widgets/controls",
          "model_name": "HTMLModel",
          "model_module_version": "1.5.0",
          "state": {
            "_dom_classes": [],
            "_model_module": "@jupyter-widgets/controls",
            "_model_module_version": "1.5.0",
            "_model_name": "HTMLModel",
            "_view_count": null,
            "_view_module": "@jupyter-widgets/controls",
            "_view_module_version": "1.5.0",
            "_view_name": "HTMLView",
            "description": "",
            "description_tooltip": null,
            "layout": "IPY_MODEL_38137199725e4dfbafcf740d862682ff",
            "placeholder": "​",
            "style": "IPY_MODEL_8b843415ca9c44ea9906b6b0eaab612a",
            "value": " 5/5 [00:38&lt;00:00,  7.68s/it]"
          }
        },
        "44fcdff61e3f4dcf88ae8566d4065cef": {
          "model_module": "@jupyter-widgets/base",
          "model_name": "LayoutModel",
          "model_module_version": "1.2.0",
          "state": {
            "_model_module": "@jupyter-widgets/base",
            "_model_module_version": "1.2.0",
            "_model_name": "LayoutModel",
            "_view_count": null,
            "_view_module": "@jupyter-widgets/base",
            "_view_module_version": "1.2.0",
            "_view_name": "LayoutView",
            "align_content": null,
            "align_items": null,
            "align_self": null,
            "border": null,
            "bottom": null,
            "display": null,
            "flex": null,
            "flex_flow": null,
            "grid_area": null,
            "grid_auto_columns": null,
            "grid_auto_flow": null,
            "grid_auto_rows": null,
            "grid_column": null,
            "grid_gap": null,
            "grid_row": null,
            "grid_template_areas": null,
            "grid_template_columns": null,
            "grid_template_rows": null,
            "height": null,
            "justify_content": null,
            "justify_items": null,
            "left": null,
            "margin": null,
            "max_height": null,
            "max_width": null,
            "min_height": null,
            "min_width": null,
            "object_fit": null,
            "object_position": null,
            "order": null,
            "overflow": null,
            "overflow_x": null,
            "overflow_y": null,
            "padding": null,
            "right": null,
            "top": null,
            "visibility": null,
            "width": null
          }
        },
        "3c186e4f57b84a4fa043702f640e40eb": {
          "model_module": "@jupyter-widgets/base",
          "model_name": "LayoutModel",
          "model_module_version": "1.2.0",
          "state": {
            "_model_module": "@jupyter-widgets/base",
            "_model_module_version": "1.2.0",
            "_model_name": "LayoutModel",
            "_view_count": null,
            "_view_module": "@jupyter-widgets/base",
            "_view_module_version": "1.2.0",
            "_view_name": "LayoutView",
            "align_content": null,
            "align_items": null,
            "align_self": null,
            "border": null,
            "bottom": null,
            "display": null,
            "flex": null,
            "flex_flow": null,
            "grid_area": null,
            "grid_auto_columns": null,
            "grid_auto_flow": null,
            "grid_auto_rows": null,
            "grid_column": null,
            "grid_gap": null,
            "grid_row": null,
            "grid_template_areas": null,
            "grid_template_columns": null,
            "grid_template_rows": null,
            "height": null,
            "justify_content": null,
            "justify_items": null,
            "left": null,
            "margin": null,
            "max_height": null,
            "max_width": null,
            "min_height": null,
            "min_width": null,
            "object_fit": null,
            "object_position": null,
            "order": null,
            "overflow": null,
            "overflow_x": null,
            "overflow_y": null,
            "padding": null,
            "right": null,
            "top": null,
            "visibility": null,
            "width": null
          }
        },
        "90467e25db11469a937a42be1323dac3": {
          "model_module": "@jupyter-widgets/controls",
          "model_name": "DescriptionStyleModel",
          "model_module_version": "1.5.0",
          "state": {
            "_model_module": "@jupyter-widgets/controls",
            "_model_module_version": "1.5.0",
            "_model_name": "DescriptionStyleModel",
            "_view_count": null,
            "_view_module": "@jupyter-widgets/base",
            "_view_module_version": "1.2.0",
            "_view_name": "StyleView",
            "description_width": ""
          }
        },
        "a9a8be77dba8410e99b4209e40bb5318": {
          "model_module": "@jupyter-widgets/base",
          "model_name": "LayoutModel",
          "model_module_version": "1.2.0",
          "state": {
            "_model_module": "@jupyter-widgets/base",
            "_model_module_version": "1.2.0",
            "_model_name": "LayoutModel",
            "_view_count": null,
            "_view_module": "@jupyter-widgets/base",
            "_view_module_version": "1.2.0",
            "_view_name": "LayoutView",
            "align_content": null,
            "align_items": null,
            "align_self": null,
            "border": null,
            "bottom": null,
            "display": null,
            "flex": null,
            "flex_flow": null,
            "grid_area": null,
            "grid_auto_columns": null,
            "grid_auto_flow": null,
            "grid_auto_rows": null,
            "grid_column": null,
            "grid_gap": null,
            "grid_row": null,
            "grid_template_areas": null,
            "grid_template_columns": null,
            "grid_template_rows": null,
            "height": null,
            "justify_content": null,
            "justify_items": null,
            "left": null,
            "margin": null,
            "max_height": null,
            "max_width": null,
            "min_height": null,
            "min_width": null,
            "object_fit": null,
            "object_position": null,
            "order": null,
            "overflow": null,
            "overflow_x": null,
            "overflow_y": null,
            "padding": null,
            "right": null,
            "top": null,
            "visibility": null,
            "width": null
          }
        },
        "f5a7cb95d39446d99782525d52d9e137": {
          "model_module": "@jupyter-widgets/controls",
          "model_name": "ProgressStyleModel",
          "model_module_version": "1.5.0",
          "state": {
            "_model_module": "@jupyter-widgets/controls",
            "_model_module_version": "1.5.0",
            "_model_name": "ProgressStyleModel",
            "_view_count": null,
            "_view_module": "@jupyter-widgets/base",
            "_view_module_version": "1.2.0",
            "_view_name": "StyleView",
            "bar_color": null,
            "description_width": ""
          }
        },
        "38137199725e4dfbafcf740d862682ff": {
          "model_module": "@jupyter-widgets/base",
          "model_name": "LayoutModel",
          "model_module_version": "1.2.0",
          "state": {
            "_model_module": "@jupyter-widgets/base",
            "_model_module_version": "1.2.0",
            "_model_name": "LayoutModel",
            "_view_count": null,
            "_view_module": "@jupyter-widgets/base",
            "_view_module_version": "1.2.0",
            "_view_name": "LayoutView",
            "align_content": null,
            "align_items": null,
            "align_self": null,
            "border": null,
            "bottom": null,
            "display": null,
            "flex": null,
            "flex_flow": null,
            "grid_area": null,
            "grid_auto_columns": null,
            "grid_auto_flow": null,
            "grid_auto_rows": null,
            "grid_column": null,
            "grid_gap": null,
            "grid_row": null,
            "grid_template_areas": null,
            "grid_template_columns": null,
            "grid_template_rows": null,
            "height": null,
            "justify_content": null,
            "justify_items": null,
            "left": null,
            "margin": null,
            "max_height": null,
            "max_width": null,
            "min_height": null,
            "min_width": null,
            "object_fit": null,
            "object_position": null,
            "order": null,
            "overflow": null,
            "overflow_x": null,
            "overflow_y": null,
            "padding": null,
            "right": null,
            "top": null,
            "visibility": null,
            "width": null
          }
        },
        "8b843415ca9c44ea9906b6b0eaab612a": {
          "model_module": "@jupyter-widgets/controls",
          "model_name": "DescriptionStyleModel",
          "model_module_version": "1.5.0",
          "state": {
            "_model_module": "@jupyter-widgets/controls",
            "_model_module_version": "1.5.0",
            "_model_name": "DescriptionStyleModel",
            "_view_count": null,
            "_view_module": "@jupyter-widgets/base",
            "_view_module_version": "1.2.0",
            "_view_name": "StyleView",
            "description_width": ""
          }
        },
        "0cf7ee828da4449a8ae1267c20e418fc": {
          "model_module": "@jupyter-widgets/controls",
          "model_name": "HBoxModel",
          "model_module_version": "1.5.0",
          "state": {
            "_dom_classes": [],
            "_model_module": "@jupyter-widgets/controls",
            "_model_module_version": "1.5.0",
            "_model_name": "HBoxModel",
            "_view_count": null,
            "_view_module": "@jupyter-widgets/controls",
            "_view_module_version": "1.5.0",
            "_view_name": "HBoxView",
            "box_style": "",
            "children": [
              "IPY_MODEL_18a3cdcdaa0a44458c2015dcf4af51a9",
              "IPY_MODEL_93723742705b48fdb574697a65a629f7",
              "IPY_MODEL_0678f673ff424c698d55dfb48d579983"
            ],
            "layout": "IPY_MODEL_bd29aad4937a46b78ab31772a734476e"
          }
        },
        "18a3cdcdaa0a44458c2015dcf4af51a9": {
          "model_module": "@jupyter-widgets/controls",
          "model_name": "HTMLModel",
          "model_module_version": "1.5.0",
          "state": {
            "_dom_classes": [],
            "_model_module": "@jupyter-widgets/controls",
            "_model_module_version": "1.5.0",
            "_model_name": "HTMLModel",
            "_view_count": null,
            "_view_module": "@jupyter-widgets/controls",
            "_view_module_version": "1.5.0",
            "_view_name": "HTMLView",
            "description": "",
            "description_tooltip": null,
            "layout": "IPY_MODEL_14e0029dc3da4fcda1ff5d15975a19ad",
            "placeholder": "​",
            "style": "IPY_MODEL_3ae7e334c20946ecade7cc71306b482e",
            "value": "100%"
          }
        },
        "93723742705b48fdb574697a65a629f7": {
          "model_module": "@jupyter-widgets/controls",
          "model_name": "FloatProgressModel",
          "model_module_version": "1.5.0",
          "state": {
            "_dom_classes": [],
            "_model_module": "@jupyter-widgets/controls",
            "_model_module_version": "1.5.0",
            "_model_name": "FloatProgressModel",
            "_view_count": null,
            "_view_module": "@jupyter-widgets/controls",
            "_view_module_version": "1.5.0",
            "_view_name": "ProgressView",
            "bar_style": "success",
            "description": "",
            "description_tooltip": null,
            "layout": "IPY_MODEL_8067275781e64b1fba0ba8c03f64900c",
            "max": 20,
            "min": 0,
            "orientation": "horizontal",
            "style": "IPY_MODEL_e616203be7124150adbafdb1b66e7e3f",
            "value": 20
          }
        },
        "0678f673ff424c698d55dfb48d579983": {
          "model_module": "@jupyter-widgets/controls",
          "model_name": "HTMLModel",
          "model_module_version": "1.5.0",
          "state": {
            "_dom_classes": [],
            "_model_module": "@jupyter-widgets/controls",
            "_model_module_version": "1.5.0",
            "_model_name": "HTMLModel",
            "_view_count": null,
            "_view_module": "@jupyter-widgets/controls",
            "_view_module_version": "1.5.0",
            "_view_name": "HTMLView",
            "description": "",
            "description_tooltip": null,
            "layout": "IPY_MODEL_38ed139fe8894744ae48557d7e89e0da",
            "placeholder": "​",
            "style": "IPY_MODEL_0e1a3e9854734d96ade58226aae44f30",
            "value": " 20/20 [02:32&lt;00:00,  7.72s/it]"
          }
        },
        "bd29aad4937a46b78ab31772a734476e": {
          "model_module": "@jupyter-widgets/base",
          "model_name": "LayoutModel",
          "model_module_version": "1.2.0",
          "state": {
            "_model_module": "@jupyter-widgets/base",
            "_model_module_version": "1.2.0",
            "_model_name": "LayoutModel",
            "_view_count": null,
            "_view_module": "@jupyter-widgets/base",
            "_view_module_version": "1.2.0",
            "_view_name": "LayoutView",
            "align_content": null,
            "align_items": null,
            "align_self": null,
            "border": null,
            "bottom": null,
            "display": null,
            "flex": null,
            "flex_flow": null,
            "grid_area": null,
            "grid_auto_columns": null,
            "grid_auto_flow": null,
            "grid_auto_rows": null,
            "grid_column": null,
            "grid_gap": null,
            "grid_row": null,
            "grid_template_areas": null,
            "grid_template_columns": null,
            "grid_template_rows": null,
            "height": null,
            "justify_content": null,
            "justify_items": null,
            "left": null,
            "margin": null,
            "max_height": null,
            "max_width": null,
            "min_height": null,
            "min_width": null,
            "object_fit": null,
            "object_position": null,
            "order": null,
            "overflow": null,
            "overflow_x": null,
            "overflow_y": null,
            "padding": null,
            "right": null,
            "top": null,
            "visibility": null,
            "width": null
          }
        },
        "14e0029dc3da4fcda1ff5d15975a19ad": {
          "model_module": "@jupyter-widgets/base",
          "model_name": "LayoutModel",
          "model_module_version": "1.2.0",
          "state": {
            "_model_module": "@jupyter-widgets/base",
            "_model_module_version": "1.2.0",
            "_model_name": "LayoutModel",
            "_view_count": null,
            "_view_module": "@jupyter-widgets/base",
            "_view_module_version": "1.2.0",
            "_view_name": "LayoutView",
            "align_content": null,
            "align_items": null,
            "align_self": null,
            "border": null,
            "bottom": null,
            "display": null,
            "flex": null,
            "flex_flow": null,
            "grid_area": null,
            "grid_auto_columns": null,
            "grid_auto_flow": null,
            "grid_auto_rows": null,
            "grid_column": null,
            "grid_gap": null,
            "grid_row": null,
            "grid_template_areas": null,
            "grid_template_columns": null,
            "grid_template_rows": null,
            "height": null,
            "justify_content": null,
            "justify_items": null,
            "left": null,
            "margin": null,
            "max_height": null,
            "max_width": null,
            "min_height": null,
            "min_width": null,
            "object_fit": null,
            "object_position": null,
            "order": null,
            "overflow": null,
            "overflow_x": null,
            "overflow_y": null,
            "padding": null,
            "right": null,
            "top": null,
            "visibility": null,
            "width": null
          }
        },
        "3ae7e334c20946ecade7cc71306b482e": {
          "model_module": "@jupyter-widgets/controls",
          "model_name": "DescriptionStyleModel",
          "model_module_version": "1.5.0",
          "state": {
            "_model_module": "@jupyter-widgets/controls",
            "_model_module_version": "1.5.0",
            "_model_name": "DescriptionStyleModel",
            "_view_count": null,
            "_view_module": "@jupyter-widgets/base",
            "_view_module_version": "1.2.0",
            "_view_name": "StyleView",
            "description_width": ""
          }
        },
        "8067275781e64b1fba0ba8c03f64900c": {
          "model_module": "@jupyter-widgets/base",
          "model_name": "LayoutModel",
          "model_module_version": "1.2.0",
          "state": {
            "_model_module": "@jupyter-widgets/base",
            "_model_module_version": "1.2.0",
            "_model_name": "LayoutModel",
            "_view_count": null,
            "_view_module": "@jupyter-widgets/base",
            "_view_module_version": "1.2.0",
            "_view_name": "LayoutView",
            "align_content": null,
            "align_items": null,
            "align_self": null,
            "border": null,
            "bottom": null,
            "display": null,
            "flex": null,
            "flex_flow": null,
            "grid_area": null,
            "grid_auto_columns": null,
            "grid_auto_flow": null,
            "grid_auto_rows": null,
            "grid_column": null,
            "grid_gap": null,
            "grid_row": null,
            "grid_template_areas": null,
            "grid_template_columns": null,
            "grid_template_rows": null,
            "height": null,
            "justify_content": null,
            "justify_items": null,
            "left": null,
            "margin": null,
            "max_height": null,
            "max_width": null,
            "min_height": null,
            "min_width": null,
            "object_fit": null,
            "object_position": null,
            "order": null,
            "overflow": null,
            "overflow_x": null,
            "overflow_y": null,
            "padding": null,
            "right": null,
            "top": null,
            "visibility": null,
            "width": null
          }
        },
        "e616203be7124150adbafdb1b66e7e3f": {
          "model_module": "@jupyter-widgets/controls",
          "model_name": "ProgressStyleModel",
          "model_module_version": "1.5.0",
          "state": {
            "_model_module": "@jupyter-widgets/controls",
            "_model_module_version": "1.5.0",
            "_model_name": "ProgressStyleModel",
            "_view_count": null,
            "_view_module": "@jupyter-widgets/base",
            "_view_module_version": "1.2.0",
            "_view_name": "StyleView",
            "bar_color": null,
            "description_width": ""
          }
        },
        "38ed139fe8894744ae48557d7e89e0da": {
          "model_module": "@jupyter-widgets/base",
          "model_name": "LayoutModel",
          "model_module_version": "1.2.0",
          "state": {
            "_model_module": "@jupyter-widgets/base",
            "_model_module_version": "1.2.0",
            "_model_name": "LayoutModel",
            "_view_count": null,
            "_view_module": "@jupyter-widgets/base",
            "_view_module_version": "1.2.0",
            "_view_name": "LayoutView",
            "align_content": null,
            "align_items": null,
            "align_self": null,
            "border": null,
            "bottom": null,
            "display": null,
            "flex": null,
            "flex_flow": null,
            "grid_area": null,
            "grid_auto_columns": null,
            "grid_auto_flow": null,
            "grid_auto_rows": null,
            "grid_column": null,
            "grid_gap": null,
            "grid_row": null,
            "grid_template_areas": null,
            "grid_template_columns": null,
            "grid_template_rows": null,
            "height": null,
            "justify_content": null,
            "justify_items": null,
            "left": null,
            "margin": null,
            "max_height": null,
            "max_width": null,
            "min_height": null,
            "min_width": null,
            "object_fit": null,
            "object_position": null,
            "order": null,
            "overflow": null,
            "overflow_x": null,
            "overflow_y": null,
            "padding": null,
            "right": null,
            "top": null,
            "visibility": null,
            "width": null
          }
        },
        "0e1a3e9854734d96ade58226aae44f30": {
          "model_module": "@jupyter-widgets/controls",
          "model_name": "DescriptionStyleModel",
          "model_module_version": "1.5.0",
          "state": {
            "_model_module": "@jupyter-widgets/controls",
            "_model_module_version": "1.5.0",
            "_model_name": "DescriptionStyleModel",
            "_view_count": null,
            "_view_module": "@jupyter-widgets/base",
            "_view_module_version": "1.2.0",
            "_view_name": "StyleView",
            "description_width": ""
          }
        },
        "9236825d74284ac5a7ba184a1e6ddb3a": {
          "model_module": "@jupyter-widgets/controls",
          "model_name": "HBoxModel",
          "model_module_version": "1.5.0",
          "state": {
            "_dom_classes": [],
            "_model_module": "@jupyter-widgets/controls",
            "_model_module_version": "1.5.0",
            "_model_name": "HBoxModel",
            "_view_count": null,
            "_view_module": "@jupyter-widgets/controls",
            "_view_module_version": "1.5.0",
            "_view_name": "HBoxView",
            "box_style": "",
            "children": [
              "IPY_MODEL_371986835b19491887dbe146c9377b12",
              "IPY_MODEL_8071ac0479c44a9f86811693a9e93e93",
              "IPY_MODEL_306dda60207b429fa70f3da83d600021"
            ],
            "layout": "IPY_MODEL_06da27bfe4e84d94903b86c78f61f605"
          }
        },
        "371986835b19491887dbe146c9377b12": {
          "model_module": "@jupyter-widgets/controls",
          "model_name": "HTMLModel",
          "model_module_version": "1.5.0",
          "state": {
            "_dom_classes": [],
            "_model_module": "@jupyter-widgets/controls",
            "_model_module_version": "1.5.0",
            "_model_name": "HTMLModel",
            "_view_count": null,
            "_view_module": "@jupyter-widgets/controls",
            "_view_module_version": "1.5.0",
            "_view_name": "HTMLView",
            "description": "",
            "description_tooltip": null,
            "layout": "IPY_MODEL_e5f29954c0724c35a87b7d5757bdcab3",
            "placeholder": "​",
            "style": "IPY_MODEL_fa9fa656ae67491ca102c12d2cfe3c32",
            "value": "100%"
          }
        },
        "8071ac0479c44a9f86811693a9e93e93": {
          "model_module": "@jupyter-widgets/controls",
          "model_name": "FloatProgressModel",
          "model_module_version": "1.5.0",
          "state": {
            "_dom_classes": [],
            "_model_module": "@jupyter-widgets/controls",
            "_model_module_version": "1.5.0",
            "_model_name": "FloatProgressModel",
            "_view_count": null,
            "_view_module": "@jupyter-widgets/controls",
            "_view_module_version": "1.5.0",
            "_view_name": "ProgressView",
            "bar_style": "success",
            "description": "",
            "description_tooltip": null,
            "layout": "IPY_MODEL_989466df9a2b41f28b0b96669587d2d4",
            "max": 50,
            "min": 0,
            "orientation": "horizontal",
            "style": "IPY_MODEL_ad6027a0ce424fc5a3bd03ee908bf138",
            "value": 50
          }
        },
        "306dda60207b429fa70f3da83d600021": {
          "model_module": "@jupyter-widgets/controls",
          "model_name": "HTMLModel",
          "model_module_version": "1.5.0",
          "state": {
            "_dom_classes": [],
            "_model_module": "@jupyter-widgets/controls",
            "_model_module_version": "1.5.0",
            "_model_name": "HTMLModel",
            "_view_count": null,
            "_view_module": "@jupyter-widgets/controls",
            "_view_module_version": "1.5.0",
            "_view_name": "HTMLView",
            "description": "",
            "description_tooltip": null,
            "layout": "IPY_MODEL_ef499928538e434c8153ea6a10c07fe5",
            "placeholder": "​",
            "style": "IPY_MODEL_2a031f4fb2724beebc9608b6a25a479c",
            "value": " 50/50 [06:18&lt;00:00,  7.50s/it]"
          }
        },
        "06da27bfe4e84d94903b86c78f61f605": {
          "model_module": "@jupyter-widgets/base",
          "model_name": "LayoutModel",
          "model_module_version": "1.2.0",
          "state": {
            "_model_module": "@jupyter-widgets/base",
            "_model_module_version": "1.2.0",
            "_model_name": "LayoutModel",
            "_view_count": null,
            "_view_module": "@jupyter-widgets/base",
            "_view_module_version": "1.2.0",
            "_view_name": "LayoutView",
            "align_content": null,
            "align_items": null,
            "align_self": null,
            "border": null,
            "bottom": null,
            "display": null,
            "flex": null,
            "flex_flow": null,
            "grid_area": null,
            "grid_auto_columns": null,
            "grid_auto_flow": null,
            "grid_auto_rows": null,
            "grid_column": null,
            "grid_gap": null,
            "grid_row": null,
            "grid_template_areas": null,
            "grid_template_columns": null,
            "grid_template_rows": null,
            "height": null,
            "justify_content": null,
            "justify_items": null,
            "left": null,
            "margin": null,
            "max_height": null,
            "max_width": null,
            "min_height": null,
            "min_width": null,
            "object_fit": null,
            "object_position": null,
            "order": null,
            "overflow": null,
            "overflow_x": null,
            "overflow_y": null,
            "padding": null,
            "right": null,
            "top": null,
            "visibility": null,
            "width": null
          }
        },
        "e5f29954c0724c35a87b7d5757bdcab3": {
          "model_module": "@jupyter-widgets/base",
          "model_name": "LayoutModel",
          "model_module_version": "1.2.0",
          "state": {
            "_model_module": "@jupyter-widgets/base",
            "_model_module_version": "1.2.0",
            "_model_name": "LayoutModel",
            "_view_count": null,
            "_view_module": "@jupyter-widgets/base",
            "_view_module_version": "1.2.0",
            "_view_name": "LayoutView",
            "align_content": null,
            "align_items": null,
            "align_self": null,
            "border": null,
            "bottom": null,
            "display": null,
            "flex": null,
            "flex_flow": null,
            "grid_area": null,
            "grid_auto_columns": null,
            "grid_auto_flow": null,
            "grid_auto_rows": null,
            "grid_column": null,
            "grid_gap": null,
            "grid_row": null,
            "grid_template_areas": null,
            "grid_template_columns": null,
            "grid_template_rows": null,
            "height": null,
            "justify_content": null,
            "justify_items": null,
            "left": null,
            "margin": null,
            "max_height": null,
            "max_width": null,
            "min_height": null,
            "min_width": null,
            "object_fit": null,
            "object_position": null,
            "order": null,
            "overflow": null,
            "overflow_x": null,
            "overflow_y": null,
            "padding": null,
            "right": null,
            "top": null,
            "visibility": null,
            "width": null
          }
        },
        "fa9fa656ae67491ca102c12d2cfe3c32": {
          "model_module": "@jupyter-widgets/controls",
          "model_name": "DescriptionStyleModel",
          "model_module_version": "1.5.0",
          "state": {
            "_model_module": "@jupyter-widgets/controls",
            "_model_module_version": "1.5.0",
            "_model_name": "DescriptionStyleModel",
            "_view_count": null,
            "_view_module": "@jupyter-widgets/base",
            "_view_module_version": "1.2.0",
            "_view_name": "StyleView",
            "description_width": ""
          }
        },
        "989466df9a2b41f28b0b96669587d2d4": {
          "model_module": "@jupyter-widgets/base",
          "model_name": "LayoutModel",
          "model_module_version": "1.2.0",
          "state": {
            "_model_module": "@jupyter-widgets/base",
            "_model_module_version": "1.2.0",
            "_model_name": "LayoutModel",
            "_view_count": null,
            "_view_module": "@jupyter-widgets/base",
            "_view_module_version": "1.2.0",
            "_view_name": "LayoutView",
            "align_content": null,
            "align_items": null,
            "align_self": null,
            "border": null,
            "bottom": null,
            "display": null,
            "flex": null,
            "flex_flow": null,
            "grid_area": null,
            "grid_auto_columns": null,
            "grid_auto_flow": null,
            "grid_auto_rows": null,
            "grid_column": null,
            "grid_gap": null,
            "grid_row": null,
            "grid_template_areas": null,
            "grid_template_columns": null,
            "grid_template_rows": null,
            "height": null,
            "justify_content": null,
            "justify_items": null,
            "left": null,
            "margin": null,
            "max_height": null,
            "max_width": null,
            "min_height": null,
            "min_width": null,
            "object_fit": null,
            "object_position": null,
            "order": null,
            "overflow": null,
            "overflow_x": null,
            "overflow_y": null,
            "padding": null,
            "right": null,
            "top": null,
            "visibility": null,
            "width": null
          }
        },
        "ad6027a0ce424fc5a3bd03ee908bf138": {
          "model_module": "@jupyter-widgets/controls",
          "model_name": "ProgressStyleModel",
          "model_module_version": "1.5.0",
          "state": {
            "_model_module": "@jupyter-widgets/controls",
            "_model_module_version": "1.5.0",
            "_model_name": "ProgressStyleModel",
            "_view_count": null,
            "_view_module": "@jupyter-widgets/base",
            "_view_module_version": "1.2.0",
            "_view_name": "StyleView",
            "bar_color": null,
            "description_width": ""
          }
        },
        "ef499928538e434c8153ea6a10c07fe5": {
          "model_module": "@jupyter-widgets/base",
          "model_name": "LayoutModel",
          "model_module_version": "1.2.0",
          "state": {
            "_model_module": "@jupyter-widgets/base",
            "_model_module_version": "1.2.0",
            "_model_name": "LayoutModel",
            "_view_count": null,
            "_view_module": "@jupyter-widgets/base",
            "_view_module_version": "1.2.0",
            "_view_name": "LayoutView",
            "align_content": null,
            "align_items": null,
            "align_self": null,
            "border": null,
            "bottom": null,
            "display": null,
            "flex": null,
            "flex_flow": null,
            "grid_area": null,
            "grid_auto_columns": null,
            "grid_auto_flow": null,
            "grid_auto_rows": null,
            "grid_column": null,
            "grid_gap": null,
            "grid_row": null,
            "grid_template_areas": null,
            "grid_template_columns": null,
            "grid_template_rows": null,
            "height": null,
            "justify_content": null,
            "justify_items": null,
            "left": null,
            "margin": null,
            "max_height": null,
            "max_width": null,
            "min_height": null,
            "min_width": null,
            "object_fit": null,
            "object_position": null,
            "order": null,
            "overflow": null,
            "overflow_x": null,
            "overflow_y": null,
            "padding": null,
            "right": null,
            "top": null,
            "visibility": null,
            "width": null
          }
        },
        "2a031f4fb2724beebc9608b6a25a479c": {
          "model_module": "@jupyter-widgets/controls",
          "model_name": "DescriptionStyleModel",
          "model_module_version": "1.5.0",
          "state": {
            "_model_module": "@jupyter-widgets/controls",
            "_model_module_version": "1.5.0",
            "_model_name": "DescriptionStyleModel",
            "_view_count": null,
            "_view_module": "@jupyter-widgets/base",
            "_view_module_version": "1.2.0",
            "_view_name": "StyleView",
            "description_width": ""
          }
        },
        "53d6b37a212c4f6a8b18afd3343e2dd4": {
          "model_module": "@jupyter-widgets/controls",
          "model_name": "HBoxModel",
          "model_module_version": "1.5.0",
          "state": {
            "_dom_classes": [],
            "_model_module": "@jupyter-widgets/controls",
            "_model_module_version": "1.5.0",
            "_model_name": "HBoxModel",
            "_view_count": null,
            "_view_module": "@jupyter-widgets/controls",
            "_view_module_version": "1.5.0",
            "_view_name": "HBoxView",
            "box_style": "",
            "children": [
              "IPY_MODEL_0647b1eb167f4bf9a863015b0844432f",
              "IPY_MODEL_73f9a28b7d474227bbbe08f0a55dfc02",
              "IPY_MODEL_949736f8ed944ac7a839ba058d6bf699"
            ],
            "layout": "IPY_MODEL_75bcde91aead40c98bf041027493f47d"
          }
        },
        "0647b1eb167f4bf9a863015b0844432f": {
          "model_module": "@jupyter-widgets/controls",
          "model_name": "HTMLModel",
          "model_module_version": "1.5.0",
          "state": {
            "_dom_classes": [],
            "_model_module": "@jupyter-widgets/controls",
            "_model_module_version": "1.5.0",
            "_model_name": "HTMLModel",
            "_view_count": null,
            "_view_module": "@jupyter-widgets/controls",
            "_view_module_version": "1.5.0",
            "_view_name": "HTMLView",
            "description": "",
            "description_tooltip": null,
            "layout": "IPY_MODEL_a7629145782e4985971670b527fbbb89",
            "placeholder": "​",
            "style": "IPY_MODEL_4f94f52ec81b42bda213164fe4c1f20f",
            "value": "100%"
          }
        },
        "73f9a28b7d474227bbbe08f0a55dfc02": {
          "model_module": "@jupyter-widgets/controls",
          "model_name": "FloatProgressModel",
          "model_module_version": "1.5.0",
          "state": {
            "_dom_classes": [],
            "_model_module": "@jupyter-widgets/controls",
            "_model_module_version": "1.5.0",
            "_model_name": "FloatProgressModel",
            "_view_count": null,
            "_view_module": "@jupyter-widgets/controls",
            "_view_module_version": "1.5.0",
            "_view_name": "ProgressView",
            "bar_style": "success",
            "description": "",
            "description_tooltip": null,
            "layout": "IPY_MODEL_58fe24e7d4e54c0fa2be8e690c3223b1",
            "max": 20,
            "min": 0,
            "orientation": "horizontal",
            "style": "IPY_MODEL_fb483a4e626a4bd58376a10e35e6fc97",
            "value": 20
          }
        },
        "949736f8ed944ac7a839ba058d6bf699": {
          "model_module": "@jupyter-widgets/controls",
          "model_name": "HTMLModel",
          "model_module_version": "1.5.0",
          "state": {
            "_dom_classes": [],
            "_model_module": "@jupyter-widgets/controls",
            "_model_module_version": "1.5.0",
            "_model_name": "HTMLModel",
            "_view_count": null,
            "_view_module": "@jupyter-widgets/controls",
            "_view_module_version": "1.5.0",
            "_view_name": "HTMLView",
            "description": "",
            "description_tooltip": null,
            "layout": "IPY_MODEL_ffb6cda351424df0a9bf513a42dc3f41",
            "placeholder": "​",
            "style": "IPY_MODEL_2537ddddd17247ebb99f3e4e27141492",
            "value": " 20/20 [02:34&lt;00:00,  7.85s/it]"
          }
        },
        "75bcde91aead40c98bf041027493f47d": {
          "model_module": "@jupyter-widgets/base",
          "model_name": "LayoutModel",
          "model_module_version": "1.2.0",
          "state": {
            "_model_module": "@jupyter-widgets/base",
            "_model_module_version": "1.2.0",
            "_model_name": "LayoutModel",
            "_view_count": null,
            "_view_module": "@jupyter-widgets/base",
            "_view_module_version": "1.2.0",
            "_view_name": "LayoutView",
            "align_content": null,
            "align_items": null,
            "align_self": null,
            "border": null,
            "bottom": null,
            "display": null,
            "flex": null,
            "flex_flow": null,
            "grid_area": null,
            "grid_auto_columns": null,
            "grid_auto_flow": null,
            "grid_auto_rows": null,
            "grid_column": null,
            "grid_gap": null,
            "grid_row": null,
            "grid_template_areas": null,
            "grid_template_columns": null,
            "grid_template_rows": null,
            "height": null,
            "justify_content": null,
            "justify_items": null,
            "left": null,
            "margin": null,
            "max_height": null,
            "max_width": null,
            "min_height": null,
            "min_width": null,
            "object_fit": null,
            "object_position": null,
            "order": null,
            "overflow": null,
            "overflow_x": null,
            "overflow_y": null,
            "padding": null,
            "right": null,
            "top": null,
            "visibility": null,
            "width": null
          }
        },
        "a7629145782e4985971670b527fbbb89": {
          "model_module": "@jupyter-widgets/base",
          "model_name": "LayoutModel",
          "model_module_version": "1.2.0",
          "state": {
            "_model_module": "@jupyter-widgets/base",
            "_model_module_version": "1.2.0",
            "_model_name": "LayoutModel",
            "_view_count": null,
            "_view_module": "@jupyter-widgets/base",
            "_view_module_version": "1.2.0",
            "_view_name": "LayoutView",
            "align_content": null,
            "align_items": null,
            "align_self": null,
            "border": null,
            "bottom": null,
            "display": null,
            "flex": null,
            "flex_flow": null,
            "grid_area": null,
            "grid_auto_columns": null,
            "grid_auto_flow": null,
            "grid_auto_rows": null,
            "grid_column": null,
            "grid_gap": null,
            "grid_row": null,
            "grid_template_areas": null,
            "grid_template_columns": null,
            "grid_template_rows": null,
            "height": null,
            "justify_content": null,
            "justify_items": null,
            "left": null,
            "margin": null,
            "max_height": null,
            "max_width": null,
            "min_height": null,
            "min_width": null,
            "object_fit": null,
            "object_position": null,
            "order": null,
            "overflow": null,
            "overflow_x": null,
            "overflow_y": null,
            "padding": null,
            "right": null,
            "top": null,
            "visibility": null,
            "width": null
          }
        },
        "4f94f52ec81b42bda213164fe4c1f20f": {
          "model_module": "@jupyter-widgets/controls",
          "model_name": "DescriptionStyleModel",
          "model_module_version": "1.5.0",
          "state": {
            "_model_module": "@jupyter-widgets/controls",
            "_model_module_version": "1.5.0",
            "_model_name": "DescriptionStyleModel",
            "_view_count": null,
            "_view_module": "@jupyter-widgets/base",
            "_view_module_version": "1.2.0",
            "_view_name": "StyleView",
            "description_width": ""
          }
        },
        "58fe24e7d4e54c0fa2be8e690c3223b1": {
          "model_module": "@jupyter-widgets/base",
          "model_name": "LayoutModel",
          "model_module_version": "1.2.0",
          "state": {
            "_model_module": "@jupyter-widgets/base",
            "_model_module_version": "1.2.0",
            "_model_name": "LayoutModel",
            "_view_count": null,
            "_view_module": "@jupyter-widgets/base",
            "_view_module_version": "1.2.0",
            "_view_name": "LayoutView",
            "align_content": null,
            "align_items": null,
            "align_self": null,
            "border": null,
            "bottom": null,
            "display": null,
            "flex": null,
            "flex_flow": null,
            "grid_area": null,
            "grid_auto_columns": null,
            "grid_auto_flow": null,
            "grid_auto_rows": null,
            "grid_column": null,
            "grid_gap": null,
            "grid_row": null,
            "grid_template_areas": null,
            "grid_template_columns": null,
            "grid_template_rows": null,
            "height": null,
            "justify_content": null,
            "justify_items": null,
            "left": null,
            "margin": null,
            "max_height": null,
            "max_width": null,
            "min_height": null,
            "min_width": null,
            "object_fit": null,
            "object_position": null,
            "order": null,
            "overflow": null,
            "overflow_x": null,
            "overflow_y": null,
            "padding": null,
            "right": null,
            "top": null,
            "visibility": null,
            "width": null
          }
        },
        "fb483a4e626a4bd58376a10e35e6fc97": {
          "model_module": "@jupyter-widgets/controls",
          "model_name": "ProgressStyleModel",
          "model_module_version": "1.5.0",
          "state": {
            "_model_module": "@jupyter-widgets/controls",
            "_model_module_version": "1.5.0",
            "_model_name": "ProgressStyleModel",
            "_view_count": null,
            "_view_module": "@jupyter-widgets/base",
            "_view_module_version": "1.2.0",
            "_view_name": "StyleView",
            "bar_color": null,
            "description_width": ""
          }
        },
        "ffb6cda351424df0a9bf513a42dc3f41": {
          "model_module": "@jupyter-widgets/base",
          "model_name": "LayoutModel",
          "model_module_version": "1.2.0",
          "state": {
            "_model_module": "@jupyter-widgets/base",
            "_model_module_version": "1.2.0",
            "_model_name": "LayoutModel",
            "_view_count": null,
            "_view_module": "@jupyter-widgets/base",
            "_view_module_version": "1.2.0",
            "_view_name": "LayoutView",
            "align_content": null,
            "align_items": null,
            "align_self": null,
            "border": null,
            "bottom": null,
            "display": null,
            "flex": null,
            "flex_flow": null,
            "grid_area": null,
            "grid_auto_columns": null,
            "grid_auto_flow": null,
            "grid_auto_rows": null,
            "grid_column": null,
            "grid_gap": null,
            "grid_row": null,
            "grid_template_areas": null,
            "grid_template_columns": null,
            "grid_template_rows": null,
            "height": null,
            "justify_content": null,
            "justify_items": null,
            "left": null,
            "margin": null,
            "max_height": null,
            "max_width": null,
            "min_height": null,
            "min_width": null,
            "object_fit": null,
            "object_position": null,
            "order": null,
            "overflow": null,
            "overflow_x": null,
            "overflow_y": null,
            "padding": null,
            "right": null,
            "top": null,
            "visibility": null,
            "width": null
          }
        },
        "2537ddddd17247ebb99f3e4e27141492": {
          "model_module": "@jupyter-widgets/controls",
          "model_name": "DescriptionStyleModel",
          "model_module_version": "1.5.0",
          "state": {
            "_model_module": "@jupyter-widgets/controls",
            "_model_module_version": "1.5.0",
            "_model_name": "DescriptionStyleModel",
            "_view_count": null,
            "_view_module": "@jupyter-widgets/base",
            "_view_module_version": "1.2.0",
            "_view_name": "StyleView",
            "description_width": ""
          }
        },
        "b09abf9d2f6544688d405e7600a64778": {
          "model_module": "@jupyter-widgets/controls",
          "model_name": "HBoxModel",
          "model_module_version": "1.5.0",
          "state": {
            "_dom_classes": [],
            "_model_module": "@jupyter-widgets/controls",
            "_model_module_version": "1.5.0",
            "_model_name": "HBoxModel",
            "_view_count": null,
            "_view_module": "@jupyter-widgets/controls",
            "_view_module_version": "1.5.0",
            "_view_name": "HBoxView",
            "box_style": "",
            "children": [
              "IPY_MODEL_adf3ad11c08e449c92a54baec4146051",
              "IPY_MODEL_5a9fbca60a57416eb0114d6ea14a4839",
              "IPY_MODEL_d7a977c59baf49b6a4b611e2ce8f70bd"
            ],
            "layout": "IPY_MODEL_c74f0d6f44be4bceb1faf8bc49a6d769"
          }
        },
        "adf3ad11c08e449c92a54baec4146051": {
          "model_module": "@jupyter-widgets/controls",
          "model_name": "HTMLModel",
          "model_module_version": "1.5.0",
          "state": {
            "_dom_classes": [],
            "_model_module": "@jupyter-widgets/controls",
            "_model_module_version": "1.5.0",
            "_model_name": "HTMLModel",
            "_view_count": null,
            "_view_module": "@jupyter-widgets/controls",
            "_view_module_version": "1.5.0",
            "_view_name": "HTMLView",
            "description": "",
            "description_tooltip": null,
            "layout": "IPY_MODEL_8998e5790a3a444abbafeaf9da04b6a3",
            "placeholder": "​",
            "style": "IPY_MODEL_731c0cabad5c436289a138f8c2abf293",
            "value": "100%"
          }
        },
        "5a9fbca60a57416eb0114d6ea14a4839": {
          "model_module": "@jupyter-widgets/controls",
          "model_name": "FloatProgressModel",
          "model_module_version": "1.5.0",
          "state": {
            "_dom_classes": [],
            "_model_module": "@jupyter-widgets/controls",
            "_model_module_version": "1.5.0",
            "_model_name": "FloatProgressModel",
            "_view_count": null,
            "_view_module": "@jupyter-widgets/controls",
            "_view_module_version": "1.5.0",
            "_view_name": "ProgressView",
            "bar_style": "success",
            "description": "",
            "description_tooltip": null,
            "layout": "IPY_MODEL_052a56c0ec76472399b953e4062b3cbc",
            "max": 20,
            "min": 0,
            "orientation": "horizontal",
            "style": "IPY_MODEL_aa3787d52ddf47a7bf0e64d6b998a381",
            "value": 20
          }
        },
        "d7a977c59baf49b6a4b611e2ce8f70bd": {
          "model_module": "@jupyter-widgets/controls",
          "model_name": "HTMLModel",
          "model_module_version": "1.5.0",
          "state": {
            "_dom_classes": [],
            "_model_module": "@jupyter-widgets/controls",
            "_model_module_version": "1.5.0",
            "_model_name": "HTMLModel",
            "_view_count": null,
            "_view_module": "@jupyter-widgets/controls",
            "_view_module_version": "1.5.0",
            "_view_name": "HTMLView",
            "description": "",
            "description_tooltip": null,
            "layout": "IPY_MODEL_7313277b6d624a769d79e4373b84f66d",
            "placeholder": "​",
            "style": "IPY_MODEL_5ddf63b8d64c4fbb9dd73e123d07babb",
            "value": " 20/20 [03:30&lt;00:00, 10.48s/it]"
          }
        },
        "c74f0d6f44be4bceb1faf8bc49a6d769": {
          "model_module": "@jupyter-widgets/base",
          "model_name": "LayoutModel",
          "model_module_version": "1.2.0",
          "state": {
            "_model_module": "@jupyter-widgets/base",
            "_model_module_version": "1.2.0",
            "_model_name": "LayoutModel",
            "_view_count": null,
            "_view_module": "@jupyter-widgets/base",
            "_view_module_version": "1.2.0",
            "_view_name": "LayoutView",
            "align_content": null,
            "align_items": null,
            "align_self": null,
            "border": null,
            "bottom": null,
            "display": null,
            "flex": null,
            "flex_flow": null,
            "grid_area": null,
            "grid_auto_columns": null,
            "grid_auto_flow": null,
            "grid_auto_rows": null,
            "grid_column": null,
            "grid_gap": null,
            "grid_row": null,
            "grid_template_areas": null,
            "grid_template_columns": null,
            "grid_template_rows": null,
            "height": null,
            "justify_content": null,
            "justify_items": null,
            "left": null,
            "margin": null,
            "max_height": null,
            "max_width": null,
            "min_height": null,
            "min_width": null,
            "object_fit": null,
            "object_position": null,
            "order": null,
            "overflow": null,
            "overflow_x": null,
            "overflow_y": null,
            "padding": null,
            "right": null,
            "top": null,
            "visibility": null,
            "width": null
          }
        },
        "8998e5790a3a444abbafeaf9da04b6a3": {
          "model_module": "@jupyter-widgets/base",
          "model_name": "LayoutModel",
          "model_module_version": "1.2.0",
          "state": {
            "_model_module": "@jupyter-widgets/base",
            "_model_module_version": "1.2.0",
            "_model_name": "LayoutModel",
            "_view_count": null,
            "_view_module": "@jupyter-widgets/base",
            "_view_module_version": "1.2.0",
            "_view_name": "LayoutView",
            "align_content": null,
            "align_items": null,
            "align_self": null,
            "border": null,
            "bottom": null,
            "display": null,
            "flex": null,
            "flex_flow": null,
            "grid_area": null,
            "grid_auto_columns": null,
            "grid_auto_flow": null,
            "grid_auto_rows": null,
            "grid_column": null,
            "grid_gap": null,
            "grid_row": null,
            "grid_template_areas": null,
            "grid_template_columns": null,
            "grid_template_rows": null,
            "height": null,
            "justify_content": null,
            "justify_items": null,
            "left": null,
            "margin": null,
            "max_height": null,
            "max_width": null,
            "min_height": null,
            "min_width": null,
            "object_fit": null,
            "object_position": null,
            "order": null,
            "overflow": null,
            "overflow_x": null,
            "overflow_y": null,
            "padding": null,
            "right": null,
            "top": null,
            "visibility": null,
            "width": null
          }
        },
        "731c0cabad5c436289a138f8c2abf293": {
          "model_module": "@jupyter-widgets/controls",
          "model_name": "DescriptionStyleModel",
          "model_module_version": "1.5.0",
          "state": {
            "_model_module": "@jupyter-widgets/controls",
            "_model_module_version": "1.5.0",
            "_model_name": "DescriptionStyleModel",
            "_view_count": null,
            "_view_module": "@jupyter-widgets/base",
            "_view_module_version": "1.2.0",
            "_view_name": "StyleView",
            "description_width": ""
          }
        },
        "052a56c0ec76472399b953e4062b3cbc": {
          "model_module": "@jupyter-widgets/base",
          "model_name": "LayoutModel",
          "model_module_version": "1.2.0",
          "state": {
            "_model_module": "@jupyter-widgets/base",
            "_model_module_version": "1.2.0",
            "_model_name": "LayoutModel",
            "_view_count": null,
            "_view_module": "@jupyter-widgets/base",
            "_view_module_version": "1.2.0",
            "_view_name": "LayoutView",
            "align_content": null,
            "align_items": null,
            "align_self": null,
            "border": null,
            "bottom": null,
            "display": null,
            "flex": null,
            "flex_flow": null,
            "grid_area": null,
            "grid_auto_columns": null,
            "grid_auto_flow": null,
            "grid_auto_rows": null,
            "grid_column": null,
            "grid_gap": null,
            "grid_row": null,
            "grid_template_areas": null,
            "grid_template_columns": null,
            "grid_template_rows": null,
            "height": null,
            "justify_content": null,
            "justify_items": null,
            "left": null,
            "margin": null,
            "max_height": null,
            "max_width": null,
            "min_height": null,
            "min_width": null,
            "object_fit": null,
            "object_position": null,
            "order": null,
            "overflow": null,
            "overflow_x": null,
            "overflow_y": null,
            "padding": null,
            "right": null,
            "top": null,
            "visibility": null,
            "width": null
          }
        },
        "aa3787d52ddf47a7bf0e64d6b998a381": {
          "model_module": "@jupyter-widgets/controls",
          "model_name": "ProgressStyleModel",
          "model_module_version": "1.5.0",
          "state": {
            "_model_module": "@jupyter-widgets/controls",
            "_model_module_version": "1.5.0",
            "_model_name": "ProgressStyleModel",
            "_view_count": null,
            "_view_module": "@jupyter-widgets/base",
            "_view_module_version": "1.2.0",
            "_view_name": "StyleView",
            "bar_color": null,
            "description_width": ""
          }
        },
        "7313277b6d624a769d79e4373b84f66d": {
          "model_module": "@jupyter-widgets/base",
          "model_name": "LayoutModel",
          "model_module_version": "1.2.0",
          "state": {
            "_model_module": "@jupyter-widgets/base",
            "_model_module_version": "1.2.0",
            "_model_name": "LayoutModel",
            "_view_count": null,
            "_view_module": "@jupyter-widgets/base",
            "_view_module_version": "1.2.0",
            "_view_name": "LayoutView",
            "align_content": null,
            "align_items": null,
            "align_self": null,
            "border": null,
            "bottom": null,
            "display": null,
            "flex": null,
            "flex_flow": null,
            "grid_area": null,
            "grid_auto_columns": null,
            "grid_auto_flow": null,
            "grid_auto_rows": null,
            "grid_column": null,
            "grid_gap": null,
            "grid_row": null,
            "grid_template_areas": null,
            "grid_template_columns": null,
            "grid_template_rows": null,
            "height": null,
            "justify_content": null,
            "justify_items": null,
            "left": null,
            "margin": null,
            "max_height": null,
            "max_width": null,
            "min_height": null,
            "min_width": null,
            "object_fit": null,
            "object_position": null,
            "order": null,
            "overflow": null,
            "overflow_x": null,
            "overflow_y": null,
            "padding": null,
            "right": null,
            "top": null,
            "visibility": null,
            "width": null
          }
        },
        "5ddf63b8d64c4fbb9dd73e123d07babb": {
          "model_module": "@jupyter-widgets/controls",
          "model_name": "DescriptionStyleModel",
          "model_module_version": "1.5.0",
          "state": {
            "_model_module": "@jupyter-widgets/controls",
            "_model_module_version": "1.5.0",
            "_model_name": "DescriptionStyleModel",
            "_view_count": null,
            "_view_module": "@jupyter-widgets/base",
            "_view_module_version": "1.2.0",
            "_view_name": "StyleView",
            "description_width": ""
          }
        }
      }
    }
  },
  "cells": [
    {
      "cell_type": "markdown",
      "metadata": {
        "id": "view-in-github",
        "colab_type": "text"
      },
      "source": [
        "<a href=\"https://colab.research.google.com/github/Ouzr0107/pytorch_ex/blob/main/extras/exercises/04_pytorch_custom_datasets_exercises.ipynb\" target=\"_parent\"><img src=\"https://colab.research.google.com/assets/colab-badge.svg\" alt=\"Open In Colab\"/></a>"
      ]
    },
    {
      "cell_type": "markdown",
      "source": [
        "# 04. PyTorch Custom Datasets Exercises Template\n",
        "\n",
        "Welcome to the 04. PyTorch Custom Datasets exercise template.\n",
        "\n",
        "The best way to practice PyTorch code is to write more PyTorch code.\n",
        "\n",
        "So read the original notebook and try to complete the exercises by writing code where it's required.\n",
        "\n",
        "Feel free to reference the original resources whenever you need but should practice writing all of the code yourself.\n",
        "\n",
        "## Resources\n",
        "\n",
        "1. These exercises/solutions are based on [notebook 04 of the Learn PyTorch for Deep Learning course](https://www.learnpytorch.io/04_pytorch_custom_datasets/).\n",
        "2. See a live [walkthrough of the solutions (errors and all) on YouTube](https://youtu.be/vsFMF9wqWx0).\n",
        "3. See [other solutions on the course GitHub](https://github.com/mrdbourke/pytorch-deep-learning/tree/main/extras/solutions)."
      ],
      "metadata": {
        "id": "Vex99np2wFVt"
      }
    },
    {
      "cell_type": "code",
      "source": [
        "from joblib.externals.loky import cpu_count\n",
        "from typing_extensions import dataclass_transform\n",
        "# Check for GPU\n",
        "!nvidia-smi"
      ],
      "metadata": {
        "colab": {
          "base_uri": "https://localhost:8080/"
        },
        "id": "GaeYzOTLwWh2",
        "outputId": "ec3e9538-7ef2-4481-869d-bd3748a6a37c",
        "collapsed": true,
        "ExecuteTime": {
          "end_time": "2025-09-17T11:35:51.892490400Z",
          "start_time": "2025-09-16T02:53:24.218857Z"
        }
      },
      "outputs": [
        {
          "output_type": "stream",
          "name": "stdout",
          "text": [
            "Thu Sep 18 01:55:51 2025       \n",
            "+-----------------------------------------------------------------------------------------+\n",
            "| NVIDIA-SMI 550.54.15              Driver Version: 550.54.15      CUDA Version: 12.4     |\n",
            "|-----------------------------------------+------------------------+----------------------+\n",
            "| GPU  Name                 Persistence-M | Bus-Id          Disp.A | Volatile Uncorr. ECC |\n",
            "| Fan  Temp   Perf          Pwr:Usage/Cap |           Memory-Usage | GPU-Util  Compute M. |\n",
            "|                                         |                        |               MIG M. |\n",
            "|=========================================+========================+======================|\n",
            "|   0  Tesla T4                       Off |   00000000:00:04.0 Off |                    0 |\n",
            "| N/A   57C    P8             10W /   70W |       0MiB /  15360MiB |      0%      Default |\n",
            "|                                         |                        |                  N/A |\n",
            "+-----------------------------------------+------------------------+----------------------+\n",
            "                                                                                         \n",
            "+-----------------------------------------------------------------------------------------+\n",
            "| Processes:                                                                              |\n",
            "|  GPU   GI   CI        PID   Type   Process name                              GPU Memory |\n",
            "|        ID   ID                                                               Usage      |\n",
            "|=========================================================================================|\n",
            "|  No running processes found                                                             |\n",
            "+-----------------------------------------------------------------------------------------+\n"
          ]
        }
      ],
      "execution_count": 1
    },
    {
      "cell_type": "code",
      "source": [
        "# Import torch\n",
        "import torch\n",
        "from torch import nn\n",
        "\n",
        "# Exercises require PyTorch > 1.10.0\n",
        "print(torch.__version__)\n",
        "\n",
        "# Setup device agnostic code\n",
        "device = \"cuda\" if torch.cuda.is_available() else \"cpu\"\n",
        "device"
      ],
      "metadata": {
        "colab": {
          "base_uri": "https://localhost:8080/",
          "height": 54
        },
        "id": "DNwZLMbCzJLk",
        "outputId": "b444cca3-9503-46f7-fb01-9b4447541914",
        "ExecuteTime": {
          "end_time": "2025-09-18T01:20:09.253513Z",
          "start_time": "2025-09-18T01:20:07.973874Z"
        }
      },
      "outputs": [
        {
          "output_type": "stream",
          "name": "stdout",
          "text": [
            "2.8.0+cu126\n"
          ]
        },
        {
          "output_type": "execute_result",
          "data": {
            "text/plain": [
              "'cuda'"
            ],
            "application/vnd.google.colaboratory.intrinsic+json": {
              "type": "string"
            }
          },
          "metadata": {},
          "execution_count": 2
        }
      ],
      "execution_count": 2
    },
    {
      "cell_type": "markdown",
      "source": [
        "## 1. Our models are underperforming (not fitting the data well). What are 3 methods for preventing underfitting? Write them down and explain each with a sentence."
      ],
      "metadata": {
        "id": "FSFX7tc1w-en"
      }
    },
    {
      "cell_type": "markdown",
      "source": [
        "添加更多层，调整学习率，增加训练次数"
      ],
      "metadata": {
        "id": "-90Qvx9gtrLj"
      }
    },
    {
      "cell_type": "markdown",
      "source": [
        "## 2. Recreate the data loading functions we built in [sections 1, 2, 3 and 4 of notebook 04](https://www.learnpytorch.io/04_pytorch_custom_datasets/). You should have train and test `DataLoader`'s ready to use."
      ],
      "metadata": {
        "id": "oBK-WI6YxDYa"
      }
    },
    {
      "cell_type": "code",
      "source": [
        "# 1. Get data\n",
        "import requests\n",
        "from pathlib import Path\n",
        "import zipfile\n",
        "\n",
        "data_path = Path(\"data/\")\n",
        "image_path = data_path\n",
        "\n",
        "if image_path.is_dir():\n",
        "    print(f\"{image_path} directory exists.\")\n",
        "else:\n",
        "    print(f\"Did not find {image_path} directory, creating one...\")\n",
        "    image_path.mkdir(parents=True, exist_ok=True)\n",
        "\n",
        "with open(data_path / \"tiny-imagenet-200.zip\", \"wb\") as f:\n",
        "    request = requests.get(\"http://cs231n.stanford.edu/tiny-imagenet-200.zip\")\n",
        "    print(\"Downloading Tiny ImageNet...\")\n",
        "    f.write(request.content)\n",
        "\n",
        "with zipfile.ZipFile(data_path / \"tiny-imagenet-200.zip\", \"r\") as zip_ref:\n",
        "    print(\"Unzipping Tiny ImageNet...\")\n",
        "    zip_ref.extractall(image_path)"
      ],
      "metadata": {
        "id": "MZkCPJBR3lw4",
        "ExecuteTime": {
          "end_time": "2025-09-17T11:35:51.897529800Z",
          "start_time": "2025-09-17T06:25:37.199882Z"
        },
        "outputId": "f3d60705-c86d-4f1d-f519-a0329c7c534c"
      },
      "outputs": [
        {
          "name": "stdout",
          "output_type": "stream",
          "text": [
            "data directory exists.\n",
            "Downloading Tiny ImageNet...\n",
            "Unzipping Tiny ImageNet...\n"
          ]
        }
      ],
      "execution_count": null
    },
    {
      "metadata": {
        "ExecuteTime": {
          "end_time": "2025-09-18T01:26:12.034883Z",
          "start_time": "2025-09-18T01:26:11.295374Z"
        },
        "id": "735NwKf6iKIJ",
        "outputId": "df9e7ab5-7423-4f48-ce69-881de09debea",
        "colab": {
          "base_uri": "https://localhost:8080/"
        }
      },
      "cell_type": "code",
      "source": [
        "import kagglehub\n",
        "from pathlib import Path\n",
        "\n",
        "# Download latest version\n",
        "path = kagglehub.dataset_download(\"alxmamaev/flowers-recognition\")\n",
        "\n",
        "print(\"Path to dataset files:\", path)\n",
        "\n",
        "path = Path(path)"
      ],
      "outputs": [
        {
          "output_type": "stream",
          "name": "stdout",
          "text": [
            "Downloading from https://www.kaggle.com/api/v1/datasets/download/alxmamaev/flowers-recognition?dataset_version_number=2...\n"
          ]
        },
        {
          "output_type": "stream",
          "name": "stderr",
          "text": [
            "100%|██████████| 225M/225M [00:01<00:00, 175MB/s]"
          ]
        },
        {
          "output_type": "stream",
          "name": "stdout",
          "text": [
            "Extracting files...\n"
          ]
        },
        {
          "output_type": "stream",
          "name": "stderr",
          "text": [
            "\n"
          ]
        },
        {
          "output_type": "stream",
          "name": "stdout",
          "text": [
            "Path to dataset files: /root/.cache/kagglehub/datasets/alxmamaev/flowers-recognition/versions/2\n"
          ]
        }
      ],
      "execution_count": 3
    },
    {
      "cell_type": "code",
      "source": [
        "# 2. Become one with the data\n",
        "import os\n",
        "\n",
        "\n",
        "def walk_through_dir(dir_path):\n",
        "    \"\"\"Walks through dir_path returning file counts of its contents.\"\"\"\n",
        "    for dirpath, dirnames, filenames in os.walk(dir_path):\n",
        "        print(f\"There are {len(dirnames)} directories and {len(filenames)} images in '{dirpath}'.\")\n",
        "\n",
        "\n",
        "image_path = path / \"flowers\"\n",
        "walk_through_dir(image_path)\n",
        "print(image_path)"
      ],
      "metadata": {
        "id": "TYmhAX7J52VX",
        "ExecuteTime": {
          "end_time": "2025-09-18T01:27:05.654182Z",
          "start_time": "2025-09-18T01:27:05.637792Z"
        },
        "outputId": "dc0bb469-e024-474c-b7c4-20d45f4a6f7d",
        "colab": {
          "base_uri": "https://localhost:8080/"
        }
      },
      "outputs": [
        {
          "output_type": "stream",
          "name": "stdout",
          "text": [
            "There are 5 directories and 0 images in '/root/.cache/kagglehub/datasets/alxmamaev/flowers-recognition/versions/2/flowers'.\n",
            "There are 0 directories and 733 images in '/root/.cache/kagglehub/datasets/alxmamaev/flowers-recognition/versions/2/flowers/sunflower'.\n",
            "There are 0 directories and 764 images in '/root/.cache/kagglehub/datasets/alxmamaev/flowers-recognition/versions/2/flowers/daisy'.\n",
            "There are 0 directories and 1052 images in '/root/.cache/kagglehub/datasets/alxmamaev/flowers-recognition/versions/2/flowers/dandelion'.\n",
            "There are 0 directories and 984 images in '/root/.cache/kagglehub/datasets/alxmamaev/flowers-recognition/versions/2/flowers/tulip'.\n",
            "There are 0 directories and 784 images in '/root/.cache/kagglehub/datasets/alxmamaev/flowers-recognition/versions/2/flowers/rose'.\n",
            "/root/.cache/kagglehub/datasets/alxmamaev/flowers-recognition/versions/2/flowers\n"
          ]
        }
      ],
      "execution_count": 7
    },
    {
      "cell_type": "code",
      "source": [
        "# Setup train and testing paths\n",
        "image_path = image_path / \"tiny-imagenet-200\"\n",
        "\n",
        "train_path = image_path / \"train\"\n",
        "test_path = image_path / \"val\"\n",
        "\n",
        "train_path, test_path"
      ],
      "metadata": {
        "id": "3A9ZmOn-7Jhh",
        "ExecuteTime": {
          "end_time": "2025-09-17T11:35:51.898492700Z",
          "start_time": "2025-09-17T06:32:26.655210Z"
        },
        "outputId": "3017086e-a041-4116-8f0c-e23a652220de"
      },
      "outputs": [
        {
          "data": {
            "text/plain": [
              "(WindowsPath('data/tiny-imagenet-200/train'),\n",
              " WindowsPath('data/tiny-imagenet-200/val'))"
            ]
          },
          "execution_count": 10,
          "metadata": {},
          "output_type": "execute_result"
        }
      ],
      "execution_count": null
    },
    {
      "metadata": {
        "ExecuteTime": {
          "end_time": "2025-09-17T11:35:51.898492700Z",
          "start_time": "2025-09-17T06:44:19.776020Z"
        },
        "collapsed": true,
        "id": "E24emJxCiKIJ",
        "outputId": "8f87f281-3d23-4956-8719-46dde4d2c6ea"
      },
      "cell_type": "code",
      "source": [
        "# 获取类别字典\n",
        "id_dict = {}\n",
        "\n",
        "with open(image_path / \"wnids.txt\", \"r\") as f:\n",
        "    for line in f.readlines():\n",
        "        id = line.split(\"\\n\")[0]\n",
        "        id_dict[id] = []\n",
        "\n",
        "with open(image_path / \"words.txt\", \"r\") as f:\n",
        "    for line in f.readlines():\n",
        "        id = line.split(\"\\t\")[0]\n",
        "        word = line.split(\"\\t\")[1].split(\"\\n\")[0]\n",
        "        if id in id_dict:\n",
        "            id_dict[id].append(word)\n",
        "\n",
        "id_dict"
      ],
      "outputs": [
        {
          "data": {
            "text/plain": [
              "{'n02124075': ['Egyptian cat'],\n",
              " 'n04067472': ['reel'],\n",
              " 'n04540053': ['volleyball'],\n",
              " 'n04099969': ['rocking chair, rocker'],\n",
              " 'n07749582': ['lemon'],\n",
              " 'n01641577': ['bullfrog, Rana catesbeiana'],\n",
              " 'n02802426': ['basketball'],\n",
              " 'n09246464': ['cliff, drop, drop-off'],\n",
              " 'n07920052': ['espresso'],\n",
              " 'n03970156': [\"plunger, plumber's helper\"],\n",
              " 'n03891332': ['parking meter'],\n",
              " 'n02106662': ['German shepherd, German shepherd dog, German police dog, alsatian'],\n",
              " 'n03201208': ['dining table, board'],\n",
              " 'n02279972': ['monarch, monarch butterfly, milkweed butterfly, Danaus plexippus'],\n",
              " 'n02132136': ['brown bear, bruin, Ursus arctos'],\n",
              " 'n04146614': ['school bus'],\n",
              " 'n07873807': ['pizza, pizza pie'],\n",
              " 'n02364673': ['guinea pig, Cavia cobaya'],\n",
              " 'n04507155': ['umbrella'],\n",
              " 'n03854065': ['organ, pipe organ'],\n",
              " 'n03838899': ['oboe, hautboy, hautbois'],\n",
              " 'n03733131': ['maypole'],\n",
              " 'n01443537': ['goldfish, Carassius auratus'],\n",
              " 'n07875152': ['potpie'],\n",
              " 'n03544143': ['hourglass'],\n",
              " 'n09428293': ['seashore, coast, seacoast, sea-coast'],\n",
              " 'n03085013': ['computer keyboard, keypad'],\n",
              " 'n02437312': ['Arabian camel, dromedary, Camelus dromedarius'],\n",
              " 'n07614500': ['ice cream, icecream'],\n",
              " 'n03804744': ['nail'],\n",
              " 'n04265275': ['space heater'],\n",
              " 'n02963159': ['cardigan'],\n",
              " 'n02486410': ['baboon'],\n",
              " 'n01944390': ['snail'],\n",
              " 'n09256479': ['coral reef'],\n",
              " 'n02058221': ['albatross, mollymawk'],\n",
              " 'n04275548': [\"spider web, spider's web\"],\n",
              " 'n02321529': ['sea cucumber, holothurian'],\n",
              " 'n02769748': ['backpack, back pack, knapsack, packsack, rucksack, haversack'],\n",
              " 'n02099712': ['Labrador retriever'],\n",
              " 'n07695742': ['pretzel'],\n",
              " 'n02056570': ['king penguin, Aptenodytes patagonica'],\n",
              " 'n02281406': ['sulphur butterfly, sulfur butterfly'],\n",
              " 'n01774750': ['tarantula'],\n",
              " 'n02509815': ['lesser panda, red panda, panda, bear cat, cat bear, Ailurus fulgens'],\n",
              " 'n03983396': ['pop bottle, soda bottle'],\n",
              " 'n07753592': ['banana'],\n",
              " 'n04254777': ['sock'],\n",
              " 'n02233338': ['cockroach, roach'],\n",
              " 'n04008634': ['projectile, missile'],\n",
              " 'n02823428': ['beer bottle'],\n",
              " 'n02236044': ['mantis, mantid'],\n",
              " 'n03393912': ['freight car'],\n",
              " 'n07583066': ['guacamole'],\n",
              " 'n04074963': ['remote control, remote'],\n",
              " 'n01629819': ['European fire salamander, Salamandra salamandra'],\n",
              " 'n09332890': ['lakeside, lakeshore'],\n",
              " 'n02481823': ['chimpanzee, chimp, Pan troglodytes'],\n",
              " 'n03902125': ['pay-phone, pay-station'],\n",
              " 'n03404251': ['fur coat'],\n",
              " 'n09193705': ['alp'],\n",
              " 'n03637318': ['lampshade, lamp shade'],\n",
              " 'n04456115': ['torch'],\n",
              " 'n02666196': ['abacus'],\n",
              " 'n03796401': ['moving van'],\n",
              " 'n02795169': ['barrel, cask'],\n",
              " 'n02123045': ['tabby, tabby cat'],\n",
              " 'n01855672': ['goose'],\n",
              " 'n01882714': ['koala, koala bear, kangaroo bear, native bear, Phascolarctos cinereus'],\n",
              " 'n02917067': ['bullet train, bullet'],\n",
              " 'n02988304': ['CD player'],\n",
              " 'n04398044': ['teapot'],\n",
              " 'n02843684': ['birdhouse'],\n",
              " 'n02423022': ['gazelle'],\n",
              " 'n02669723': [\"academic gown, academic robe, judge's robe\"],\n",
              " 'n04465501': ['tractor'],\n",
              " 'n02165456': ['ladybug, ladybeetle, lady beetle, ladybird, ladybird beetle'],\n",
              " 'n03770439': ['miniskirt, mini'],\n",
              " 'n02099601': ['golden retriever'],\n",
              " 'n04486054': ['triumphal arch'],\n",
              " 'n02950826': ['cannon'],\n",
              " 'n03814639': ['neck brace'],\n",
              " 'n04259630': ['sombrero'],\n",
              " 'n03424325': ['gasmask, respirator, gas helmet'],\n",
              " 'n02948072': ['candle, taper, wax light'],\n",
              " 'n03179701': ['desk'],\n",
              " 'n03400231': ['frying pan, frypan, skillet'],\n",
              " 'n02206856': ['bee'],\n",
              " 'n03160309': ['dam, dike, dyke'],\n",
              " 'n01984695': ['spiny lobster, langouste, rock lobster, crawfish, crayfish, sea crawfish'],\n",
              " 'n03977966': ['police van, police wagon, paddy wagon, patrol wagon, wagon, black Maria'],\n",
              " 'n03584254': ['iPod'],\n",
              " 'n04023962': ['punching bag, punch bag, punching ball, punchball'],\n",
              " 'n02814860': ['beacon, lighthouse, beacon light, pharos'],\n",
              " 'n01910747': ['jellyfish'],\n",
              " 'n04596742': ['wok'],\n",
              " 'n03992509': [\"potter's wheel\"],\n",
              " 'n04133789': ['sandal'],\n",
              " 'n03937543': ['pill bottle'],\n",
              " 'n02927161': ['butcher shop, meat market'],\n",
              " 'n01945685': ['slug'],\n",
              " 'n02395406': ['hog, pig, grunter, squealer, Sus scrofa'],\n",
              " 'n02125311': ['cougar, puma, catamount, mountain lion, painter, panther, Felis concolor'],\n",
              " 'n03126707': ['crane'],\n",
              " 'n04532106': ['vestment'],\n",
              " 'n02268443': [\"dragonfly, darning needle, devil's darning needle, sewing needle, snake feeder, snake doctor, mosquito hawk, skeeter hawk\"],\n",
              " 'n02977058': ['cash machine, cash dispenser, automated teller machine, automatic teller machine, automated teller, automatic teller, ATM'],\n",
              " 'n07734744': ['mushroom'],\n",
              " 'n03599486': ['jinrikisha, ricksha, rickshaw'],\n",
              " 'n04562935': ['water tower'],\n",
              " 'n03014705': ['chest'],\n",
              " 'n04251144': ['snorkel'],\n",
              " 'n04356056': ['sunglasses, dark glasses, shades'],\n",
              " 'n02190166': ['fly'],\n",
              " 'n03670208': ['limousine, limo'],\n",
              " 'n02002724': ['black stork, Ciconia nigra'],\n",
              " 'n02074367': ['dugong, Dugong dugon'],\n",
              " 'n04285008': ['sports car, sport car'],\n",
              " 'n04560804': ['water jug'],\n",
              " 'n04366367': ['suspension bridge'],\n",
              " 'n02403003': ['ox'],\n",
              " 'n07615774': ['ice lolly, lolly, lollipop, popsicle'],\n",
              " 'n04501370': ['turnstile'],\n",
              " 'n03026506': ['Christmas stocking'],\n",
              " 'n02906734': ['broom'],\n",
              " 'n01770393': ['scorpion'],\n",
              " 'n04597913': ['wooden spoon'],\n",
              " 'n03930313': ['picket fence, paling'],\n",
              " 'n04118538': ['rugby ball'],\n",
              " 'n04179913': ['sewing machine'],\n",
              " 'n04311004': ['steel arch bridge'],\n",
              " 'n02123394': ['Persian cat'],\n",
              " 'n04070727': ['refrigerator, icebox'],\n",
              " 'n02793495': ['barn'],\n",
              " 'n02730930': ['apron'],\n",
              " 'n02094433': ['Yorkshire terrier'],\n",
              " 'n04371430': ['swimming trunks, bathing trunks'],\n",
              " 'n04328186': ['stopwatch, stop watch'],\n",
              " 'n03649909': ['lawn mower, mower'],\n",
              " 'n04417672': ['thatch, thatched roof'],\n",
              " 'n03388043': ['fountain'],\n",
              " 'n01774384': ['black widow, Latrodectus mactans'],\n",
              " 'n02837789': ['bikini, two-piece'],\n",
              " 'n07579787': ['plate'],\n",
              " 'n04399382': ['teddy, teddy bear'],\n",
              " 'n02791270': ['barbershop'],\n",
              " 'n03089624': ['confectionery, confectionary, candy store'],\n",
              " 'n02814533': ['beach wagon, station wagon, wagon, estate car, beach waggon, station waggon, waggon'],\n",
              " 'n04149813': ['scoreboard'],\n",
              " 'n07747607': ['orange'],\n",
              " 'n03355925': ['flagpole, flagstaff'],\n",
              " 'n01983481': ['American lobster, Northern lobster, Maine lobster, Homarus americanus'],\n",
              " 'n04487081': ['trolleybus, trolley coach, trackless trolley'],\n",
              " 'n03250847': ['drumstick'],\n",
              " 'n03255030': ['dumbbell'],\n",
              " 'n02892201': ['brass, memorial tablet, plaque'],\n",
              " 'n02883205': ['bow tie, bow-tie, bowtie'],\n",
              " 'n03100240': ['convertible'],\n",
              " 'n02415577': ['bighorn, bighorn sheep, cimarron, Rocky Mountain bighorn, Rocky Mountain sheep, Ovis canadensis'],\n",
              " 'n02480495': ['orangutan, orang, orangutang, Pongo pygmaeus'],\n",
              " 'n01698640': ['American alligator, Alligator mississipiensis'],\n",
              " 'n01784675': ['centipede'],\n",
              " 'n04376876': ['syringe'],\n",
              " 'n03444034': ['go-kart'],\n",
              " 'n01917289': ['brain coral'],\n",
              " 'n01950731': ['sea slug, nudibranch'],\n",
              " 'n03042490': ['cliff dwelling'],\n",
              " 'n07711569': ['mashed potato'],\n",
              " 'n04532670': ['viaduct'],\n",
              " 'n03763968': ['military uniform'],\n",
              " 'n07768694': ['pomegranate'],\n",
              " 'n02999410': ['chain'],\n",
              " 'n03617480': ['kimono'],\n",
              " 'n06596364': ['comic book'],\n",
              " 'n01768244': ['trilobite'],\n",
              " 'n02410509': ['bison'],\n",
              " 'n03976657': ['pole'],\n",
              " 'n01742172': ['boa constrictor, Constrictor constrictor'],\n",
              " 'n03980874': ['poncho'],\n",
              " 'n02808440': ['bathtub, bathing tub, bath, tub'],\n",
              " 'n02226429': ['grasshopper, hopper'],\n",
              " 'n02231487': ['walking stick, walkingstick, stick insect'],\n",
              " 'n02085620': ['Chihuahua'],\n",
              " 'n01644900': ['tailed frog, bell toad, ribbed toad, tailed toad, Ascaphus trui'],\n",
              " 'n02129165': ['lion, king of beasts, Panthera leo'],\n",
              " 'n02699494': ['altar'],\n",
              " 'n03837869': ['obelisk'],\n",
              " 'n02815834': ['beaker'],\n",
              " 'n07720875': ['bell pepper'],\n",
              " 'n02788148': ['bannister, banister, balustrade, balusters, handrail'],\n",
              " 'n02909870': ['bucket, pail'],\n",
              " 'n03706229': ['magnetic compass'],\n",
              " 'n07871810': ['meat loaf, meatloaf'],\n",
              " 'n03447447': ['gondola'],\n",
              " 'n02113799': ['standard poodle'],\n",
              " 'n12267677': ['acorn'],\n",
              " 'n03662601': ['lifeboat'],\n",
              " 'n02841315': ['binoculars, field glasses, opera glasses'],\n",
              " 'n07715103': ['cauliflower'],\n",
              " 'n02504458': ['African elephant, Loxodonta africana']}"
            ]
          },
          "execution_count": 26,
          "metadata": {},
          "output_type": "execute_result"
        }
      ],
      "execution_count": null
    },
    {
      "cell_type": "code",
      "source": [
        "# Visualize an image\n",
        "import random\n",
        "from PIL import Image\n",
        "\n",
        "image_path_list = list(image_path.glob(\"*/*.jpg\"))\n",
        "\n",
        "random_image_path = random.choice(image_path_list)\n",
        "\n",
        "image_class = random_image_path.parent.name\n",
        "\n",
        "img = Image.open(random_image_path)\n",
        "\n",
        "print(random_image_path)\n",
        "print(image_class)\n",
        "print(img.size)\n",
        "\n",
        "img"
      ],
      "metadata": {
        "id": "51ywNKkN7WOl",
        "ExecuteTime": {
          "end_time": "2025-09-18T01:28:21.552601Z",
          "start_time": "2025-09-18T01:28:21.481302Z"
        },
        "outputId": "9e1fc0f9-f2cd-4003-dfdc-71b880bf504d",
        "colab": {
          "base_uri": "https://localhost:8080/",
          "height": 312
        }
      },
      "outputs": [
        {
          "output_type": "stream",
          "name": "stdout",
          "text": [
            "/root/.cache/kagglehub/datasets/alxmamaev/flowers-recognition/versions/2/flowers/dandelion/19551343814_48f764535f_m.jpg\n",
            "dandelion\n",
            "(240, 240)\n"
          ]
        },
        {
          "output_type": "execute_result",
          "data": {
            "text/plain": [
              "<PIL.JpegImagePlugin.JpegImageFile image mode=RGB size=240x240>"
            ],
            "image/png": "[encoded data removed]",
            "image/jpeg": "[encoded data removed]"
          },
          "metadata": {},
          "execution_count": 13
        }
      ],
      "execution_count": 13
    },
    {
      "cell_type": "code",
      "source": [
        "# Do the image visualization with matplotlib\n",
        "import numpy as np\n",
        "import matplotlib.pyplot as plt\n",
        "\n",
        "img_as_array = np.array(img)\n",
        "\n",
        "plt.figure(figsize=(10, 10))\n",
        "plt.imshow(img_as_array)\n",
        "plt.title(f\"Class: {image_class}\")\n",
        "plt.axis(False);"
      ],
      "metadata": {
        "id": "Qe4LoASC9sQ-",
        "ExecuteTime": {
          "end_time": "2025-09-18T01:28:37.899443Z",
          "start_time": "2025-09-18T01:28:37.151357Z"
        },
        "outputId": "517fdb75-f13d-44dc-c7c3-2a14080646ea",
        "colab": {
          "base_uri": "https://localhost:8080/",
          "height": 829
        }
      },
      "outputs": [
        {
          "output_type": "display_data",
          "data": {
            "text/plain": [
              "<Figure size 1000x1000 with 1 Axes>"
            ],
            "image/png": "[encoded data removed]"
          },
          "metadata": {}
        }
      ],
      "execution_count": 14
    },
    {
      "cell_type": "markdown",
      "source": [
        "We've got some images in our folders.\n",
        "\n",
        "Now we need to make them compatible with PyTorch by:\n",
        "1. Transform the data into tensors.\n",
        "2. Turn the tensor data into a `torch.utils.data.Dataset` and later a `torch.utils.data.DataLoader`."
      ],
      "metadata": {
        "id": "2AU4FGYC_KBz"
      }
    },
    {
      "cell_type": "code",
      "source": [
        "# 3.1 Transforming data with torchvision.transforms\n",
        "import torch\n",
        "from torch.utils.data import DataLoader\n",
        "from torchvision import datasets, transforms"
      ],
      "metadata": {
        "id": "KbGMaYGT-vwq",
        "ExecuteTime": {
          "end_time": "2025-09-18T01:28:47.828256Z",
          "start_time": "2025-09-18T01:28:46.231027Z"
        }
      },
      "outputs": [],
      "execution_count": 15
    },
    {
      "cell_type": "code",
      "source": [
        "# Write transform for turning images into tensors\n",
        "data_transform = transforms.Compose([\n",
        "    transforms.Resize((128, 128)),\n",
        "    transforms.RandomHorizontalFlip(p=0.5),\n",
        "    transforms.ToTensor()\n",
        "])"
      ],
      "metadata": {
        "id": "gnvUSYYW_ohN",
        "ExecuteTime": {
          "end_time": "2025-09-18T01:28:51.556574Z",
          "start_time": "2025-09-18T01:28:51.553392Z"
        }
      },
      "outputs": [],
      "execution_count": 44
    },
    {
      "cell_type": "code",
      "source": [
        "# Write a function to plot transformed images\n",
        "def plot_transformed_images(image_paths, transform, n=3):\n",
        "    random_image_paths = random.sample(image_paths, k=n)\n",
        "\n",
        "    for image_path in random_image_paths:\n",
        "        with Image.open(image_path) as img:\n",
        "            transformed_img = transform(img)\n",
        "            plt.figure()\n",
        "            plt.imshow(transformed_img.permute(1, 2, 0))  # CHW to HWC\n",
        "            plt.axis(False)\n",
        "            plt.title(\n",
        "                f\"Transformed image shape: {transformed_img.shape}, class: {image_path.parent.name}\")\n",
        "\n",
        "\n",
        "plot_transformed_images(image_path_list, data_transform, n=3)"
      ],
      "metadata": {
        "id": "vp8I2cpMAxcT",
        "ExecuteTime": {
          "end_time": "2025-09-18T01:29:23.498808Z",
          "start_time": "2025-09-18T01:29:23.153299Z"
        },
        "outputId": "f23258c5-13d7-4406-b5c0-ce2a3e216699",
        "colab": {
          "base_uri": "https://localhost:8080/",
          "height": 1000
        }
      },
      "outputs": [
        {
          "output_type": "display_data",
          "data": {
            "text/plain": [
              "<Figure size 640x480 with 1 Axes>"
            ],
            "image/png": "[encoded data removed]"
          },
          "metadata": {}
        },
        {
          "output_type": "display_data",
          "data": {
            "text/plain": [
              "<Figure size 640x480 with 1 Axes>"
            ],
            "image/png": "[encoded data removed]"
          },
          "metadata": {}
        },
        {
          "output_type": "display_data",
          "data": {
            "text/plain": [
              "<Figure size 640x480 with 1 Axes>"
            ],
            "image/png": "[encoded data removed]"
          },
          "metadata": {}
        }
      ],
      "execution_count": 17
    },
    {
      "cell_type": "markdown",
      "source": [
        "### Load image data using `ImageFolder`"
      ],
      "metadata": {
        "id": "FKgfqPArChVR"
      }
    },
    {
      "cell_type": "code",
      "source": [
        "# Use ImageFolder to create dataset(s)\n",
        "from torchvision import datasets\n",
        "from torch.utils.data import random_split\n",
        "\n",
        "dataset = datasets.ImageFolder(root=image_path, transform=data_transform)\n",
        "\n",
        "split_size = int(len(dataset) * 0.8)\n",
        "train_data, test_data = random_split(dataset, [split_size, len(dataset) - split_size])\n",
        "\n",
        "print(f\"Train data: {train_data} \\n Test data: {test_data}\")"
      ],
      "metadata": {
        "id": "8OFgwQF1CkOu",
        "ExecuteTime": {
          "end_time": "2025-09-18T01:40:35.707006Z",
          "start_time": "2025-09-18T01:40:35.685405Z"
        },
        "outputId": "bac7d7ec-fa3e-473a-ce33-555deac32c52",
        "colab": {
          "base_uri": "https://localhost:8080/"
        }
      },
      "outputs": [
        {
          "output_type": "stream",
          "name": "stdout",
          "text": [
            "Train data: <torch.utils.data.dataset.Subset object at 0x77fcc0d09c40> \n",
            " Test data: <torch.utils.data.dataset.Subset object at 0x77fd2c0638c0>\n"
          ]
        }
      ],
      "execution_count": 45
    },
    {
      "cell_type": "code",
      "source": [
        "# Get class names as a list\n",
        "class_names = dataset.classes\n",
        "class_names"
      ],
      "metadata": {
        "colab": {
          "base_uri": "https://localhost:8080/"
        },
        "id": "MbT0fhXHEQyJ",
        "outputId": "d53a07eb-d3ad-41de-ceac-7d6781569131",
        "ExecuteTime": {
          "end_time": "2025-09-18T01:45:07.853152Z",
          "start_time": "2025-09-18T01:45:07.849368Z"
        }
      },
      "outputs": [
        {
          "output_type": "execute_result",
          "data": {
            "text/plain": [
              "['daisy', 'dandelion', 'rose', 'sunflower', 'tulip']"
            ]
          },
          "metadata": {},
          "execution_count": 46
        }
      ],
      "execution_count": 46
    },
    {
      "cell_type": "code",
      "source": [
        "# Can also get class names as a dict\n",
        "class_dict = dataset.class_to_idx\n",
        "class_dict"
      ],
      "metadata": {
        "colab": {
          "base_uri": "https://localhost:8080/"
        },
        "id": "uCcWk7NDEay1",
        "outputId": "fe98a058-b649-4fc3-ddf7-c8e5c59c9674",
        "ExecuteTime": {
          "end_time": "2025-09-18T01:45:14.964538Z",
          "start_time": "2025-09-18T01:45:14.960598Z"
        }
      },
      "outputs": [
        {
          "output_type": "execute_result",
          "data": {
            "text/plain": [
              "{'daisy': 0, 'dandelion': 1, 'rose': 2, 'sunflower': 3, 'tulip': 4}"
            ]
          },
          "metadata": {},
          "execution_count": 20
        }
      ],
      "execution_count": 20
    },
    {
      "cell_type": "code",
      "source": [
        "# Check the lengths of each dataset\n",
        "len(train_data), len(test_data)"
      ],
      "metadata": {
        "colab": {
          "base_uri": "https://localhost:8080/"
        },
        "id": "W7H7bX4HEgie",
        "outputId": "c91b0ca8-e6d5-4d7b-90a1-44ed208d6743",
        "ExecuteTime": {
          "end_time": "2025-09-18T01:42:42.213339Z",
          "start_time": "2025-09-18T01:42:42.208985Z"
        }
      },
      "outputs": [
        {
          "output_type": "execute_result",
          "data": {
            "text/plain": [
              "(3453, 864)"
            ]
          },
          "metadata": {},
          "execution_count": 47
        }
      ],
      "execution_count": 47
    },
    {
      "metadata": {
        "ExecuteTime": {
          "end_time": "2025-09-18T01:45:57.112086Z",
          "start_time": "2025-09-18T01:45:57.107985Z"
        },
        "id": "G0QyRMbDiKIK",
        "outputId": "4ade2f48-e61e-4d9c-d6b9-d67f48549146",
        "colab": {
          "base_uri": "https://localhost:8080/"
        }
      },
      "cell_type": "code",
      "source": [
        "img, label = train_data[0]\n",
        "print(f\"Image shape: {img.shape} | Label: {label} | Class name: {class_names[label]}\")"
      ],
      "outputs": [
        {
          "output_type": "stream",
          "name": "stdout",
          "text": [
            "Image shape: torch.Size([3, 128, 128]) | Label: 2 | Class name: rose\n"
          ]
        }
      ],
      "execution_count": 48
    },
    {
      "cell_type": "code",
      "source": [
        "# Turn train and test Datasets into DataLoaders\n",
        "from torch.utils.data import DataLoader\n",
        "from os import cpu_count\n",
        "\n",
        "train_dataloader = DataLoader(dataset=train_data,\n",
        "                              batch_size=64,\n",
        "                              shuffle=True,\n",
        "                              num_workers=cpu_count(),\n",
        "                              pin_memory=True)\n",
        "\n",
        "test_dataloader = DataLoader(dataset=test_data,\n",
        "                             batch_size=64,\n",
        "                             shuffle=False,\n",
        "                             num_workers=cpu_count(),\n",
        "                             pin_memory=True)\n",
        "\n",
        "print(f\"Train dataloader: {train_dataloader} \\n Test dataloader: {test_dataloader}\")"
      ],
      "metadata": {
        "colab": {
          "base_uri": "https://localhost:8080/"
        },
        "id": "nskNr5YCEoRl",
        "outputId": "261030f4-09fa-4534-88b0-65aeddc2abb2",
        "ExecuteTime": {
          "end_time": "2025-09-18T01:46:18.340503Z",
          "start_time": "2025-09-18T01:46:18.337253Z"
        }
      },
      "outputs": [
        {
          "output_type": "stream",
          "name": "stdout",
          "text": [
            "Train dataloader: <torch.utils.data.dataloader.DataLoader object at 0x77fcc08a9a90> \n",
            " Test dataloader: <torch.utils.data.dataloader.DataLoader object at 0x77fcc08abbc0>\n"
          ]
        }
      ],
      "execution_count": 49
    },
    {
      "cell_type": "code",
      "source": [
        "# How many batches of images are in our data loaders?\n",
        "len(train_dataloader), len(test_dataloader)"
      ],
      "metadata": {
        "colab": {
          "base_uri": "https://localhost:8080/"
        },
        "id": "z8vJxmxAFqw6",
        "outputId": "7e711bbe-579a-4091-9bf0-b1907aa00723",
        "ExecuteTime": {
          "end_time": "2025-09-18T01:43:35.346069Z",
          "start_time": "2025-09-18T01:43:35.342972Z"
        }
      },
      "outputs": [
        {
          "output_type": "execute_result",
          "data": {
            "text/plain": [
              "(54, 14)"
            ]
          },
          "metadata": {},
          "execution_count": 50
        }
      ],
      "execution_count": 50
    },
    {
      "cell_type": "markdown",
      "source": [
        "## 3. Recreate `model_0` we built in section 7 of notebook 04."
      ],
      "metadata": {
        "id": "XeYFEqw8xK26"
      }
    },
    {
      "cell_type": "code",
      "source": [
        "class TinyVGG(nn.Module):\n",
        "    def __init__(self,\n",
        "                 input_shape: int,\n",
        "                 hidden_units: int,\n",
        "                 output_shape: int):\n",
        "        super().__init__()\n",
        "        self.conv_block_1 = nn.Sequential(\n",
        "            nn.Conv2d(in_channels=input_shape,\n",
        "                      out_channels=hidden_units,\n",
        "                      kernel_size=3,\n",
        "                      stride=1,\n",
        "                      padding=1),\n",
        "            nn.ReLU(),\n",
        "            nn.Conv2d(in_channels=hidden_units,\n",
        "                      out_channels=hidden_units,\n",
        "                      kernel_size=3,\n",
        "                      stride=1,\n",
        "                      padding=1),\n",
        "            nn.ReLU(),\n",
        "            nn.MaxPool2d(kernel_size=2)\n",
        "        )\n",
        "        self.conv_block_2 = nn.Sequential(\n",
        "            nn.Conv2d(in_channels=hidden_units,\n",
        "                      out_channels=hidden_units,\n",
        "                      kernel_size=3,\n",
        "                      stride=1,\n",
        "                      padding=1),\n",
        "            nn.ReLU(),\n",
        "            nn.Conv2d(in_channels=hidden_units,\n",
        "                      out_channels=hidden_units,\n",
        "                      kernel_size=3,\n",
        "                      stride=1,\n",
        "                      padding=1),\n",
        "            nn.ReLU(),\n",
        "            nn.MaxPool2d(kernel_size=2)\n",
        "        )\n",
        "        self.classifier = nn.Sequential(\n",
        "            nn.Flatten(),\n",
        "            nn.Linear(in_features=hidden_units * 16 * 16,  # 64 / 2 / 2 = 16\n",
        "                      out_features=output_shape)\n",
        "        )\n",
        "\n",
        "    def forward(self, x):\n",
        "        x = self.conv_block_1(x)\n",
        "        x = self.conv_block_2(x)\n",
        "        x = self.classifier(x)\n",
        "        return x\n",
        "\n",
        "\n",
        "model_0 = TinyVGG(input_shape=3,\n",
        "                  hidden_units=10,\n",
        "                  output_shape=len(class_names)).to(device)\n",
        "\n",
        "model_0"
      ],
      "metadata": {
        "id": "MBErjcUCyDzE",
        "ExecuteTime": {
          "end_time": "2025-09-18T01:46:22.820333Z",
          "start_time": "2025-09-18T01:46:22.693861Z"
        },
        "outputId": "c4d38800-627c-44c9-cdd7-0593974bd067",
        "colab": {
          "base_uri": "https://localhost:8080/"
        }
      },
      "outputs": [
        {
          "output_type": "execute_result",
          "data": {
            "text/plain": [
              "TinyVGG(\n",
              "  (conv_block_1): Sequential(\n",
              "    (0): Conv2d(3, 10, kernel_size=(3, 3), stride=(1, 1), padding=(1, 1))\n",
              "    (1): ReLU()\n",
              "    (2): Conv2d(10, 10, kernel_size=(3, 3), stride=(1, 1), padding=(1, 1))\n",
              "    (3): ReLU()\n",
              "    (4): MaxPool2d(kernel_size=2, stride=2, padding=0, dilation=1, ceil_mode=False)\n",
              "  )\n",
              "  (conv_block_2): Sequential(\n",
              "    (0): Conv2d(10, 10, kernel_size=(3, 3), stride=(1, 1), padding=(1, 1))\n",
              "    (1): ReLU()\n",
              "    (2): Conv2d(10, 10, kernel_size=(3, 3), stride=(1, 1), padding=(1, 1))\n",
              "    (3): ReLU()\n",
              "    (4): MaxPool2d(kernel_size=2, stride=2, padding=0, dilation=1, ceil_mode=False)\n",
              "  )\n",
              "  (classifier): Sequential(\n",
              "    (0): Flatten(start_dim=1, end_dim=-1)\n",
              "    (1): Linear(in_features=2560, out_features=5, bias=True)\n",
              "  )\n",
              ")"
            ]
          },
          "metadata": {},
          "execution_count": 25
        }
      ],
      "execution_count": 25
    },
    {
      "cell_type": "markdown",
      "source": [
        "## 4. Create training and testing functions for `model_0`."
      ],
      "metadata": {
        "id": "DKdEEFEqxM-8"
      }
    },
    {
      "cell_type": "code",
      "source": [
        "def train_step(model: torch.nn.Module,\n",
        "               dataloader: torch.utils.data.DataLoader,\n",
        "               loss_fn: torch.nn.Module,\n",
        "               optimizer: torch.optim.Optimizer):\n",
        "    # Put the model in train mode\n",
        "    model.train()\n",
        "\n",
        "    # Setup train loss and train accuracy values\n",
        "    train_loss, train_acc = 0, 0\n",
        "\n",
        "    # Loop through data loader and data batches\n",
        "    for batch, (X, y) in enumerate(dataloader):\n",
        "        # Send data to target device\n",
        "        X, y = X.to(device), y.to(device)\n",
        "        # 1. Forward pass\n",
        "        y_pred = model(X)\n",
        "        # 2. Calculate and accumulate loss\n",
        "        loss = loss_fn(y_pred, y)\n",
        "        train_loss += loss.item()\n",
        "        # 3. Optimizer zero grad\n",
        "        optimizer.zero_grad()\n",
        "        # 4. Loss backward\n",
        "        loss.backward()\n",
        "        # 5. Optimizer step\n",
        "        optimizer.step()\n",
        "        # Calculate and accumualte accuracy metric across all batches\n",
        "        y_pred_class = torch.argmax(torch.softmax(y_pred, dim=1), dim=1)\n",
        "        train_acc += (y_pred_class == y).sum().item() / len(y_pred)\n",
        "    # Adjust metrics to get average loss and average accuracy per batch\n",
        "    train_loss = train_loss / len(dataloader)\n",
        "    train_acc = train_acc / len(dataloader)\n",
        "    return train_loss, train_acc"
      ],
      "metadata": {
        "id": "rnUox1qayDes",
        "ExecuteTime": {
          "end_time": "2025-09-18T01:46:32.313898Z",
          "start_time": "2025-09-18T01:46:32.310136Z"
        }
      },
      "outputs": [],
      "execution_count": 26
    },
    {
      "cell_type": "code",
      "source": [
        "def test_step(model: torch.nn.Module,\n",
        "              dataloader: torch.utils.data.DataLoader,\n",
        "              loss_fn: torch.nn.Module):\n",
        "    # Put model in eval mode\n",
        "    model.eval()\n",
        "\n",
        "    # Setup the test loss and test accuracy values\n",
        "    test_loss, test_acc = 0, 0\n",
        "\n",
        "    # Turn on inference context manager\n",
        "    with torch.inference_mode():\n",
        "        # Loop through DataLoader batches\n",
        "        for batch, (X, y) in enumerate(dataloader):\n",
        "            # Send data to target device\n",
        "            X, y = X.to(device), y.to(device)\n",
        "            # 1. Forward pass\n",
        "            test_pred = model(X)\n",
        "            # 2. Calculuate and accumulate loss\n",
        "            loss = loss_fn(test_pred, y)\n",
        "            test_loss += loss.item()\n",
        "            # Calculate and accumulate accuracy\n",
        "            test_pred_class = torch.argmax(torch.softmax(test_pred, dim=1), dim=1)\n",
        "            test_acc += (test_pred_class == y).sum().item() / len(test_pred)\n",
        "    # Adjust metrics to get average loss and accuracy per batch\n",
        "    test_loss = test_loss / len(dataloader)\n",
        "    test_acc = test_acc / len(dataloader)\n",
        "    return test_loss, test_acc\n"
      ],
      "metadata": {
        "id": "O7_EVPpHNKUP",
        "ExecuteTime": {
          "end_time": "2025-09-18T01:46:34.306134Z",
          "start_time": "2025-09-18T01:46:34.302478Z"
        }
      },
      "outputs": [],
      "execution_count": 27
    },
    {
      "cell_type": "code",
      "source": [
        "from tqdm.auto import tqdm\n",
        "\n",
        "\n",
        "def train(model: torch.nn.Module,\n",
        "          train_dataloader: torch.utils.data.DataLoader,\n",
        "          test_dataloader: torch.utils.data.DataLoader,\n",
        "          optimizer: torch.optim.Optimizer,\n",
        "          loss_fn: torch.nn.Module = nn.CrossEntropyLoss(),\n",
        "          epochs: int = 5):\n",
        "    # Create results dictionary\n",
        "    results = {\"train_loss\": [],\n",
        "               \"train_acc\": [],\n",
        "               \"test_loss\": [],\n",
        "               \"test_acc\": []}\n",
        "\n",
        "    # Loop through the training and testing steps for a number of epochs\n",
        "    for epoch in tqdm(range(epochs)):\n",
        "        # Train step\n",
        "        train_loss, train_acc = train_step(model=model,\n",
        "                                           dataloader=train_dataloader,\n",
        "                                           loss_fn=loss_fn,\n",
        "                                           optimizer=optimizer)\n",
        "        # Test step\n",
        "        test_loss, test_acc = test_step(model=model,\n",
        "                                        dataloader=test_dataloader,\n",
        "                                        loss_fn=loss_fn)\n",
        "\n",
        "        # Print out what's happening\n",
        "        print(f\"Epoch: {epoch + 1} | \"\n",
        "              f\"train_loss: {train_loss:.4f} | \"\n",
        "              f\"train_acc: {100.0*train_acc:.2f} % | \"\n",
        "              f\"test_loss: {test_loss:.4f} | \"\n",
        "              f\"test_acc: {100.0*test_acc:.2f} %\"\n",
        "              )\n",
        "\n",
        "        # Update the results dictionary\n",
        "        results[\"train_loss\"].append(train_loss)\n",
        "        results[\"train_acc\"].append(train_acc)\n",
        "        results[\"test_loss\"].append(test_loss)\n",
        "        results[\"test_acc\"].append(test_acc)\n",
        "\n",
        "    # Return the results dictionary\n",
        "    return results"
      ],
      "metadata": {
        "id": "zXxTIh9tOh68",
        "ExecuteTime": {
          "end_time": "2025-09-18T01:46:38.890909Z",
          "start_time": "2025-09-18T01:46:38.883004Z"
        }
      },
      "outputs": [],
      "execution_count": 36
    },
    {
      "cell_type": "markdown",
      "source": [
        "## 5. Try training the model you made in exercise 3 for 5, 20 and 50 epochs, what happens to the results?\n",
        "* Use `torch.optim.Adam()` with a learning rate of 0.001 as the optimizer."
      ],
      "metadata": {
        "id": "lvf-3pODxXYI"
      }
    },
    {
      "cell_type": "code",
      "source": [
        "# Train for 5 epochs\n",
        "torch.manual_seed(42)\n",
        "torch.cuda.manual_seed(42)\n",
        "\n",
        "loss_fn = nn.CrossEntropyLoss()\n",
        "optimizer = torch.optim.Adam(params=model_0.parameters(),\n",
        "                             lr=0.001)\n",
        "\n",
        "epochs = 5\n",
        "\n",
        "model_0 = TinyVGG(input_shape=3,\n",
        "                  hidden_units=10,\n",
        "                  output_shape=len(class_names)).to(device)\n",
        "model_0_results_5_epochs = train(model=model_0,\n",
        "                                 train_dataloader=train_dataloader,\n",
        "                                 test_dataloader=test_dataloader,\n",
        "                                 optimizer=optimizer,\n",
        "                                 loss_fn=loss_fn,\n",
        "                                 epochs=epochs)"
      ],
      "metadata": {
        "id": "rV7s2qtIyDIZ",
        "ExecuteTime": {
          "end_time": "2025-09-18T01:50:35.904347Z",
          "start_time": "2025-09-18T01:46:49.311634Z"
        },
        "outputId": "ac8b1847-d750-45be-a293-f71ea37f91af",
        "colab": {
          "base_uri": "https://localhost:8080/",
          "height": 141,
          "referenced_widgets": [
            "68bad5fb24fc4dd7997caa0afbd2fc4c",
            "fbd001e0900048c9b1a0360b209beafe",
            "73067498699245adacb7dad003dedfcf",
            "56a4ecc917ee469a9eff83437d5b56b3",
            "44fcdff61e3f4dcf88ae8566d4065cef",
            "3c186e4f57b84a4fa043702f640e40eb",
            "90467e25db11469a937a42be1323dac3",
            "a9a8be77dba8410e99b4209e40bb5318",
            "f5a7cb95d39446d99782525d52d9e137",
            "38137199725e4dfbafcf740d862682ff",
            "8b843415ca9c44ea9906b6b0eaab612a"
          ]
        }
      },
      "outputs": [
        {
          "output_type": "display_data",
          "data": {
            "text/plain": [
              "  0%|          | 0/5 [00:00<?, ?it/s]"
            ],
            "application/vnd.jupyter.widget-view+json": {
              "version_major": 2,
              "version_minor": 0,
              "model_id": "68bad5fb24fc4dd7997caa0afbd2fc4c"
            }
          },
          "metadata": {}
        },
        {
          "output_type": "stream",
          "name": "stdout",
          "text": [
            "Epoch: 1 | train_loss: 1.6114 | train_acc: 17.64 % | test_loss: 1.6122 | test_acc: 17.63 %\n",
            "Epoch: 2 | train_loss: 1.6114 | train_acc: 17.64 % | test_loss: 1.6122 | test_acc: 17.63 %\n",
            "Epoch: 3 | train_loss: 1.6114 | train_acc: 17.64 % | test_loss: 1.6122 | test_acc: 17.63 %\n",
            "Epoch: 4 | train_loss: 1.6114 | train_acc: 17.63 % | test_loss: 1.6122 | test_acc: 17.63 %\n",
            "Epoch: 5 | train_loss: 1.6114 | train_acc: 17.64 % | test_loss: 1.6122 | test_acc: 17.63 %\n"
          ]
        }
      ],
      "execution_count": 37
    },
    {
      "cell_type": "code",
      "source": [
        "# Train for 20 epochs\n",
        "torch.manual_seed(42)\n",
        "torch.cuda.manual_seed(42)\n",
        "\n",
        "loss_fn = nn.CrossEntropyLoss()\n",
        "optimizer = torch.optim.Adam(params=model_0.parameters(),\n",
        "                             lr=0.001)\n",
        "\n",
        "model_0_results_20_epochs = train(model=model_0,\n",
        "                                  train_dataloader=train_dataloader,\n",
        "                                  test_dataloader=test_dataloader,\n",
        "                                  optimizer=optimizer,\n",
        "                                  loss_fn=loss_fn,\n",
        "                                  epochs=20)"
      ],
      "metadata": {
        "id": "UEtZzyF1QGTq",
        "ExecuteTime": {
          "end_time": "2025-09-17T11:35:51.910456200Z",
          "start_time": "2025-09-17T07:30:26.076853Z"
        },
        "outputId": "4ce8ebdc-12fe-4ba7-dbb5-b79a17483dfd",
        "colab": {
          "base_uri": "https://localhost:8080/",
          "height": 416,
          "referenced_widgets": [
            "0cf7ee828da4449a8ae1267c20e418fc",
            "18a3cdcdaa0a44458c2015dcf4af51a9",
            "93723742705b48fdb574697a65a629f7",
            "0678f673ff424c698d55dfb48d579983",
            "bd29aad4937a46b78ab31772a734476e",
            "14e0029dc3da4fcda1ff5d15975a19ad",
            "3ae7e334c20946ecade7cc71306b482e",
            "8067275781e64b1fba0ba8c03f64900c",
            "e616203be7124150adbafdb1b66e7e3f",
            "38ed139fe8894744ae48557d7e89e0da",
            "0e1a3e9854734d96ade58226aae44f30"
          ]
        }
      },
      "outputs": [
        {
          "output_type": "display_data",
          "data": {
            "text/plain": [
              "  0%|          | 0/20 [00:00<?, ?it/s]"
            ],
            "application/vnd.jupyter.widget-view+json": {
              "version_major": 2,
              "version_minor": 0,
              "model_id": "0cf7ee828da4449a8ae1267c20e418fc"
            }
          },
          "metadata": {}
        },
        {
          "output_type": "stream",
          "name": "stdout",
          "text": [
            "Epoch: 1 | train_loss: 1.5975 | train_acc: 24.59 % | test_loss: 1.5613 | test_acc: 28.12 %\n",
            "Epoch: 2 | train_loss: 1.4968 | train_acc: 32.56 % | test_loss: 1.4507 | test_acc: 34.38 %\n",
            "Epoch: 3 | train_loss: 1.3064 | train_acc: 43.67 % | test_loss: 1.2785 | test_acc: 46.21 %\n",
            "Epoch: 4 | train_loss: 1.1737 | train_acc: 51.55 % | test_loss: 1.1598 | test_acc: 52.34 %\n",
            "Epoch: 5 | train_loss: 1.1063 | train_acc: 54.39 % | test_loss: 1.1060 | test_acc: 57.03 %\n",
            "Epoch: 6 | train_loss: 1.0763 | train_acc: 57.12 % | test_loss: 1.0696 | test_acc: 58.04 %\n",
            "Epoch: 7 | train_loss: 1.0348 | train_acc: 59.34 % | test_loss: 1.0542 | test_acc: 57.03 %\n",
            "Epoch: 8 | train_loss: 1.0029 | train_acc: 59.78 % | test_loss: 1.0290 | test_acc: 58.71 %\n",
            "Epoch: 9 | train_loss: 0.9940 | train_acc: 61.20 % | test_loss: 1.0278 | test_acc: 59.26 %\n",
            "Epoch: 10 | train_loss: 0.9760 | train_acc: 61.60 % | test_loss: 1.0344 | test_acc: 58.71 %\n",
            "Epoch: 11 | train_loss: 0.9605 | train_acc: 61.84 % | test_loss: 1.0323 | test_acc: 59.04 %\n",
            "Epoch: 12 | train_loss: 0.9553 | train_acc: 62.49 % | test_loss: 0.9790 | test_acc: 59.93 %\n",
            "Epoch: 13 | train_loss: 0.9293 | train_acc: 63.39 % | test_loss: 1.0213 | test_acc: 56.92 %\n",
            "Epoch: 14 | train_loss: 0.9249 | train_acc: 63.27 % | test_loss: 0.9728 | test_acc: 60.83 %\n",
            "Epoch: 15 | train_loss: 0.8999 | train_acc: 64.26 % | test_loss: 0.9738 | test_acc: 62.50 %\n",
            "Epoch: 16 | train_loss: 0.8903 | train_acc: 65.62 % | test_loss: 0.9966 | test_acc: 62.61 %\n",
            "Epoch: 17 | train_loss: 0.8734 | train_acc: 65.44 % | test_loss: 0.9708 | test_acc: 59.93 %\n",
            "Epoch: 18 | train_loss: 0.8519 | train_acc: 67.02 % | test_loss: 0.9559 | test_acc: 63.50 %\n",
            "Epoch: 19 | train_loss: 0.8513 | train_acc: 66.84 % | test_loss: 0.9248 | test_acc: 65.51 %\n",
            "Epoch: 20 | train_loss: 0.8359 | train_acc: 68.22 % | test_loss: 0.9650 | test_acc: 62.05 %\n"
          ]
        }
      ],
      "execution_count": 38
    },
    {
      "cell_type": "code",
      "source": [
        "# Train for 50 epochs\n",
        "torch.manual_seed(42)\n",
        "torch.cuda.manual_seed(42)\n",
        "\n",
        "loss_fn = nn.CrossEntropyLoss()\n",
        "optimizer = torch.optim.Adam(params=model_0.parameters(),\n",
        "                             lr=0.001)\n",
        "\n",
        "model_0_results_50_epochs = train(model=model_0,\n",
        "                                  train_dataloader=train_dataloader,\n",
        "                                  test_dataloader=test_dataloader,\n",
        "                                  optimizer=optimizer,\n",
        "                                  loss_fn=loss_fn,\n",
        "                                  epochs=50)"
      ],
      "metadata": {
        "id": "Dwvg40qAQGP9",
        "ExecuteTime": {
          "end_time": "2025-09-17T11:35:51.910456200Z",
          "start_time": "2025-09-17T07:43:57.954926Z"
        },
        "outputId": "d7445736-b440-4a4c-8fe6-48bcd9e721a9",
        "colab": {
          "base_uri": "https://localhost:8080/",
          "height": 967,
          "referenced_widgets": [
            "9236825d74284ac5a7ba184a1e6ddb3a",
            "371986835b19491887dbe146c9377b12",
            "8071ac0479c44a9f86811693a9e93e93",
            "306dda60207b429fa70f3da83d600021",
            "06da27bfe4e84d94903b86c78f61f605",
            "e5f29954c0724c35a87b7d5757bdcab3",
            "fa9fa656ae67491ca102c12d2cfe3c32",
            "989466df9a2b41f28b0b96669587d2d4",
            "ad6027a0ce424fc5a3bd03ee908bf138",
            "ef499928538e434c8153ea6a10c07fe5",
            "2a031f4fb2724beebc9608b6a25a479c"
          ]
        }
      },
      "outputs": [
        {
          "output_type": "display_data",
          "data": {
            "text/plain": [
              "  0%|          | 0/50 [00:00<?, ?it/s]"
            ],
            "application/vnd.jupyter.widget-view+json": {
              "version_major": 2,
              "version_minor": 0,
              "model_id": "9236825d74284ac5a7ba184a1e6ddb3a"
            }
          },
          "metadata": {}
        },
        {
          "output_type": "stream",
          "name": "stdout",
          "text": [
            "Epoch: 1 | train_loss: 0.8242 | train_acc: 67.80 % | test_loss: 0.9817 | test_acc: 62.95 %\n",
            "Epoch: 2 | train_loss: 0.8080 | train_acc: 67.94 % | test_loss: 0.9520 | test_acc: 64.06 %\n",
            "Epoch: 3 | train_loss: 0.8013 | train_acc: 68.09 % | test_loss: 0.9343 | test_acc: 64.17 %\n",
            "Epoch: 4 | train_loss: 0.7882 | train_acc: 69.57 % | test_loss: 0.9311 | test_acc: 66.74 %\n",
            "Epoch: 5 | train_loss: 0.7733 | train_acc: 70.43 % | test_loss: 0.9446 | test_acc: 64.51 %\n",
            "Epoch: 6 | train_loss: 0.7918 | train_acc: 69.86 % | test_loss: 0.9696 | test_acc: 63.73 %\n",
            "Epoch: 7 | train_loss: 0.7605 | train_acc: 71.10 % | test_loss: 0.9245 | test_acc: 64.17 %\n",
            "Epoch: 8 | train_loss: 0.7530 | train_acc: 71.06 % | test_loss: 0.9514 | test_acc: 64.84 %\n",
            "Epoch: 9 | train_loss: 0.7496 | train_acc: 71.28 % | test_loss: 0.9332 | test_acc: 64.96 %\n",
            "Epoch: 10 | train_loss: 0.7454 | train_acc: 71.77 % | test_loss: 0.9458 | test_acc: 63.84 %\n",
            "Epoch: 11 | train_loss: 0.7364 | train_acc: 71.77 % | test_loss: 1.0012 | test_acc: 63.84 %\n",
            "Epoch: 12 | train_loss: 0.7359 | train_acc: 72.68 % | test_loss: 0.9438 | test_acc: 64.73 %\n",
            "Epoch: 13 | train_loss: 0.7209 | train_acc: 72.20 % | test_loss: 0.9605 | test_acc: 63.39 %\n",
            "Epoch: 14 | train_loss: 0.7163 | train_acc: 72.66 % | test_loss: 0.9429 | test_acc: 65.07 %\n",
            "Epoch: 15 | train_loss: 0.7119 | train_acc: 72.86 % | test_loss: 0.9331 | test_acc: 65.07 %\n",
            "Epoch: 16 | train_loss: 0.7075 | train_acc: 72.66 % | test_loss: 0.9534 | test_acc: 66.18 %\n",
            "Epoch: 17 | train_loss: 0.6846 | train_acc: 74.08 % | test_loss: 0.9779 | test_acc: 65.18 %\n",
            "Epoch: 18 | train_loss: 0.6696 | train_acc: 74.11 % | test_loss: 0.9821 | test_acc: 64.62 %\n",
            "Epoch: 19 | train_loss: 0.6797 | train_acc: 73.01 % | test_loss: 0.9600 | test_acc: 65.74 %\n",
            "Epoch: 20 | train_loss: 0.6629 | train_acc: 75.06 % | test_loss: 0.9725 | test_acc: 65.18 %\n",
            "Epoch: 21 | train_loss: 0.6684 | train_acc: 74.02 % | test_loss: 0.9899 | test_acc: 63.62 %\n",
            "Epoch: 22 | train_loss: 0.6597 | train_acc: 74.51 % | test_loss: 0.9461 | test_acc: 66.07 %\n",
            "Epoch: 23 | train_loss: 0.6481 | train_acc: 74.94 % | test_loss: 0.9695 | test_acc: 65.29 %\n",
            "Epoch: 24 | train_loss: 0.6618 | train_acc: 75.03 % | test_loss: 0.9743 | test_acc: 64.73 %\n",
            "Epoch: 25 | train_loss: 0.6507 | train_acc: 75.06 % | test_loss: 0.9969 | test_acc: 63.28 %\n",
            "Epoch: 26 | train_loss: 0.6186 | train_acc: 76.80 % | test_loss: 0.9991 | test_acc: 63.73 %\n",
            "Epoch: 27 | train_loss: 0.6128 | train_acc: 77.29 % | test_loss: 0.9804 | test_acc: 64.84 %\n",
            "Epoch: 28 | train_loss: 0.6245 | train_acc: 76.58 % | test_loss: 0.9905 | test_acc: 64.96 %\n",
            "Epoch: 29 | train_loss: 0.6089 | train_acc: 76.40 % | test_loss: 1.0401 | test_acc: 64.29 %\n",
            "Epoch: 30 | train_loss: 0.6042 | train_acc: 77.44 % | test_loss: 0.9990 | test_acc: 64.17 %\n",
            "Epoch: 31 | train_loss: 0.5876 | train_acc: 78.04 % | test_loss: 1.0090 | test_acc: 64.62 %\n",
            "Epoch: 32 | train_loss: 0.6018 | train_acc: 77.32 % | test_loss: 1.0583 | test_acc: 64.51 %\n",
            "Epoch: 33 | train_loss: 0.5789 | train_acc: 77.93 % | test_loss: 1.0345 | test_acc: 64.96 %\n",
            "Epoch: 34 | train_loss: 0.5797 | train_acc: 78.17 % | test_loss: 1.0723 | test_acc: 63.39 %\n",
            "Epoch: 35 | train_loss: 0.5734 | train_acc: 78.62 % | test_loss: 1.0829 | test_acc: 61.83 %\n",
            "Epoch: 36 | train_loss: 0.5674 | train_acc: 78.65 % | test_loss: 1.1278 | test_acc: 62.95 %\n",
            "Epoch: 37 | train_loss: 0.5762 | train_acc: 78.34 % | test_loss: 1.0730 | test_acc: 63.73 %\n",
            "Epoch: 38 | train_loss: 0.5639 | train_acc: 78.89 % | test_loss: 1.1384 | test_acc: 62.28 %\n",
            "Epoch: 39 | train_loss: 0.5588 | train_acc: 78.89 % | test_loss: 1.1737 | test_acc: 61.50 %\n",
            "Epoch: 40 | train_loss: 0.5613 | train_acc: 79.01 % | test_loss: 1.0394 | test_acc: 64.29 %\n",
            "Epoch: 41 | train_loss: 0.5406 | train_acc: 79.57 % | test_loss: 1.0523 | test_acc: 64.06 %\n",
            "Epoch: 42 | train_loss: 0.5358 | train_acc: 80.43 % | test_loss: 1.0945 | test_acc: 63.39 %\n",
            "Epoch: 43 | train_loss: 0.5369 | train_acc: 79.76 % | test_loss: 1.0832 | test_acc: 63.95 %\n",
            "Epoch: 44 | train_loss: 0.5366 | train_acc: 80.04 % | test_loss: 1.0567 | test_acc: 65.40 %\n",
            "Epoch: 45 | train_loss: 0.5062 | train_acc: 81.18 % | test_loss: 1.1674 | test_acc: 63.17 %\n",
            "Epoch: 46 | train_loss: 0.5051 | train_acc: 81.41 % | test_loss: 1.1484 | test_acc: 61.94 %\n",
            "Epoch: 47 | train_loss: 0.5121 | train_acc: 80.42 % | test_loss: 1.1641 | test_acc: 63.62 %\n",
            "Epoch: 48 | train_loss: 0.4976 | train_acc: 81.73 % | test_loss: 1.1830 | test_acc: 61.94 %\n",
            "Epoch: 49 | train_loss: 0.5012 | train_acc: 81.26 % | test_loss: 1.1406 | test_acc: 63.73 %\n",
            "Epoch: 50 | train_loss: 0.4803 | train_acc: 82.41 % | test_loss: 1.1549 | test_acc: 63.95 %\n"
          ]
        }
      ],
      "execution_count": 39
    },
    {
      "metadata": {
        "ExecuteTime": {
          "end_time": "2025-09-17T11:35:51.910456200Z",
          "start_time": "2025-09-17T09:56:03.936174Z"
        },
        "id": "IK-ID_74iKIL",
        "outputId": "e0fb60db-92f6-4f54-ec80-aa06cbb06a6b",
        "colab": {
          "base_uri": "https://localhost:8080/",
          "height": 872
        }
      },
      "cell_type": "code",
      "source": [
        "# 将50个epoch的结果可视化\n",
        "import matplotlib.pyplot as plt\n",
        "\n",
        "plt.figure(figsize=(10, 10))\n",
        "plt.plot(model_0_results_20_epochs[\"train_loss\"], label=\"Train Loss\")\n",
        "plt.plot(model_0_results_20_epochs[\"test_loss\"], label=\"Test Loss\")\n",
        "plt.title(\"Model 0 Loss Curves\")\n",
        "plt.xlabel(\"Epochs\")\n",
        "plt.ylabel(\"Loss\")\n",
        "plt.legend()\n",
        "plt.show()"
      ],
      "outputs": [
        {
          "output_type": "display_data",
          "data": {
            "text/plain": [
              "<Figure size 1000x1000 with 1 Axes>"
            ],
            "image/png": "[encoded data removed]"
          },
          "metadata": {}
        }
      ],
      "execution_count": 40
    },
    {
      "cell_type": "markdown",
      "source": [
        "It looks like our model is starting to overfit towards the end (performing far better on the training data than on the testing data).\n",
        "\n",
        "In order to fix this, we'd have to introduce ways of preventing overfitting."
      ],
      "metadata": {
        "id": "fn8_fDGzQGMn"
      }
    },
    {
      "cell_type": "markdown",
      "source": [
        "## 6. Double the number of hidden units in your model and train it for 20 epochs, what happens to the results?"
      ],
      "metadata": {
        "id": "qxZW-uAbxe_F"
      }
    },
    {
      "cell_type": "code",
      "source": [
        "# Double the number of hidden units and train for 20 epochs\n",
        "torch.manual_seed(42)\n",
        "torch.cuda.manual_seed(42)\n",
        "\n",
        "model_1 = TinyVGG(input_shape=3,\n",
        "                  hidden_units=20,  # Double the hidden units\n",
        "                  output_shape=len(class_names)).to(device)\n",
        "\n",
        "model_1_results = train(model=model_1,\n",
        "                        train_dataloader=train_dataloader,\n",
        "                        test_dataloader=test_dataloader,\n",
        "                        optimizer=optimizer,\n",
        "                        loss_fn=loss_fn,\n",
        "                        epochs=20)"
      ],
      "metadata": {
        "id": "HdRM86voyC0x",
        "ExecuteTime": {
          "end_time": "2025-09-17T11:35:51.910456200Z",
          "start_time": "2025-09-17T09:56:46.898031Z"
        },
        "outputId": "279095e0-6760-4275-94c8-bc45fdfddb74",
        "colab": {
          "base_uri": "https://localhost:8080/",
          "height": 416,
          "referenced_widgets": [
            "53d6b37a212c4f6a8b18afd3343e2dd4",
            "0647b1eb167f4bf9a863015b0844432f",
            "73f9a28b7d474227bbbe08f0a55dfc02",
            "949736f8ed944ac7a839ba058d6bf699",
            "75bcde91aead40c98bf041027493f47d",
            "a7629145782e4985971670b527fbbb89",
            "4f94f52ec81b42bda213164fe4c1f20f",
            "58fe24e7d4e54c0fa2be8e690c3223b1",
            "fb483a4e626a4bd58376a10e35e6fc97",
            "ffb6cda351424df0a9bf513a42dc3f41",
            "2537ddddd17247ebb99f3e4e27141492"
          ]
        }
      },
      "outputs": [
        {
          "output_type": "display_data",
          "data": {
            "text/plain": [
              "  0%|          | 0/20 [00:00<?, ?it/s]"
            ],
            "application/vnd.jupyter.widget-view+json": {
              "version_major": 2,
              "version_minor": 0,
              "model_id": "53d6b37a212c4f6a8b18afd3343e2dd4"
            }
          },
          "metadata": {}
        },
        {
          "output_type": "stream",
          "name": "stdout",
          "text": [
            "Epoch: 1 | train_loss: 1.6096 | train_acc: 13.64 % | test_loss: 1.6097 | test_acc: 14.17 %\n",
            "Epoch: 2 | train_loss: 1.6097 | train_acc: 13.38 % | test_loss: 1.6097 | test_acc: 14.84 %\n",
            "Epoch: 3 | train_loss: 1.6097 | train_acc: 13.08 % | test_loss: 1.6097 | test_acc: 13.62 %\n",
            "Epoch: 4 | train_loss: 1.6097 | train_acc: 13.61 % | test_loss: 1.6097 | test_acc: 15.40 %\n",
            "Epoch: 5 | train_loss: 1.6097 | train_acc: 13.30 % | test_loss: 1.6097 | test_acc: 15.07 %\n",
            "Epoch: 6 | train_loss: 1.6097 | train_acc: 13.07 % | test_loss: 1.6097 | test_acc: 14.73 %\n",
            "Epoch: 7 | train_loss: 1.6097 | train_acc: 12.97 % | test_loss: 1.6097 | test_acc: 14.62 %\n",
            "Epoch: 8 | train_loss: 1.6097 | train_acc: 13.61 % | test_loss: 1.6097 | test_acc: 14.62 %\n",
            "Epoch: 9 | train_loss: 1.6097 | train_acc: 13.38 % | test_loss: 1.6097 | test_acc: 14.17 %\n",
            "Epoch: 10 | train_loss: 1.6097 | train_acc: 12.89 % | test_loss: 1.6097 | test_acc: 14.51 %\n",
            "Epoch: 11 | train_loss: 1.6097 | train_acc: 12.98 % | test_loss: 1.6097 | test_acc: 14.06 %\n",
            "Epoch: 12 | train_loss: 1.6097 | train_acc: 13.47 % | test_loss: 1.6097 | test_acc: 14.73 %\n",
            "Epoch: 13 | train_loss: 1.6097 | train_acc: 12.92 % | test_loss: 1.6096 | test_acc: 14.84 %\n",
            "Epoch: 14 | train_loss: 1.6097 | train_acc: 13.35 % | test_loss: 1.6096 | test_acc: 14.96 %\n",
            "Epoch: 15 | train_loss: 1.6097 | train_acc: 13.29 % | test_loss: 1.6096 | test_acc: 14.51 %\n",
            "Epoch: 16 | train_loss: 1.6097 | train_acc: 13.38 % | test_loss: 1.6096 | test_acc: 14.06 %\n",
            "Epoch: 17 | train_loss: 1.6097 | train_acc: 13.03 % | test_loss: 1.6097 | test_acc: 14.06 %\n",
            "Epoch: 18 | train_loss: 1.6097 | train_acc: 13.41 % | test_loss: 1.6096 | test_acc: 14.73 %\n",
            "Epoch: 19 | train_loss: 1.6097 | train_acc: 13.32 % | test_loss: 1.6097 | test_acc: 13.95 %\n",
            "Epoch: 20 | train_loss: 1.6097 | train_acc: 13.44 % | test_loss: 1.6097 | test_acc: 14.17 %\n"
          ]
        }
      ],
      "execution_count": 41
    },
    {
      "cell_type": "markdown",
      "source": [
        "It looks like the model is still overfitting, even when changing the number of hidden units.\n",
        "\n",
        "To fix this, we'd have to look at ways to prevent overfitting with our model."
      ],
      "metadata": {
        "id": "THYGHbxyTfzM"
      }
    },
    {
      "cell_type": "markdown",
      "source": [
        "## 7. Double the data you're using with your model from step 6 and train it for 20 epochs, what happens to the results?\n",
        "* **Note:** You can use the [custom data creation notebook](https://github.com/mrdbourke/pytorch-deep-learning/blob/main/extras/04_custom_data_creation.ipynb) to scale up your Food101 dataset.\n",
        "* You can also find the [already formatted double data (20% instead of 10% subset) dataset on GitHub](https://github.com/mrdbourke/pytorch-deep-learning/blob/main/data/pizza_steak_sushi_20_percent.zip), you will need to write download code like in exercise 2 to get it into this notebook."
      ],
      "metadata": {
        "id": "JAPDzW0wxhi3"
      }
    },
    {
      "cell_type": "code",
      "source": [
        "# Download 20% data for Pizza/Steak/Sushi from GitHub\n",
        "import requests\n",
        "import zipfile\n",
        "from pathlib import Path\n",
        "\n",
        "# Setup path to data folder\n",
        "data_path = Path(\"data/\")\n",
        "image_path = data_path / \"pizza_steak_sushi_20_percent\"\n",
        "\n",
        "# If the image folder doesn't exist, download it and prepare it...\n",
        "if image_path.is_dir():\n",
        "    print(f\"{image_path} directory exists.\")\n",
        "else:\n",
        "    print(f\"Did not find {image_path} directory, creating one...\")\n",
        "    image_path.mkdir(parents=True, exist_ok=True)\n",
        "\n",
        "# Download pizza, steak, sushi data\n",
        "with open(data_path / \"pizza_steak_sushi_20_percent.zip\", \"wb\") as f:\n",
        "    request = requests.get(\n",
        "        \"https://github.com/mrdbourke/pytorch-deep-learning/raw/main/data/pizza_steak_sushi_20_percent.zip\")\n",
        "    print(\"Downloading pizza, steak, sushi 20% data...\")\n",
        "    f.write(request.content)\n",
        "\n",
        "# Unzip pizza, steak, sushi data\n",
        "with zipfile.ZipFile(data_path / \"pizza_steak_sushi_20_percent.zip\", \"r\") as zip_ref:\n",
        "    print(\"Unzipping pizza, steak, sushi 20% data...\")\n",
        "    zip_ref.extractall(image_path)"
      ],
      "metadata": {
        "id": "8tWfa7Y0yCkX"
      },
      "execution_count": null,
      "outputs": []
    },
    {
      "cell_type": "code",
      "source": [
        "# See how many images we have\n",
        "walk_through_dir(image_path)"
      ],
      "metadata": {
        "id": "DrFK2ScnVg4q"
      },
      "execution_count": null,
      "outputs": []
    },
    {
      "cell_type": "markdown",
      "source": [
        "Excellent, we now have double the training and testing images..."
      ],
      "metadata": {
        "id": "WhlWd-z-Vk22"
      }
    },
    {
      "cell_type": "code",
      "source": [
        "# Create the train and test paths\n",
        "train_data_20_percent_path = image_path / \"train\"\n",
        "test_data_20_percent_path = image_path / \"test\"\n",
        "\n",
        "train_data_20_percent_path, test_data_20_percent_path"
      ],
      "metadata": {
        "id": "hNzXRfO1Tt1Q"
      },
      "execution_count": null,
      "outputs": []
    },
    {
      "cell_type": "code",
      "source": [
        "# Turn the 20 percent datapaths into Datasets and DataLoaders\n",
        "from torchvision.datasets import ImageFolder\n",
        "from torchvision import transforms\n",
        "from torch.utils.data import DataLoader\n",
        "\n",
        "simple_transform = transforms.Compose([\n",
        "    transforms.Resize((64, 64)),\n",
        "    transforms.ToTensor()\n",
        "])\n",
        "\n",
        "# Create datasets\n",
        "\n",
        "\n",
        "# Create dataloaders\n"
      ],
      "metadata": {
        "id": "R1_xU3FQUPkN"
      },
      "execution_count": null,
      "outputs": []
    },
    {
      "cell_type": "code",
      "source": [
        "# Train a model with increased amount of data\n",
        "torch.manual_seed(42)\n",
        "torch.cuda.manual_seed(42)"
      ],
      "metadata": {
        "id": "BuJ9YpRCVXRm"
      },
      "execution_count": null,
      "outputs": []
    },
    {
      "cell_type": "markdown",
      "source": [
        "## 8. Make a prediction on your own custom image of pizza/steak/sushi (you could even download one from the internet) with your trained model from exercise 7 and share your prediction.\n",
        "* Does the model you trained in exercise 7 get it right?\n",
        "* If not, what do you think you could do to improve it?"
      ],
      "metadata": {
        "id": "bCCVfXk5xjYS"
      }
    },
    {
      "cell_type": "code",
      "source": [
        "class AlexNet(nn.Module):\n",
        "    def __init__(self,\n",
        "                 input_shape: int,\n",
        "                 hidden_units: int,\n",
        "                 output_shape: int):\n",
        "        super().__init__()\n",
        "        self.features = nn.Sequential(\n",
        "            nn.Conv2d(in_channels=input_shape,\n",
        "                      out_channels=hidden_units,\n",
        "                      kernel_size=3,\n",
        "                      stride=4,\n",
        "                      padding=1),\n",
        "            nn.ReLU(),\n",
        "            nn.MaxPool2d(kernel_size=3, stride=2),\n",
        "            nn.Conv2d(in_channels=hidden_units,\n",
        "                      out_channels=hidden_units * 3,\n",
        "                      kernel_size=2,\n",
        "                      stride=1,\n",
        "                      padding=1),\n",
        "            nn.ReLU(),\n",
        "            nn.MaxPool2d(kernel_size=3, stride=2),\n",
        "            nn.Conv2d(in_channels=hidden_units * 3,\n",
        "                      out_channels=hidden_units * 6,\n",
        "                      kernel_size=2,\n",
        "                      stride=1,\n",
        "                      padding=1),\n",
        "            nn.ReLU(),\n",
        "            nn.Conv2d(in_channels=hidden_units * 6,\n",
        "                      out_channels=hidden_units * 6,\n",
        "                      kernel_size=2,\n",
        "                      stride=1,\n",
        "                      padding=1),\n",
        "            nn.ReLU(),\n",
        "            nn.Conv2d(in_channels=hidden_units * 6,\n",
        "                      out_channels=hidden_units * 3,\n",
        "                      kernel_size=2,\n",
        "                      stride=1,\n",
        "                      padding=1),\n",
        "            nn.ReLU(),\n",
        "            nn.MaxPool2d(kernel_size=2, stride=2),\n",
        "            nn.Flatten(),\n",
        "        )\n",
        "        self.classifier = nn.Sequential(\n",
        "            nn.Linear(in_features=9600,\n",
        "                      out_features=hidden_units * 2 * 5 * 5),\n",
        "            nn.ReLU(),\n",
        "            nn.Dropout(p=0.5),\n",
        "            nn.Linear(in_features=hidden_units * 2 * 5 * 5,\n",
        "                      out_features=hidden_units * 3 * 3),\n",
        "            nn.ReLU(),\n",
        "            nn.Dropout(p=0.5),\n",
        "            nn.Linear(in_features=hidden_units * 3 * 3,\n",
        "                      out_features=output_shape)\n",
        "        )\n",
        "\n",
        "    def forward(self, x):\n",
        "        x = self.features(x)\n",
        "        x = self.classifier(x)\n",
        "        return x\n",
        "\n",
        "\n",
        "# from torchinfo import summary\n",
        "\n",
        "model_2 = AlexNet(input_shape=3,\n",
        "                  hidden_units=128,\n",
        "                  output_shape=len(class_names)).to(device)\n",
        "\n",
        "# summary(model_2, (3,64,64))\n",
        "\n",
        "loss_fn = nn.CrossEntropyLoss()\n",
        "optimizer = torch.optim.SGD(model_2.parameters(),\n",
        "                            lr=0.01,\n",
        "                            momentum=0.9)\n",
        "\n",
        "# X = torch.randn(1, 3, 64, 64)\n",
        "# for layer in AlexNet(input_shape=3, hidden_units=64, output_shape=200).features:\n",
        "#     X=layer(X)\n",
        "#     print(layer.__class__.__name__,'output shape:\\t',X.shape)\n",
        "\n",
        "model_2_results = train(model=model_2,\n",
        "                        train_dataloader=train_dataloader,\n",
        "                        test_dataloader=test_dataloader,\n",
        "                        optimizer=optimizer,\n",
        "                        loss_fn=loss_fn,\n",
        "                        epochs=20)"
      ],
      "metadata": {
        "id": "Q1X-33t0vT20",
        "ExecuteTime": {
          "end_time": "2025-09-17T11:35:51.851524Z",
          "start_time": "2025-09-17T11:29:04.564110Z"
        },
        "outputId": "2dfc5d17-7ab2-4882-f493-f116a088c7b7",
        "colab": {
          "base_uri": "https://localhost:8080/",
          "height": 416,
          "referenced_widgets": [
            "b09abf9d2f6544688d405e7600a64778",
            "adf3ad11c08e449c92a54baec4146051",
            "5a9fbca60a57416eb0114d6ea14a4839",
            "d7a977c59baf49b6a4b611e2ce8f70bd",
            "c74f0d6f44be4bceb1faf8bc49a6d769",
            "8998e5790a3a444abbafeaf9da04b6a3",
            "731c0cabad5c436289a138f8c2abf293",
            "052a56c0ec76472399b953e4062b3cbc",
            "aa3787d52ddf47a7bf0e64d6b998a381",
            "7313277b6d624a769d79e4373b84f66d",
            "5ddf63b8d64c4fbb9dd73e123d07babb"
          ]
        }
      },
      "outputs": [
        {
          "output_type": "display_data",
          "data": {
            "text/plain": [
              "  0%|          | 0/20 [00:00<?, ?it/s]"
            ],
            "application/vnd.jupyter.widget-view+json": {
              "version_major": 2,
              "version_minor": 0,
              "model_id": "b09abf9d2f6544688d405e7600a64778"
            }
          },
          "metadata": {}
        },
        {
          "output_type": "stream",
          "name": "stdout",
          "text": [
            "Epoch: 1 | train_loss: 1.6039 | train_acc: 22.70 % | test_loss: 1.5992 | test_acc: 26.67 %\n",
            "Epoch: 2 | train_loss: 1.5989 | train_acc: 23.83 % | test_loss: 1.5987 | test_acc: 26.67 %\n",
            "Epoch: 3 | train_loss: 1.5983 | train_acc: 23.82 % | test_loss: 1.5990 | test_acc: 26.67 %\n",
            "Epoch: 4 | train_loss: 1.5976 | train_acc: 26.64 % | test_loss: 1.5988 | test_acc: 31.14 %\n",
            "Epoch: 5 | train_loss: 1.5966 | train_acc: 27.50 % | test_loss: 1.5975 | test_acc: 33.37 %\n",
            "Epoch: 6 | train_loss: 1.5947 | train_acc: 27.27 % | test_loss: 1.5933 | test_acc: 32.70 %\n",
            "Epoch: 7 | train_loss: 1.5890 | train_acc: 28.67 % | test_loss: 1.5804 | test_acc: 30.02 %\n",
            "Epoch: 8 | train_loss: 1.5497 | train_acc: 29.07 % | test_loss: 1.4770 | test_acc: 32.48 %\n",
            "Epoch: 9 | train_loss: 1.4729 | train_acc: 31.34 % | test_loss: 1.4065 | test_acc: 37.95 %\n",
            "Epoch: 10 | train_loss: 1.3727 | train_acc: 37.98 % | test_loss: 1.2904 | test_acc: 42.19 %\n",
            "Epoch: 11 | train_loss: 1.2991 | train_acc: 42.34 % | test_loss: 1.2514 | test_acc: 40.85 %\n",
            "Epoch: 12 | train_loss: 1.1649 | train_acc: 48.24 % | test_loss: 1.1160 | test_acc: 54.24 %\n",
            "Epoch: 13 | train_loss: 1.1154 | train_acc: 53.08 % | test_loss: 1.0357 | test_acc: 60.49 %\n",
            "Epoch: 14 | train_loss: 1.0361 | train_acc: 58.30 % | test_loss: 1.0133 | test_acc: 60.83 %\n",
            "Epoch: 15 | train_loss: 1.0238 | train_acc: 57.39 % | test_loss: 0.9550 | test_acc: 60.04 %\n",
            "Epoch: 16 | train_loss: 0.9738 | train_acc: 61.01 % | test_loss: 0.9320 | test_acc: 60.71 %\n",
            "Epoch: 17 | train_loss: 0.9566 | train_acc: 61.65 % | test_loss: 0.9716 | test_acc: 62.28 %\n",
            "Epoch: 18 | train_loss: 0.9314 | train_acc: 61.66 % | test_loss: 0.9216 | test_acc: 63.28 %\n",
            "Epoch: 19 | train_loss: 0.8857 | train_acc: 64.81 % | test_loss: 0.8822 | test_acc: 66.96 %\n",
            "Epoch: 20 | train_loss: 0.9222 | train_acc: 62.87 % | test_loss: 0.8645 | test_acc: 65.29 %\n"
          ]
        }
      ],
      "execution_count": 57
    },
    {
      "metadata": {
        "id": "tpIm7JQZiKIM"
      },
      "cell_type": "code",
      "outputs": [],
      "execution_count": null,
      "source": []
    }
  ]
}